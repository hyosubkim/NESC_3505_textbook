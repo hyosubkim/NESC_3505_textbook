{
 "cells": [
  {
   "cell_type": "markdown",
   "metadata": {},
   "source": [
    "# Conditionals\n",
    "---"
   ]
  },
  {
   "cell_type": "markdown",
   "metadata": {
    "jupyter": {
     "outputs_hidden": false
    }
   },
   "source": [
    "## Questions:\n",
    "- How can programs do different things for different data?\n",
    "\n",
    "## Learning Objectives:\n",
    "- Correctly write programs that use `if` and `else` statements and simple Boolean expressions \n",
    "- Trace the execution of conditionals \n",
    "\n",
    "---"
   ]
  },
  {
   "cell_type": "markdown",
   "metadata": {
    "jupyter": {
     "outputs_hidden": false
    }
   },
   "source": [
    "## Use `if` statements to control whether or not a block of code is executed.\n",
    "\n",
    "*   An `if` statement (more properly called a *conditional* statement)\n",
    "    controls whether some block of code is executed or not.\n",
    "*   Structure is similar to a `for` statement:\n",
    "    *   First line opens with `if` and ends with a colon\n",
    "    *   Body containing one or more statements is indented (usually by 4 spaces)\n",
    "    \n",
    "In the next several cells, we'll be considering the size (i.e., the diameter in km) of different planets. "
   ]
  },
  {
   "cell_type": "code",
   "execution_count": 1,
   "metadata": {},
   "outputs": [
    {
     "name": "stdout",
     "output_type": "stream",
     "text": [
      "With a size of 49357 , this is a large planet\n"
     ]
    }
   ],
   "source": [
    "size = 49357\n",
    "\n",
    "if size > 10000:\n",
    "    print('With a size of', size, ', this is a large planet')\n"
   ]
  },
  {
   "cell_type": "code",
   "execution_count": 2,
   "metadata": {},
   "outputs": [],
   "source": [
    "size = 5937\n",
    "if size > 10000:\n",
    "     print('With a size of', size, ', this is a large planet')"
   ]
  },
  {
   "cell_type": "markdown",
   "metadata": {
    "jupyter": {
     "outputs_hidden": false
    }
   },
   "source": [
    "## Conditionals are often used inside loops.\n",
    "\n",
    "*   Not much point using a conditional when we know the value (as above).\n",
    "*   But useful when we have a collection to process.\n"
   ]
  },
  {
   "cell_type": "code",
   "execution_count": 3,
   "metadata": {},
   "outputs": [
    {
     "name": "stdout",
     "output_type": "stream",
     "text": [
      "36100 is large\n",
      "33700 is large\n",
      "10700 is large\n"
     ]
    }
   ],
   "source": [
    "size = [5900, 36100, 33700, 7400, 10700]\n",
    "for s in size:\n",
    "    if s > 10000:\n",
    "        print(s, 'is large')"
   ]
  },
  {
   "cell_type": "markdown",
   "metadata": {
    "jupyter": {
     "outputs_hidden": false
    }
   },
   "source": [
    "## Use `else` to execute a block of code when an `if` condition is *not* true.\n",
    "\n",
    "*   `else` can be used following an `if`.\n",
    "*   Allows us to specify an alternative to execute when the `if` *branch* isn't taken.\n"
   ]
  },
  {
   "cell_type": "code",
   "execution_count": 4,
   "metadata": {},
   "outputs": [
    {
     "name": "stdout",
     "output_type": "stream",
     "text": [
      "5900 is small\n",
      "36100 is large\n",
      "33700 is large\n",
      "7400 is small\n",
      "10700 is large\n"
     ]
    }
   ],
   "source": [
    "size = [5900, 36100, 33700, 7400, 10700]\n",
    "\n",
    "for s in size:\n",
    "    if s > 10000:\n",
    "        print(s, 'is large')\n",
    "    else:\n",
    "        print(s, 'is small')"
   ]
  },
  {
   "cell_type": "markdown",
   "metadata": {
    "jupyter": {
     "outputs_hidden": false
    }
   },
   "source": [
    "## Use `elif` to specify additional tests.\n",
    "\n",
    "- May want to provide several alternative choices, each with its own test.\n",
    "- Use `elif` (short for \"else if\") and a condition to specify these.\n",
    "- Must come before the `else` (which is the \"catch-all\")\n",
    "    "
   ]
  },
  {
   "cell_type": "code",
   "execution_count": 5,
   "metadata": {},
   "outputs": [
    {
     "name": "stdout",
     "output_type": "stream",
     "text": [
      "5900 is small\n",
      "36100 is very large\n",
      "33700 is very large\n",
      "7400 is small\n",
      "10700 is large\n"
     ]
    }
   ],
   "source": [
    "size = [5900, 36100, 33700, 7400, 10700]\n",
    "\n",
    "for s in size:\n",
    "    if s > 30000:\n",
    "        print(s, 'is very large')\n",
    "    elif s > 10000:\n",
    "        print(s, 'is large')\n",
    "    else:\n",
    "        print(s, 'is small')"
   ]
  },
  {
   "cell_type": "markdown",
   "metadata": {
    "jupyter": {
     "outputs_hidden": false
    }
   },
   "source": [
    "## Conditions are tested once, in order.\n",
    "\n",
    "Python steps through the branches of the conditional in order, testing each in turn — so ordering matters!\n",
    "\n",
    "For example, here is a grading scheme no student would want used:"
   ]
  },
  {
   "cell_type": "code",
   "execution_count": 6,
   "metadata": {},
   "outputs": [
    {
     "name": "stdout",
     "output_type": "stream",
     "text": [
      "grade is C\n"
     ]
    }
   ],
   "source": [
    "grade = 85\n",
    "\n",
    "if grade >= 70:\n",
    "    print('grade is C')\n",
    "elif grade >= 80:\n",
    "    print('grade is B')\n",
    "elif grade >= 90:\n",
    "    print('grade is A')"
   ]
  },
  {
   "cell_type": "markdown",
   "metadata": {
    "jupyter": {
     "outputs_hidden": false
    }
   },
   "source": [
    "## We often use conditionals in a loop to modify the values of variables\n",
    "\n"
   ]
  },
  {
   "cell_type": "code",
   "execution_count": 7,
   "metadata": {},
   "outputs": [
    {
     "name": "stdout",
     "output_type": "stream",
     "text": [
      "Step 0 : 5.0\n",
      "Moving too slow\n",
      "Step 1 : 15.0\n",
      "Moving too slow\n",
      "Step 2 : 25.0\n",
      "Moving too fast\n",
      "Step 3 : 20.0\n",
      "Optimal speed\n",
      "Step 4 : 20.0\n",
      "Optimal speed\n"
     ]
    }
   ],
   "source": [
    "velocity = 5.0\n",
    "for i in range(5): # execute the loop 5 times\n",
    "    print('Step', i, ':', velocity)\n",
    "    if velocity > 20.0:\n",
    "        print('Moving too fast')\n",
    "        velocity = velocity - 5.0\n",
    "    elif velocity < 20.0:\n",
    "        print('Moving too slow')\n",
    "        velocity = velocity + 10.0\n",
    "    else:\n",
    "        print('Optimal speed')"
   ]
  },
  {
   "cell_type": "markdown",
   "metadata": {
    "jupyter": {
     "outputs_hidden": false
    }
   },
   "source": [
    "To trace execution, we can create a table showing the values of `i` and `velocity` each time through the loop:\n",
    "\n",
    "| **i** | **velocity** |\n",
    "|-------|--------------|\n",
    "| -     | 5           |\n",
    "| 0     | 5           |\n",
    "| 1     | 15           |\n",
    "| 2     | 25           |\n",
    "| 3     | 20           |\n",
    "| 4     | 20           |\n"
   ]
  },
  {
   "cell_type": "markdown",
   "metadata": {
    "jupyter": {
     "outputs_hidden": false
    }
   },
   "source": [
    "## Compound Relations Using `and` & `or`\n",
    "\n",
    "Often, you want to check if some *combination* of things is true.  You can combine relations within a conditional using `and` and `or`.  Here's an example with the size of the planet and its corresponding biodiversity. In this example, `pop` is short for the population of all living creatures found on the planet (our imaginary space travelers have very advanced measurement devices for counting such things!). Let's define an \"interest\" index for planets whereby a planet is considered \"Very interesting\" if it is large (size > 10,000) and biodiverse (pop > 10 m); \"interesting\" if it is large *or* biodiverse (but not both); 'or \"not interesting\" if it is neither large nor biodiverse (for some reason, our explorers are biased towards big planets populated by many living creatures). \n"
   ]
  },
  {
   "cell_type": "code",
   "execution_count": 8,
   "metadata": {},
   "outputs": [
    {
     "name": "stdout",
     "output_type": "stream",
     "text": [
      "planet is not interesting\n",
      "planet is interesting\n",
      "planet is very interesting\n",
      "planet is not interesting\n",
      "planet is very interesting\n",
      "planet is very interesting\n",
      "planet is interesting\n",
      "planet is not interesting\n"
     ]
    }
   ],
   "source": [
    "size = [5900, 36100, 33700, 7400, 10700, 27538, 36180, 6557]\n",
    "pop = [3.6,    8.2,  10.4,  4.6,   10.1,  10.7,   0.3,  0.7]\n",
    "\n",
    "for i in range(8):\n",
    "    if pop[i] > 10.0 and size[i] > 10000:\n",
    "        print('planet is very interesting')\n",
    "    elif pop[i] > 10.0 or size[i] > 10000:\n",
    "        print('planet is interesting')\n",
    "    else:\n",
    "        print('planet is not interesting')\n",
    "        "
   ]
  },
  {
   "cell_type": "markdown",
   "metadata": {
    "jupyter": {
     "outputs_hidden": false
    }
   },
   "source": [
    "Sometimes you may want to combine multiple `and`/`or` statements. For example, continuing the example above, we could define further nuance whereby a planet could be considered \"very interesting\" if has a population > 10 m *and* it is larger than > 10,000 *or* if it has a size > 30,000 regardless of its population size. We could re-write the first conditional statement from the above example as:\n",
    "\n",
    "~~~python\n",
    "if pop[i] > 10.0 and size[i] > 10000 or size[i] > 30000:\n",
    "    print('planet is very interesting')\n",
    "~~~\n",
    "\n",
    "However, this is potentially ambiguous — it could mean either:\n",
    "\n",
    "- *if population is > 10 and the size is either > 10,000 or > 30,000* \n",
    "- i.e., `if pop[i] > 10.0 and (size[i] > 10000 or size[i] > 30000)`\n",
    "\n",
    "or \n",
    "\n",
    "- *if the population is > 10 and the size is > 10,000, or, if the size is > 30,000*\n",
    "- i.e., `(if pop[i] > 10.0 and size[i] > 10000) or size[i] > 30000`\n",
    "\n",
    "Of the above two examples, only the second meets our new definition of \"very interesting\". The first example will fail because it only tests if size > 30,000 if population is > 10.\n",
    "\n",
    "Python has a precedence order (\"order of operations\") whereby it evaluates `and` before `or`. However, just like with arithmetic, you can and should use parentheses (as in the code examples above)whenever there is possible ambiguity.  A good general rule is to *always* use parentheses when mixing `and` and `or` in the same condition.  "
   ]
  },
  {
   "cell_type": "markdown",
   "metadata": {},
   "source": [
    "---\n",
    "## Exercises\n",
    "\n",
    "### Compound relations\n",
    "\n",
    "Try each of the above three examples of combining `and` and `or` operators and see how the results differ (or not). "
   ]
  },
  {
   "cell_type": "code",
   "execution_count": 9,
   "metadata": {},
   "outputs": [
    {
     "name": "stdout",
     "output_type": "stream",
     "text": [
      "planet is not interesting\n",
      "planet is very interesting\n",
      "planet is very interesting\n",
      "planet is not interesting\n",
      "planet is very interesting\n",
      "planet is very interesting\n",
      "planet is very interesting\n",
      "planet is not interesting\n"
     ]
    }
   ],
   "source": [
    "for i in range(8):\n",
    "    if pop[i] > 10.0 and size[i] > 10000 or size[i] > 30000:\n",
    "        print('planet is very interesting')\n",
    "    elif pop[i] > 10.0 or size[i] > 10000:\n",
    "        print('planet is interesting')\n",
    "    else:\n",
    "        print('planet is not interesting')"
   ]
  },
  {
   "cell_type": "markdown",
   "metadata": {
    "jupyter": {
     "outputs_hidden": false
    }
   },
   "source": [
    " ## Tracing Execution\n",
    "\n",
    "Without executing the code, predict what this program prints. You can then run it to see if your answer is correct.\n",
    "\n",
    "~~~python\n",
    "pressure = 71.9\n",
    "    \n",
    "if pressure > 50.0:\n",
    "     pressure = 25.0\n",
    "elif pressure <= 50.0:\n",
    "     pressure = 0.0\n",
    "        \n",
    "print(pressure)\n",
    "~~~"
   ]
  },
  {
   "cell_type": "markdown",
   "metadata": {
    "jupyter": {
     "outputs_hidden": false
    }
   },
   "source": [
    " ## Trimming Values\n",
    "\n",
    "Fill in the blanks so that this program creates a new list containing zeroes where the original list's values were negative, and ones where the original list's values were positive.\n",
    "\n",
    "~~~python\n",
    "original = [-1.5, 0.2, 0.4, 0.0, -1.3, 0.4]\n",
    "result = ____\n",
    "for value in original:\n",
    "    if ____:\n",
    "        result.append(0)\n",
    "    else:\n",
    "        ____\n",
    "            \n",
    "print(result)\n",
    "~~~"
   ]
  },
  {
   "cell_type": "code",
   "execution_count": null,
   "metadata": {},
   "outputs": [],
   "source": []
  },
  {
   "cell_type": "markdown",
   "metadata": {
    "jupyter": {
     "outputs_hidden": false
    }
   },
   "source": [
    "```{admonition} Click the button to reveal the solution\n",
    ":class: dropdown\n",
    "~~~python\n",
    "original = [-1.5, 0.2, 0.4, 0.0, -1.3, 0.4]\n",
    "result = []\n",
    "for value in original:\n",
    "    if value < 0.0:\n",
    "        result.append(0)\n",
    "    else:\n",
    "        result.append(1)\n",
    "\n",
    "print(result)\n",
    "~~~\n",
    "```"
   ]
  },
  {
   "cell_type": "markdown",
   "metadata": {
    "jupyter": {
     "outputs_hidden": false
    }
   },
   "source": [
    "## Initializing\n",
    "\n",
    "Modify this program so that it finds the largest and smallest values in the list\n",
    "no matter what the range of values originally is.\n",
    "\n",
    "~~~python\n",
    "values = [-2, 1, 65, 78, -54, -24, 100]\n",
    "\n",
    "# Initialize accumulator variables as numeric with no value\n",
    "smallest = None\n",
    "largest = None\n",
    "\n",
    "for v in values:\n",
    "    # test if accumulator variables have a value or are None\n",
    "    if ____:\n",
    "        smallest = v\n",
    "        largest = v\n",
    "    # If accumulators are not none, test if they should be updated with current value of v\n",
    "    ____:\n",
    "        smallest = min(____, v)\n",
    "        largest = max(____, v)\n",
    "        \n",
    "print(smallest, largest)\n",
    "~~~"
   ]
  },
  {
   "cell_type": "markdown",
   "metadata": {
    "jupyter": {
     "outputs_hidden": false
    }
   },
   "source": [
    "```{admonition} Click the button to reveal the solution\n",
    ":class: dropdown\n",
    "~~~python\n",
    "values = [-2, 1, 65, 78, -54, -24, 100]\n",
    "smallest = None\n",
    "largest = None\n",
    "\n",
    "for v in values:\n",
    "    if smallest==None and largest==None:\n",
    "        smallest, largest = v, v\n",
    "    else:\n",
    "        smallest = min(smallest, v)\n",
    "        largest = max(largest, v)\n",
    "\n",
    "print(smallest, largest)\n",
    "~~~\n",
    "```"
   ]
  },
  {
   "cell_type": "markdown",
   "metadata": {},
   "source": [
    "### Follow-Up Questions\n",
    "- What would be a simpler way of finding the smallest and largest values in the list `values`?\n",
    "- What are the advantages and disadvantages of using the method above to find the range of the data?"
   ]
  },
  {
   "cell_type": "markdown",
   "metadata": {},
   "source": [
    "## Identifying Variable Name Errors\n",
    "\n",
    "1. Read the code below and try to identify what the errors are *without* running it\n",
    "2. Run the code and read the error message\n",
    "    - What type of `NameError` do you think this is?\n",
    "    - Is it a string with no quotes, a misspelled variable, or a variable that should have been defined but was not?\n",
    "3. Fix the error\n",
    "4. Repeat steps 2 and 3, until you have fixed all the errors"
   ]
  },
  {
   "cell_type": "code",
   "execution_count": 10,
   "metadata": {},
   "outputs": [
    {
     "ename": "NameError",
     "evalue": "name 'Number' is not defined",
     "output_type": "error",
     "traceback": [
      "\u001b[0;31m---------------------------------------------------------------------------\u001b[0m",
      "\u001b[0;31mNameError\u001b[0m                                 Traceback (most recent call last)",
      "Cell \u001b[0;32mIn[10], line 3\u001b[0m\n\u001b[1;32m      1\u001b[0m \u001b[38;5;28;01mfor\u001b[39;00m number \u001b[38;5;129;01min\u001b[39;00m \u001b[38;5;28mrange\u001b[39m(\u001b[38;5;241m10\u001b[39m):\n\u001b[1;32m      2\u001b[0m     \u001b[38;5;66;03m# use a if the number is a multiple of 3, otherwise use b\u001b[39;00m\n\u001b[0;32m----> 3\u001b[0m     \u001b[38;5;28;01mif\u001b[39;00m (\u001b[43mNumber\u001b[49m \u001b[38;5;241m%\u001b[39m \u001b[38;5;241m3\u001b[39m) \u001b[38;5;241m==\u001b[39m \u001b[38;5;241m0\u001b[39m:\n\u001b[1;32m      4\u001b[0m         message \u001b[38;5;241m=\u001b[39m message \u001b[38;5;241m+\u001b[39m a\n\u001b[1;32m      5\u001b[0m     \u001b[38;5;28;01melse\u001b[39;00m:\n",
      "\u001b[0;31mNameError\u001b[0m: name 'Number' is not defined"
     ]
    }
   ],
   "source": [
    "for number in range(10):\n",
    "    # use a if the number is a multiple of 3, otherwise use b\n",
    "    if (Number % 3) == 0:\n",
    "        message = message + a\n",
    "    else:\n",
    "        message = message + \"b\"\n",
    "        \n",
    "print(message)"
   ]
  },
  {
   "cell_type": "markdown",
   "metadata": {},
   "source": [
    "```{admonition} Click the button to reveal the solution\n",
    ":class: dropdown\n",
    "\n",
    "Python variable names are case sensitive: `number` and `Number` refer to different variables. The variable `message` needs to be initialized as an empty string. We want to add the string `\"a\"` to `message`, not the undefined variable `a`.\n",
    "\n",
    "~~~python\n",
    "message = ''\n",
    "for number in range(10):\n",
    "    # use a if the number is a multiple of 3, otherwise use b\n",
    "    if (number % 3) == 0:\n",
    "        message = message + 'a'\n",
    "    else:\n",
    "        message = message + 'b'\n",
    "print(message)\n",
    "~~~\n",
    "```"
   ]
  },
  {
   "cell_type": "markdown",
   "metadata": {
    "jupyter": {
     "outputs_hidden": false
    }
   },
   "source": [
    "## Summary of Key Points:\n",
    "- Use `if` statements to control whether or not a block of code is executed.\n",
    "- Conditionals are often used inside loops.\n",
    "- Use `else` to execute a block of code when an `if` condition is *not* true.\n",
    "- Use `elif` to specify additional tests.\n",
    "- Conditions are tested once, in order."
   ]
  },
  {
   "cell_type": "markdown",
   "metadata": {},
   "source": [
    "---\n",
    "This section was adapted from Aaron J. Newman's [Data Science for Psychology and Neuroscience - in Python](https://neuraldatascience.io/intro.html) and Software Carpentry's [Plotting and Programming in Python](http://swcarpentry.github.io/python-novice-gapminder/) workshop."
   ]
  }
 ],
 "metadata": {
  "kernelspec": {
   "display_name": "Python 3 (ipykernel)",
   "language": "python",
   "name": "python3"
  },
  "language_info": {
   "codemirror_mode": {
    "name": "ipython",
    "version": 3
   },
   "file_extension": ".py",
   "mimetype": "text/x-python",
   "name": "python",
   "nbconvert_exporter": "python",
   "pygments_lexer": "ipython3",
   "version": "3.10.8"
  }
 },
 "nbformat": 4,
 "nbformat_minor": 4
}
