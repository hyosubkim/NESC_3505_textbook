{
 "cells": [
  {
   "cell_type": "markdown",
   "id": "7a78a776-b5c4-41f2-b5b1-6c81c0ae4935",
   "metadata": {},
   "source": [
    "# Introduction to NumPy\n",
    "---\n"
   ]
  },
  {
   "cell_type": "markdown",
   "id": "eeea4d32-0fe7-4e23-97fe-9dc92f5663a7",
   "metadata": {},
   "source": [
    "<div class=\"alert alert-block alert-info\">\n",
    "<b>Note:</b> This chapter has been adapted from <a href=\"https://numpy.org/devdocs/user/absolute_beginners.html#adding-removing-and-sorting-elements\">NumPy's User Guide</a>. The portion on Python libraries was adapted from Aaron J. Newman's online textbook <a href=\"https://neuraldatascience.io/intro.html\">Data Science for Psychology and Neuroscience - in Python</a>.\n",
    "</div>"
   ]
  },
  {
   "cell_type": "markdown",
   "id": "02795d92-8c76-4014-80b4-5213fd2987c1",
   "metadata": {},
   "source": [
    "Welcome to NumPy!\n",
    "-----------------\n",
    "\n",
    "NumPy (**Numerical Python**) is an open source Python library that\\'s\n",
    "used in almost every field of science and engineering. It\\'s the\n",
    "universal standard for working with numerical data in Python, and it\\'s\n",
    "at the core of the scientific Python and PyData ecosystems. NumPy users\n",
    "include everyone from beginning coders to experienced researchers doing\n",
    "state-of-the-art scientific and industrial research and development. The\n",
    "NumPy API is used extensively in Pandas, SciPy, Matplotlib,\n",
    "scikit-learn, scikit-image and most other data science and scientific\n",
    "Python packages.\n",
    "\n",
    "The NumPy library contains multidimensional array and matrix data\n",
    "structures (you\\'ll find more information about this in later sections).\n",
    "It provides **ndarray**, a homogeneous n-dimensional array object, with\n",
    "methods to efficiently operate on it. (\"Homogeneous\" simply means the data \n",
    "within the object are all of the same *type*, whether string, integer, \n",
    "float, etc.) NumPy can be used to perform a\n",
    "wide variety of mathematical operations on arrays. It adds powerful data\n",
    "structures to Python that guarantee efficient calculations with arrays\n",
    "and matrices and it supplies an enormous library of high-level\n",
    "mathematical functions that operate on these arrays and matrices.\n",
    "\n",
    "Learn more about NumPy [here](https://numpy.org/doc/stable/user/whatisnumpy.html)."
   ]
  },
  {
   "cell_type": "markdown",
   "id": "021e615e-ae08-43e5-b30d-8ce7bc7c13ca",
   "metadata": {},
   "source": [
    "## About Python Libraries (adapted from NDS nb on pandas)\n",
    "\n",
    "NumPy is an example of a Python library. A **library** is a collection of files (called *modules*) that contains functions for use by other programs. Libraries provide ways of extending Python's functionality in different ways. They may also contain data values (e.g., numerical constants), entire sample data sets, and other things. \n",
    "\n",
    "The Python [standard library](https://docs.python.org/3/library/) is an extensive suite of modules that comes with Python itself. Everything we've done so far in this workshop has been part of the standard library. Many additional libraries are available; Syzygy has a large number of extra libraries already installed.\n",
    "\n",
    "To use a library in a particular Jupyter notebook or other Python program, we must import it using the `import` statement, like this:\n",
    "\n",
    "~~~python\n",
    "import numpy\n",
    "~~~\n",
    "\n",
    "Since some package names are long, and adding the name to every function can result in a lot of typing, Python also allows us to assign an *alias* — a shorter name — to a library when we import it. For example, the convention for NumPy is to give it the alias `np` like this:\n",
    "\n",
    "~~~python\n",
    "import numpy as np\n",
    "~~~\n"
   ]
  },
  {
   "cell_type": "markdown",
   "id": "88ef6370-d595-4965-b63a-bf8d119a121f",
   "metadata": {},
   "source": [
    "How to import NumPy\n",
    "-------------------\n",
    "\n",
    "Go ahead and import NumPy in your Jupyter notebook."
   ]
  },
  {
   "cell_type": "code",
   "execution_count": 2,
   "id": "df0fc141-7602-49b9-b0a9-9ce99b5ad856",
   "metadata": {},
   "outputs": [],
   "source": [
    "import numpy as np"
   ]
  },
  {
   "cell_type": "markdown",
   "id": "9641be06-b90e-4535-a8d7-c4b9bd5d1cc7",
   "metadata": {},
   "source": [
    "`np` is a widely adopted alias for NumPy that you should use\n",
    "so that anyone working with your code can easily understand it."
   ]
  },
  {
   "cell_type": "markdown",
   "id": "2c2ccdc2-7760-4544-9b8a-bb3605e73ef0",
   "metadata": {},
   "source": [
    "What's the difference between a Python list and a NumPy array?\n",
    "--------------------------------------------------------------\n",
    "\n",
    "NumPy gives you an enormous range of fast and efficient ways of creating\n",
    "arrays and manipulating numerical data inside them. While a Python list\n",
    "can contain different data types within a single list, all of the\n",
    "elements in a NumPy array should be homogeneous. The mathematical\n",
    "operations that are meant to be performed on arrays would be extremely\n",
    "inefficient if the arrays weren\\'t homogeneous.\n",
    "\n",
    "**Why use NumPy?**\n",
    "\n",
    "NumPy arrays are faster and more compact than Python lists. An array\n",
    "consumes less memory and is convenient to use. NumPy uses much less\n",
    "memory to store data and it provides a mechanism of specifying the data\n",
    "types. This allows the code to be optimized even further."
   ]
  },
  {
   "cell_type": "markdown",
   "id": "7e0f0dc6-4e00-4182-9f0c-9f2af162d1e0",
   "metadata": {},
   "source": [
    "What is an array?\n",
    "-----------------\n",
    "\n",
    "An array is a central data structure of the NumPy library. An array is a\n",
    "grid of values and it contains information about the raw data, how to\n",
    "locate an element, and how to interpret an element. It has a grid of\n",
    "elements that can be indexed in\n",
    "[various ways](https://numpy.org/devdocs/user/quickstart.html#quickstart-indexing-slicing-and-iterating). \n",
    "The elements are all of the same type, referred to as the\n",
    "array `dtype`.\n",
    "\n",
    "An array can be indexed by a tuple (Python data type similar to lists, but immutable) of nonnegative integers, by booleans,\n",
    "by another array, or by integers. The `rank` of the array is the number\n",
    "of dimensions. The `shape` of the array is a tuple of integers giving\n",
    "the size of the array along each dimension.\n",
    "\n",
    "One way we can initialize NumPy arrays is from Python lists, using\n",
    "nested lists for two- or higher-dimensional data.\n",
    "\n",
    "For example:"
   ]
  },
  {
   "cell_type": "code",
   "execution_count": 5,
   "id": "ec976e0b-1bf4-4365-bbf0-937b518ab0ff",
   "metadata": {},
   "outputs": [],
   "source": [
    "a = np.array([1, 2, 3, 4, 5, 6])"
   ]
  },
  {
   "cell_type": "markdown",
   "id": "031d139d-4d90-48ad-840f-72025e253b2d",
   "metadata": {},
   "source": [
    "or:"
   ]
  },
  {
   "cell_type": "code",
   "execution_count": 6,
   "id": "0f448e2a-aeb2-4037-bac5-a04cf3249bc5",
   "metadata": {},
   "outputs": [],
   "source": [
    "a = np.array([[1, 2, 3, 4], [5, 6, 7, 8], [9, 10, 11, 12]])"
   ]
  },
  {
   "cell_type": "markdown",
   "id": "b284d729-2384-45f5-b8be-5a7afe08c3af",
   "metadata": {},
   "source": [
    "We can access the elements in the array using square brackets. When\n",
    "you\\'re accessing elements, remember that indexing in NumPy starts at 0.\n",
    "That means that if you want to access the first element in your array,\n",
    "you\\'ll be accessing element \\\"0\\\"."
   ]
  },
  {
   "cell_type": "code",
   "execution_count": 7,
   "id": "06794c04-7eb7-485d-a8f0-107e38d59609",
   "metadata": {},
   "outputs": [
    {
     "name": "stdout",
     "output_type": "stream",
     "text": [
      "[1 2 3 4]\n"
     ]
    }
   ],
   "source": [
    "print(a[0])"
   ]
  },
  {
   "cell_type": "markdown",
   "id": "33d527ce-6151-4aa9-9bd4-bbc4d1c36f9b",
   "metadata": {},
   "source": [
    "More information about arrays\n",
    "-----------------------------\n",
    "\n",
    "*This section covers* `1D array`, `2D array`, `ndarray`, `vector`,\n",
    "`matrix`\n",
    "\n",
    "------------------------------------------------------------------------\n",
    "\n",
    "You might occasionally hear an array referred to as a \\\"ndarray,\\\" which\n",
    "is shorthand for \\\"N-dimensional array.\\\" An N-dimensional array is\n",
    "simply an array with any number of dimensions. You might also hear\n",
    "**1-D**, or one-dimensional array, **2-D**, or two-dimensional array,\n",
    "and so on. The NumPy `ndarray` class is used to represent both matrices\n",
    "and vectors. A **vector** is an array with a single dimension (there\\'s\n",
    "no difference between row and column vectors), while a **matrix** refers\n",
    "to an array with two dimensions. For **3-D** or higher dimensional\n",
    "arrays, the term **tensor** is also commonly used."
   ]
  },
  {
   "cell_type": "markdown",
   "id": "500e30e1-f714-4a6b-8f5f-fc88c4b1b096",
   "metadata": {},
   "source": [
    "**What are the attributes of an array?**\n",
    "\n",
    "An array is usually a fixed-size container of items of the same type and\n",
    "size. The number of dimensions and items in an array is defined by its\n",
    "shape. The shape of an array is a tuple of non-negative integers that\n",
    "specify the sizes of each dimension.\n",
    "\n",
    "In NumPy, dimensions are called **axes**. This means that if you have a\n",
    "2D array that looks like this:\n",
    "\n",
    "    [[0., 0., 0.],\n",
    "     [1., 1., 1.]]\n",
    "\n",
    "Your array has 2 axes. The first axis has a length of 2 and the second\n",
    "axis has a length of 3.\n",
    "\n",
    "Just like in other Python container objects, the contents of an array\n",
    "can be accessed and modified by indexing or slicing the array. Unlike\n",
    "the typical container objects, different arrays can share the same data,\n",
    "so changes made on one array might be visible in another.\n",
    "\n",
    "Array **attributes** reflect information intrinsic to the array itself.\n",
    "If you need to get, or even set, properties of an array without creating\n",
    "a new array, you can often access an array through its attributes.\n",
    "\n",
    "`Read more about array attributes here <arrays.ndarray>`{.interpreted-text\n",
    "role=\"ref\"} and learn about\n",
    "`array objects here <arrays>`{.interpreted-text role=\"ref\"}."
   ]
  },
  {
   "cell_type": "markdown",
   "id": "88bf935e-1399-47d5-bdf3-501bae4aad6e",
   "metadata": {},
   "source": [
    "How to create a basic array\n",
    "---------------------------\n",
    "\n",
    "*This section covers* `np.array()`, `np.zeros()`, `np.ones()`,\n",
    "`np.empty()`, `np.arange()`, `np.linspace()`, `dtype`\n",
    "\n",
    "------------------------------------------------------------------------\n",
    "\n",
    "To create a NumPy array, you can use the function `np.array()`.\n",
    "\n",
    "All you need to do to create a simple array is pass a list to it. If you\n",
    "choose to, you can also specify the type of data in your list.\n",
    "`You can find more information about data types here <arrays.dtypes>`{.interpreted-text\n",
    "role=\"ref\"}. :"
   ]
  },
  {
   "cell_type": "code",
   "execution_count": 8,
   "id": "c4aa1cc8-c1fd-478d-b5be-20291e424e36",
   "metadata": {},
   "outputs": [],
   "source": [
    "import numpy as np\n",
    "a = np.array([1, 2, 3])"
   ]
  },
  {
   "cell_type": "markdown",
   "id": "b9e6cd01-bf01-46fa-860e-0a6f4646640e",
   "metadata": {},
   "source": [
    "You can visualize your array this way:\n",
    "\n",
    "![image](images/np_array.png)\n",
    "\n",
    "*Be aware that these visualizations are meant to simplify ideas and give\n",
    "you a basic understanding of NumPy concepts and mechanics. Arrays and\n",
    "array operations can be more complicated than are captured here!*\n",
    "\n",
    "Besides creating an array from a sequence of elements, you can easily\n",
    "create an array filled with `0`\\'s:"
   ]
  },
  {
   "cell_type": "code",
   "execution_count": 9,
   "id": "bdd5dc5d-5052-48c0-86e8-80a2a39b3ccb",
   "metadata": {},
   "outputs": [
    {
     "data": {
      "text/plain": [
       "array([0., 0.])"
      ]
     },
     "execution_count": 9,
     "metadata": {},
     "output_type": "execute_result"
    }
   ],
   "source": [
    "np.zeros(2)"
   ]
  },
  {
   "cell_type": "markdown",
   "id": "d5d6701f-eac2-4170-a8d4-4d922d33c019",
   "metadata": {},
   "source": [
    "Or an array filled with `1`\\'s:"
   ]
  },
  {
   "cell_type": "code",
   "execution_count": 13,
   "id": "883ed47b-91ad-43c0-a41f-5135d7a71fa9",
   "metadata": {},
   "outputs": [
    {
     "data": {
      "text/plain": [
       "array([1., 1.])"
      ]
     },
     "execution_count": 13,
     "metadata": {},
     "output_type": "execute_result"
    }
   ],
   "source": [
    "np.ones(2)"
   ]
  },
  {
   "cell_type": "markdown",
   "id": "394be90a-76a4-44a6-9e2f-a53c0b26a07d",
   "metadata": {},
   "source": [
    "Or even an empty array! The function `empty` creates an array whose\n",
    "initial content is random and depends on the state of the memory. The\n",
    "reason to use `empty` over `zeros` (or something similar) is speed -\n",
    "just make sure to fill every element afterwards! :"
   ]
  },
  {
   "cell_type": "code",
   "execution_count": 14,
   "id": "d6b7a0ad-692f-41ca-ba54-523aed85121b",
   "metadata": {},
   "outputs": [
    {
     "data": {
      "text/plain": [
       "array([1., 1.])"
      ]
     },
     "execution_count": 14,
     "metadata": {},
     "output_type": "execute_result"
    }
   ],
   "source": [
    "# Create an empty array with 2 elements\n",
    "np.empty(2) "
   ]
  },
  {
   "cell_type": "markdown",
   "id": "8791db5b-d8dd-4b48-b944-8946500a046b",
   "metadata": {},
   "source": [
    "You can create an array with a range of elements:"
   ]
  },
  {
   "cell_type": "code",
   "execution_count": 15,
   "id": "c4e4eb50-b552-4be2-931a-35b0b4f46183",
   "metadata": {},
   "outputs": [
    {
     "data": {
      "text/plain": [
       "array([0, 1, 2, 3])"
      ]
     },
     "execution_count": 15,
     "metadata": {},
     "output_type": "execute_result"
    }
   ],
   "source": [
    "np.arange(4)"
   ]
  },
  {
   "cell_type": "markdown",
   "id": "b1556d59-e228-46eb-a903-955c0fe078ac",
   "metadata": {},
   "source": [
    "And even an array that contains a range of evenly spaced intervals. To\n",
    "do this, you will specify the **first number**, **last number**, and the\n",
    "**step size**. :"
   ]
  },
  {
   "cell_type": "code",
   "execution_count": 16,
   "id": "6c5b682e-9a17-44b3-b4f0-a5f9d7e22e09",
   "metadata": {},
   "outputs": [
    {
     "data": {
      "text/plain": [
       "array([2, 4, 6, 8])"
      ]
     },
     "execution_count": 16,
     "metadata": {},
     "output_type": "execute_result"
    }
   ],
   "source": [
    "np.arange(2, 9, 2)"
   ]
  },
  {
   "cell_type": "markdown",
   "id": "5deaae97-409f-4d1c-8864-e09e7847229b",
   "metadata": {},
   "source": [
    "You can also use `np.linspace()` to create an array with values that are\n",
    "spaced linearly in a specified interval:"
   ]
  },
  {
   "cell_type": "code",
   "execution_count": 17,
   "id": "0a300856-0c44-4a41-81e0-e8d743ae0261",
   "metadata": {},
   "outputs": [
    {
     "data": {
      "text/plain": [
       "array([ 0. ,  2.5,  5. ,  7.5, 10. ])"
      ]
     },
     "execution_count": 17,
     "metadata": {},
     "output_type": "execute_result"
    }
   ],
   "source": [
    "np.linspace(0, 10, num=5)"
   ]
  },
  {
   "cell_type": "markdown",
   "id": "870e9dce-5950-4d99-9a0f-76e7df8fb4b5",
   "metadata": {},
   "source": [
    "**Specifying your data type**\n",
    "\n",
    "While the default data type is floating point (`np.float64`), you can\n",
    "explicitly specify which data type you want using the `dtype` keyword. :"
   ]
  },
  {
   "cell_type": "code",
   "execution_count": 18,
   "id": "bf8fb0f0-0cfb-4c2c-951a-52785f378def",
   "metadata": {},
   "outputs": [
    {
     "data": {
      "text/plain": [
       "array([1, 1])"
      ]
     },
     "execution_count": 18,
     "metadata": {},
     "output_type": "execute_result"
    }
   ],
   "source": [
    "x = np.ones(2, dtype=np.int64)\n",
    "x"
   ]
  },
  {
   "cell_type": "markdown",
   "id": "689479f9-c6d5-4ee3-8c7c-1b0b4440867e",
   "metadata": {},
   "source": [
    "`Learn more about creating arrays here <quickstart.array-creation>`{.interpreted-text\n",
    "role=\"ref\"}"
   ]
  },
  {
   "cell_type": "markdown",
   "id": "b7acc00e-e923-4bef-b3d0-ab9e7f231f8e",
   "metadata": {},
   "source": [
    "Adding, removing, and sorting elements\n",
    "--------------------------------------\n",
    "\n",
    "*This section covers* `np.sort()`, `np.concatenate()`\n",
    "\n",
    "------------------------------------------------------------------------\n",
    "\n",
    "Sorting an element is simple with `np.sort()`. You can specify the axis,\n",
    "kind, and order when you call the function.\n",
    "\n",
    "If you start with this array:"
   ]
  },
  {
   "cell_type": "code",
   "execution_count": 19,
   "id": "6eb5589f-f721-403a-b839-5ddb1dcda62c",
   "metadata": {},
   "outputs": [],
   "source": [
    "arr = np.array([2, 1, 5, 3, 7, 4, 6, 8])"
   ]
  },
  {
   "cell_type": "markdown",
   "id": "9a75a840-557d-42ae-a0b6-4b344bcc4eb0",
   "metadata": {},
   "source": [
    "You can quickly sort the numbers in ascending order with:"
   ]
  },
  {
   "cell_type": "code",
   "execution_count": 20,
   "id": "adff9320-375a-4d84-ad76-5b558ef37b3d",
   "metadata": {},
   "outputs": [
    {
     "data": {
      "text/plain": [
       "array([1, 2, 3, 4, 5, 6, 7, 8])"
      ]
     },
     "execution_count": 20,
     "metadata": {},
     "output_type": "execute_result"
    }
   ],
   "source": [
    "np.sort(arr)"
   ]
  },
  {
   "cell_type": "markdown",
   "id": "ba0b8d42-f857-4403-a6b0-374d1dd6329b",
   "metadata": {},
   "source": [
    "In addition to sort, which returns a sorted copy of an array, you can\n",
    "use:\n",
    "\n",
    "-   [argsort](https://numpy.org/devdocs/reference/generated/numpy.argsort.html#numpy.argsort), which is an indirect sort along a specified)\n",
    "    axis,\n",
    "-   [lexsort](https://numpy.org/devdocs/reference/generated/numpy.lexsort.html#numpy.lexsort), which is an indirect stable sort on multiple\n",
    "    keys,\n",
    "-   [searchsorted](https://numpy.org/devdocs/reference/generated/numpy.searchsorted.html#numpy.searchsorted), which will find elements in a sorted\n",
    "    array, and\n",
    "-   [partition](https://numpy.org/devdocs/reference/generated/numpy.partition.html#numpy.partition), which is a partial sort.\n",
    "\n",
    "To read more about sorting an array, see: [sort](https://numpy.org/devdocs/reference/generated/numpy.sort.html#numpy.sort).\n",
    "\n",
    "If you start with these arrays:"
   ]
  },
  {
   "cell_type": "code",
   "execution_count": 21,
   "id": "1459d494-d7e1-46de-a185-68a0f5df1ac1",
   "metadata": {},
   "outputs": [],
   "source": [
    "a = np.array([1, 2, 3, 4])\n",
    "b = np.array([5, 6, 7, 8])"
   ]
  },
  {
   "cell_type": "markdown",
   "id": "0b367e31-7926-4744-bb9a-d6bb8d020e16",
   "metadata": {},
   "source": [
    "You can concatenate them with `np.concatenate()`:"
   ]
  },
  {
   "cell_type": "code",
   "execution_count": 22,
   "id": "bed006a5-4642-4488-97bd-c079cd5c46f1",
   "metadata": {},
   "outputs": [
    {
     "data": {
      "text/plain": [
       "array([1, 2, 3, 4, 5, 6, 7, 8])"
      ]
     },
     "execution_count": 22,
     "metadata": {},
     "output_type": "execute_result"
    }
   ],
   "source": [
    "np.concatenate((a, b))"
   ]
  },
  {
   "cell_type": "markdown",
   "id": "a011a95a-7198-44e6-827b-1e0e88ade028",
   "metadata": {},
   "source": [
    "Or, if you start with these arrays:"
   ]
  },
  {
   "cell_type": "code",
   "execution_count": 23,
   "id": "feee2ecf-089f-421b-ab86-ab0bde3d1233",
   "metadata": {},
   "outputs": [],
   "source": [
    "x = np.array([[1, 2], [3, 4]])\n",
    "y = np.array([[5, 6]])"
   ]
  },
  {
   "cell_type": "markdown",
   "id": "e8b9344a-0617-4887-a743-94c7da35a146",
   "metadata": {},
   "source": [
    "You can concatenate them with:"
   ]
  },
  {
   "cell_type": "markdown",
   "id": "07a1c6b3-be0e-41f8-9a45-8f62226e252f",
   "metadata": {},
   "source": [
    "np.concatenate((x, y), axis=0)"
   ]
  },
  {
   "cell_type": "markdown",
   "id": "105055e5-cf5f-4db8-a352-dca6f7d89563",
   "metadata": {},
   "source": [
    "In order to remove elements from an array, it\\'s simple to use indexing\n",
    "to select the elements that you want to keep.\n",
    "\n",
    "To read more about concatenate, see: [concatenate](https://numpy.org/devdocs/reference/generated/numpy.concatenate.html#numpy.concatenate)."
   ]
  },
  {
   "cell_type": "markdown",
   "id": "64b87af7-e975-47c3-8978-1adcdfc82bdb",
   "metadata": {},
   "source": [
    "How do you know the shape and size of an array?\n",
    "-----------------------------------------------\n",
    "\n",
    "*This section covers* `ndarray.ndim`, `ndarray.size`, `ndarray.shape`\n",
    "\n",
    "------------------------------------------------------------------------\n",
    "\n",
    "`ndarray.ndim` will tell you the number of axes, or dimensions, of the\n",
    "array.\n",
    "\n",
    "`ndarray.size` will tell you the total number of elements of the array.\n",
    "This is the *product* of the elements of the array\\'s shape.\n",
    "\n",
    "`ndarray.shape` will display a tuple of integers that indicate the\n",
    "number of elements stored along each dimension of the array. If, for\n",
    "example, you have a 2-D array with 2 rows and 3 columns, the shape of\n",
    "your array is `(2, 3)`.\n",
    "\n",
    "For example, if you create this array:"
   ]
  },
  {
   "cell_type": "code",
   "execution_count": 25,
   "id": "a117c2b8-6653-4ad5-a64c-8dc66c449d93",
   "metadata": {},
   "outputs": [],
   "source": [
    "array_example = np.array([[[0, 1, 2, 3],\n",
    "                           [4, 5, 6, 7]],\n",
    "                          \n",
    "                          [[0, 1, 2, 3],\n",
    "                           [4, 5, 6, 7]],\n",
    "                          \n",
    "                          [[0 ,1 ,2, 3],\n",
    "                           [4, 5, 6, 7]]])"
   ]
  },
  {
   "cell_type": "markdown",
   "id": "4be23a03-2a96-4e22-9d7d-47c6af4a78db",
   "metadata": {},
   "source": [
    "To find the number of dimensions of the array, run:"
   ]
  },
  {
   "cell_type": "code",
   "execution_count": 26,
   "id": "687aa09e-0f83-4277-942f-a58da471d7e9",
   "metadata": {},
   "outputs": [
    {
     "data": {
      "text/plain": [
       "3"
      ]
     },
     "execution_count": 26,
     "metadata": {},
     "output_type": "execute_result"
    }
   ],
   "source": [
    "array_example.ndim"
   ]
  },
  {
   "cell_type": "markdown",
   "id": "ad9a8234-2265-495a-bf34-86113cca5fb6",
   "metadata": {},
   "source": [
    "To find the total number of elements in the array, run:"
   ]
  },
  {
   "cell_type": "code",
   "execution_count": 27,
   "id": "3db057be-8683-476e-aa8d-7acdcb334e3d",
   "metadata": {},
   "outputs": [
    {
     "data": {
      "text/plain": [
       "24"
      ]
     },
     "execution_count": 27,
     "metadata": {},
     "output_type": "execute_result"
    }
   ],
   "source": [
    "array_example.size"
   ]
  },
  {
   "cell_type": "markdown",
   "id": "b361e56c-765e-438d-8d80-69b9288c2aad",
   "metadata": {},
   "source": [
    "And to find the shape of your array, run:"
   ]
  },
  {
   "cell_type": "code",
   "execution_count": 28,
   "id": "38366d87-eb0e-47f7-a36d-7fd7fffcd11c",
   "metadata": {},
   "outputs": [
    {
     "data": {
      "text/plain": [
       "(3, 2, 4)"
      ]
     },
     "execution_count": 28,
     "metadata": {},
     "output_type": "execute_result"
    }
   ],
   "source": [
    "array_example.shape"
   ]
  },
  {
   "cell_type": "markdown",
   "id": "6b2d0571-5ff8-4bb1-95c0-06f1c7c6ffc6",
   "metadata": {},
   "source": [
    "Can you reshape an array?\n",
    "-------------------------\n",
    "\n",
    "*This section covers* `arr.reshape()`\n",
    "\n",
    "------------------------------------------------------------------------\n",
    "\n",
    "**Yes!**\n",
    "\n",
    "Using `arr.reshape()` will give a new shape to an array without changing\n",
    "the data. Just remember that when you use the reshape method, the array\n",
    "you want to produce needs to have the same number of elements as the\n",
    "original array. If you start with an array with 12 elements, you\\'ll\n",
    "need to make sure that your new array also has a total of 12 elements.\n",
    "\n",
    "If you start with this array:"
   ]
  },
  {
   "cell_type": "code",
   "execution_count": 29,
   "id": "9450bb66-7837-4fad-bf9d-1f41c2d815bb",
   "metadata": {},
   "outputs": [
    {
     "name": "stdout",
     "output_type": "stream",
     "text": [
      "[0 1 2 3 4 5]\n"
     ]
    }
   ],
   "source": [
    "a = np.arange(6)\n",
    "print(a)"
   ]
  },
  {
   "cell_type": "markdown",
   "id": "d443f407-a5d0-4b6b-a359-6b342712ff8d",
   "metadata": {},
   "source": [
    "You can use `reshape()` to reshape your array. For example, you can\n",
    "reshape this array to an array with three rows and two columns:"
   ]
  },
  {
   "cell_type": "code",
   "execution_count": 30,
   "id": "aded6cb7-6b70-42a7-bf70-ab2a3bf789ff",
   "metadata": {},
   "outputs": [
    {
     "name": "stdout",
     "output_type": "stream",
     "text": [
      "[[0 1]\n",
      " [2 3]\n",
      " [4 5]]\n"
     ]
    }
   ],
   "source": [
    "b = a.reshape(3, 2)\n",
    "print(b)"
   ]
  },
  {
   "cell_type": "markdown",
   "id": "49b51e35-3174-41a3-9a17-f69f2a830993",
   "metadata": {},
   "source": [
    "How to convert a 1D array into a 2D array (how to add a new axis to an array)\n",
    "-----------------------------------------------------------------------------\n",
    "\n",
    "*This section covers* `np.newaxis`, `np.expand_dims`\n",
    "\n",
    "------------------------------------------------------------------------\n",
    "\n",
    "You can use `np.newaxis` and `np.expand_dims` to increase the dimensions\n",
    "of your existing array.\n",
    "\n",
    "Using `np.newaxis` will increase the dimensions of your array by one\n",
    "dimension when used once. This means that a **1D** array will become a\n",
    "**2D** array, a **2D** array will become a **3D** array, and so on.\n",
    "\n",
    "For example, if you start with this array:"
   ]
  },
  {
   "cell_type": "code",
   "execution_count": 32,
   "id": "40f4bc41-2256-4083-8a27-ddcf62a0535d",
   "metadata": {},
   "outputs": [
    {
     "data": {
      "text/plain": [
       "(6,)"
      ]
     },
     "execution_count": 32,
     "metadata": {},
     "output_type": "execute_result"
    }
   ],
   "source": [
    "a = np.array([1, 2, 3, 4, 5, 6])\n",
    "a.shape"
   ]
  },
  {
   "cell_type": "markdown",
   "id": "5342984c-826a-4a1f-b1fa-72fbe588afa2",
   "metadata": {},
   "source": [
    "You can use `np.newaxis` to add a new axis:"
   ]
  },
  {
   "cell_type": "code",
   "execution_count": 33,
   "id": "e9059488-53ab-4fec-9e87-ad28ba7c5f41",
   "metadata": {},
   "outputs": [
    {
     "data": {
      "text/plain": [
       "(1, 6)"
      ]
     },
     "execution_count": 33,
     "metadata": {},
     "output_type": "execute_result"
    }
   ],
   "source": [
    "a2 = a[np.newaxis, :]\n",
    "a2.shape"
   ]
  },
  {
   "cell_type": "markdown",
   "id": "df7f66fa-953c-4bc5-9687-26ffca3dc88b",
   "metadata": {},
   "source": [
    "You can explicitly convert a 1D array with either a row vector or a\n",
    "column vector using `np.newaxis`. For example, you can convert a 1D\n",
    "array to a row vector by inserting an axis along the first dimension:"
   ]
  },
  {
   "cell_type": "code",
   "execution_count": 34,
   "id": "a65e1038-5393-4c64-a30d-e5bebcafad74",
   "metadata": {},
   "outputs": [
    {
     "data": {
      "text/plain": [
       "(1, 6)"
      ]
     },
     "execution_count": 34,
     "metadata": {},
     "output_type": "execute_result"
    }
   ],
   "source": [
    "row_vector = a[np.newaxis, :]\n",
    "row_vector.shape"
   ]
  },
  {
   "cell_type": "markdown",
   "id": "fb0da8e5-503a-419e-b921-3fb106521c4e",
   "metadata": {},
   "source": [
    "Or, for a column vector, you can insert an axis along the second\n",
    "dimension:"
   ]
  },
  {
   "cell_type": "code",
   "execution_count": 35,
   "id": "81b78bb6-869e-4636-b8aa-620ade580701",
   "metadata": {},
   "outputs": [
    {
     "data": {
      "text/plain": [
       "(6, 1)"
      ]
     },
     "execution_count": 35,
     "metadata": {},
     "output_type": "execute_result"
    }
   ],
   "source": [
    "col_vector = a[:, np.newaxis]\n",
    "col_vector.shape"
   ]
  },
  {
   "cell_type": "markdown",
   "id": "53e6cabe-8625-4e40-a59e-7f0f31b4fb46",
   "metadata": {},
   "source": [
    "You can also expand an array by inserting a new axis at a specified\n",
    "position with `np.expand_dims`.\n",
    "\n",
    "For example, if you start with this array:"
   ]
  },
  {
   "cell_type": "code",
   "execution_count": 36,
   "id": "4301c90f-4487-4c99-b1d6-b3274b6395a6",
   "metadata": {},
   "outputs": [
    {
     "data": {
      "text/plain": [
       "(6,)"
      ]
     },
     "execution_count": 36,
     "metadata": {},
     "output_type": "execute_result"
    }
   ],
   "source": [
    "a = np.array([1, 2, 3, 4, 5, 6])\n",
    "a.shape"
   ]
  },
  {
   "cell_type": "markdown",
   "id": "3b04755e-ff27-497f-888c-1df1629ae90b",
   "metadata": {},
   "source": [
    "You can use `np.expand_dims` to add an axis at index position 1 with:"
   ]
  },
  {
   "cell_type": "code",
   "execution_count": 37,
   "id": "5bb51747-30f2-4758-b679-eab171d2ba60",
   "metadata": {},
   "outputs": [
    {
     "data": {
      "text/plain": [
       "(6, 1)"
      ]
     },
     "execution_count": 37,
     "metadata": {},
     "output_type": "execute_result"
    }
   ],
   "source": [
    "b = np.expand_dims(a, axis=1)\n",
    "b.shape"
   ]
  },
  {
   "cell_type": "markdown",
   "id": "de615396-e266-4b87-9632-42ab449dd51a",
   "metadata": {},
   "source": [
    "You can add an axis at index position 0 with:"
   ]
  },
  {
   "cell_type": "code",
   "execution_count": 38,
   "id": "7a6d3f83-7c72-49d8-a974-c18b7408dea6",
   "metadata": {},
   "outputs": [
    {
     "data": {
      "text/plain": [
       "(1, 6)"
      ]
     },
     "execution_count": 38,
     "metadata": {},
     "output_type": "execute_result"
    }
   ],
   "source": [
    "c = np.expand_dims(a, axis=0)\n",
    "c.shape"
   ]
  },
  {
   "cell_type": "markdown",
   "id": "9602189c-cf1f-4844-80b3-f3dd80a568f8",
   "metadata": {},
   "source": [
    "Indexing and slicing\n",
    "--------------------\n",
    "\n",
    "You can index and slice NumPy arrays in the same ways you can slice\n",
    "Python lists. :"
   ]
  },
  {
   "cell_type": "code",
   "execution_count": 39,
   "id": "affd414b-e493-4ac4-9eae-dc0cd112ac6f",
   "metadata": {},
   "outputs": [
    {
     "data": {
      "text/plain": [
       "2"
      ]
     },
     "execution_count": 39,
     "metadata": {},
     "output_type": "execute_result"
    }
   ],
   "source": [
    "data = np.array([1, 2, 3])\n",
    "data[1]"
   ]
  },
  {
   "cell_type": "code",
   "execution_count": 40,
   "id": "d55c9624-c712-421d-8eef-c73ed333e7b4",
   "metadata": {},
   "outputs": [
    {
     "data": {
      "text/plain": [
       "array([1, 2])"
      ]
     },
     "execution_count": 40,
     "metadata": {},
     "output_type": "execute_result"
    }
   ],
   "source": [
    "data[0:2]"
   ]
  },
  {
   "cell_type": "code",
   "execution_count": 41,
   "id": "c3ad75ff-04fc-4a4d-a9af-a4b3349abfab",
   "metadata": {},
   "outputs": [
    {
     "data": {
      "text/plain": [
       "array([2, 3])"
      ]
     },
     "execution_count": 41,
     "metadata": {},
     "output_type": "execute_result"
    }
   ],
   "source": [
    "data[1:]"
   ]
  },
  {
   "cell_type": "code",
   "execution_count": 42,
   "id": "3a4fc938-29b7-4de6-8ace-df50673bd15d",
   "metadata": {},
   "outputs": [
    {
     "data": {
      "text/plain": [
       "array([2, 3])"
      ]
     },
     "execution_count": 42,
     "metadata": {},
     "output_type": "execute_result"
    }
   ],
   "source": [
    "data[-2:]"
   ]
  },
  {
   "cell_type": "markdown",
   "id": "a2211ff1-7852-4e2e-b3da-78dbb823fe5d",
   "metadata": {},
   "source": [
    "You can visualize it this way:\n",
    "\n",
    "![image](images/np_indexing.png)\n",
    "\n",
    "You may want to take a section of your array or specific array elements\n",
    "to use in further analysis or additional operations. To do that, you\\'ll\n",
    "need to subset, slice, and/or index your arrays.\n",
    "\n",
    "If you want to select values from your array that fulfill certain\n",
    "conditions, it\\'s straightforward with NumPy.\n",
    "\n",
    "For example, if you start with this array:"
   ]
  },
  {
   "cell_type": "code",
   "execution_count": 43,
   "id": "dbc2b12f-578d-44ac-8566-23d2c093082d",
   "metadata": {},
   "outputs": [],
   "source": [
    "a = np.array([[1 , 2, 3, 4], [5, 6, 7, 8], [9, 10, 11, 12]])"
   ]
  },
  {
   "cell_type": "markdown",
   "id": "7f811758-87fd-4e39-87f7-c73c9dcb0722",
   "metadata": {},
   "source": [
    "You can easily print all of the values in the array that are less than\n",
    "5:"
   ]
  },
  {
   "cell_type": "code",
   "execution_count": 44,
   "id": "1695445f-30fe-4b8f-aef4-355e7668a103",
   "metadata": {},
   "outputs": [
    {
     "name": "stdout",
     "output_type": "stream",
     "text": [
      "[1 2 3 4]\n"
     ]
    }
   ],
   "source": [
    "print(a[a < 5])"
   ]
  },
  {
   "cell_type": "markdown",
   "id": "fae964ce-81b6-4460-bbe9-fc857c4de45d",
   "metadata": {},
   "source": [
    "You can also select, for example, numbers that are equal to or greater\n",
    "than 5, and use that condition to index an array:"
   ]
  },
  {
   "cell_type": "code",
   "execution_count": 45,
   "id": "8fa594fc-53fe-45ae-90df-2cc7945d7f8f",
   "metadata": {},
   "outputs": [
    {
     "name": "stdout",
     "output_type": "stream",
     "text": [
      "[ 5  6  7  8  9 10 11 12]\n"
     ]
    }
   ],
   "source": [
    "five_up = (a >= 5)\n",
    "print(a[five_up])"
   ]
  },
  {
   "cell_type": "markdown",
   "id": "9cfbe543-7eb0-466d-94df-80fa2c407bbc",
   "metadata": {},
   "source": [
    "You can select elements that are divisible by 2:"
   ]
  },
  {
   "cell_type": "code",
   "execution_count": 46,
   "id": "546fbd38-215e-48fc-91e9-20d6f70c3ac7",
   "metadata": {},
   "outputs": [
    {
     "name": "stdout",
     "output_type": "stream",
     "text": [
      "[ 2  4  6  8 10 12]\n"
     ]
    }
   ],
   "source": [
    "divisible_by_2 = a[a%2==0]\n",
    "print(divisible_by_2)"
   ]
  },
  {
   "cell_type": "markdown",
   "id": "5165383e-59cb-4210-93ac-ecfae4388d50",
   "metadata": {},
   "source": [
    "Or you can select elements that satisfy two conditions using the `&` and\n",
    "`|` operators:"
   ]
  },
  {
   "cell_type": "code",
   "execution_count": 47,
   "id": "be9e544b-60c7-4fde-b90f-90f45b514edc",
   "metadata": {},
   "outputs": [
    {
     "name": "stdout",
     "output_type": "stream",
     "text": [
      "[ 3  4  5  6  7  8  9 10]\n"
     ]
    }
   ],
   "source": [
    "c = a[(a > 2) & (a < 11)]\n",
    "print(c)"
   ]
  },
  {
   "cell_type": "markdown",
   "id": "02166b06-08dd-427d-a3ce-4314356c3604",
   "metadata": {},
   "source": [
    "You can also make use of the logical operators **&** and **\\|** in order\n",
    "to return boolean values that specify whether or not the values in an\n",
    "array fulfill a certain condition. This can be useful with arrays that\n",
    "contain names or other categorical values. :"
   ]
  },
  {
   "cell_type": "code",
   "execution_count": 48,
   "id": "28d2c37b-7fca-4fb8-a239-ec2bfa531351",
   "metadata": {},
   "outputs": [
    {
     "name": "stdout",
     "output_type": "stream",
     "text": [
      "[[False False False False]\n",
      " [ True  True  True  True]\n",
      " [ True  True  True  True]]\n"
     ]
    }
   ],
   "source": [
    "five_up = (a > 5) | (a == 5)\n",
    "print(five_up)"
   ]
  },
  {
   "cell_type": "markdown",
   "id": "81abfeca-6e66-4c63-a7cc-b92f14bd741b",
   "metadata": {},
   "source": [
    "You can also use `np.nonzero()` to select elements or indices from an\n",
    "array.\n",
    "\n",
    "Starting with this array:"
   ]
  },
  {
   "cell_type": "code",
   "execution_count": 49,
   "id": "e0e5c1e7-a8f6-4217-845c-9ec8d2c2608e",
   "metadata": {},
   "outputs": [],
   "source": [
    "a = np.array([[1, 2, 3, 4], [5, 6, 7, 8], [9, 10, 11, 12]])"
   ]
  },
  {
   "cell_type": "markdown",
   "id": "a3e8e1a1-91d6-4f2a-9fe9-0f8445cfda9d",
   "metadata": {},
   "source": [
    "You can use `np.nonzero()` to print the indices of elements that are,\n",
    "for example, less than 5:"
   ]
  },
  {
   "cell_type": "code",
   "execution_count": 50,
   "id": "8daa325a-3fa2-4b36-a6e9-c1b28cf5c034",
   "metadata": {},
   "outputs": [
    {
     "name": "stdout",
     "output_type": "stream",
     "text": [
      "(array([0, 0, 0, 0]), array([0, 1, 2, 3]))\n"
     ]
    }
   ],
   "source": [
    "b = np.nonzero(a < 5)\n",
    "print(b)"
   ]
  },
  {
   "cell_type": "markdown",
   "id": "103b81b3-534a-411c-bd27-e17509901156",
   "metadata": {},
   "source": [
    "In this example, a tuple of arrays was returned: one for each dimension.\n",
    "The first array represents the row indices where these values are found,\n",
    "and the second array represents the column indices where the values are\n",
    "found.\n",
    "\n",
    "If you want to generate a list of coordinates where the elements exist,\n",
    "you can zip the arrays, iterate over the list of coordinates, and print\n",
    "them. For example:"
   ]
  },
  {
   "cell_type": "code",
   "execution_count": 51,
   "id": "9db20fc7-1c91-4097-aae2-262d7dce9d7c",
   "metadata": {},
   "outputs": [],
   "source": [
    "list_of_coordinates = list(zip(b[0], b[1])) "
   ]
  },
  {
   "cell_type": "code",
   "execution_count": 52,
   "id": "935625e3-a82e-4b72-9688-c180c19fb45f",
   "metadata": {},
   "outputs": [
    {
     "name": "stdout",
     "output_type": "stream",
     "text": [
      "(0, 0)\n",
      "(0, 1)\n",
      "(0, 2)\n",
      "(0, 3)\n"
     ]
    }
   ],
   "source": [
    "for coord in list_of_coordinates:\n",
    "    print(coord)"
   ]
  },
  {
   "cell_type": "markdown",
   "id": "8017486e-06cb-4fd4-9792-5dc5c8870a97",
   "metadata": {},
   "source": [
    "You can also use `np.nonzero()` to print the elements in an array that\n",
    "are less than 5 with:"
   ]
  },
  {
   "cell_type": "code",
   "execution_count": 53,
   "id": "478d0bbe-7226-4aa3-a341-fb3d645d2df8",
   "metadata": {},
   "outputs": [
    {
     "name": "stdout",
     "output_type": "stream",
     "text": [
      "[1 2 3 4]\n"
     ]
    }
   ],
   "source": [
    "print(a[b])"
   ]
  },
  {
   "cell_type": "markdown",
   "id": "4615665a-a5ef-4239-abf1-0e9cdac39d0b",
   "metadata": {},
   "source": [
    "If the element you\\'re looking for doesn\\'t exist in the array, then the\n",
    "returned array of indices will be empty. For example:"
   ]
  },
  {
   "cell_type": "code",
   "execution_count": 54,
   "id": "4748db5c-ca17-4759-8719-6cee5ccbe9e4",
   "metadata": {},
   "outputs": [
    {
     "name": "stdout",
     "output_type": "stream",
     "text": [
      "(array([], dtype=int64), array([], dtype=int64))\n"
     ]
    }
   ],
   "source": [
    "not_there = np.nonzero(a == 42)\n",
    "print(not_there)"
   ]
  },
  {
   "cell_type": "markdown",
   "id": "4cef55d2-2476-4bd5-ad5d-a47aaacee6f1",
   "metadata": {},
   "source": [
    "Learn more about\n",
    "[indexing and slicing here](https://numpy.org/devdocs/user/quickstart.html#quickstart-indexing-slicing-and-iterating) and [here](https://numpy.org/devdocs/user/basics.indexing.html#basics-indexing).\n",
    "\n",
    "Read more about using the nonzero function at: [nonzero](https://numpy.org/devdocs/reference/generated/numpy.nonzero.html#numpy.nonzero)."
   ]
  },
  {
   "cell_type": "markdown",
   "id": "b8626a1b-5939-47ff-b81f-7c16245932b3",
   "metadata": {},
   "source": [
    "How to create an array from existing data\n",
    "-----------------------------------------\n",
    "\n",
    "*This section covers* `slicing and indexing`, `np.vstack()`,\n",
    "`np.hstack()`, `np.hsplit()`, `.view()`, `copy()`\n",
    "\n",
    "------------------------------------------------------------------------\n",
    "\n",
    "You can easily create a new array from a section of an existing array.\n",
    "\n",
    "Let\\'s say you have this array:"
   ]
  },
  {
   "cell_type": "code",
   "execution_count": 55,
   "id": "22a56e17-f074-4b7d-97a3-78fc2622d920",
   "metadata": {},
   "outputs": [],
   "source": [
    "a = np.array([1,  2,  3,  4,  5,  6,  7,  8,  9, 10])"
   ]
  },
  {
   "cell_type": "markdown",
   "id": "e2de29a8-0f69-4ee5-9d97-30c6ce722454",
   "metadata": {},
   "source": [
    "You can create a new array from a section of your array any time by\n",
    "specifying where you want to slice your array:"
   ]
  },
  {
   "cell_type": "code",
   "execution_count": 56,
   "id": "cc5f576e-e19c-487f-b640-1b79a3023ca3",
   "metadata": {},
   "outputs": [
    {
     "data": {
      "text/plain": [
       "array([4, 5, 6, 7, 8])"
      ]
     },
     "execution_count": 56,
     "metadata": {},
     "output_type": "execute_result"
    }
   ],
   "source": [
    "arr1 = a[3:8]\n",
    "arr1"
   ]
  },
  {
   "cell_type": "markdown",
   "id": "a0a953d4-bdba-42f8-9575-10e400556f55",
   "metadata": {},
   "source": [
    "Here, you grabbed a section of your array from index position 3 through\n",
    "index position 8.\n",
    "\n",
    "You can also stack two existing arrays, both vertically and\n",
    "horizontally. Let\\'s say you have two arrays, `a1` and `a2`:"
   ]
  },
  {
   "cell_type": "code",
   "execution_count": 59,
   "id": "c2d90657-5206-4007-b859-5daa43ab17f3",
   "metadata": {},
   "outputs": [],
   "source": [
    "a1 = np.array([[1, 1],\n",
    "               [2, 2]])\n",
    "\n",
    "a2 = np.array([[3, 3], \n",
    "               [4, 4]])"
   ]
  },
  {
   "cell_type": "markdown",
   "id": "bf31da34-17cc-46cf-b32c-f6840a5c076f",
   "metadata": {},
   "source": [
    "You can stack them vertically with `vstack`:"
   ]
  },
  {
   "cell_type": "code",
   "execution_count": 58,
   "id": "6445670f-6202-44f6-974a-ff9e6bbfbb55",
   "metadata": {},
   "outputs": [
    {
     "data": {
      "text/plain": [
       "array([[1, 1],\n",
       "       [2, 2],\n",
       "       [3, 3],\n",
       "       [4, 4]])"
      ]
     },
     "execution_count": 58,
     "metadata": {},
     "output_type": "execute_result"
    }
   ],
   "source": [
    "np.vstack((a1, a2))"
   ]
  },
  {
   "cell_type": "markdown",
   "id": "f4ea6d6a-858c-4809-be90-6bd98761949e",
   "metadata": {},
   "source": [
    "Or stack them horizontally with `hstack`:"
   ]
  },
  {
   "cell_type": "code",
   "execution_count": 60,
   "id": "eb9907e8-2ce2-491d-80a4-c8a0f7947d8a",
   "metadata": {},
   "outputs": [
    {
     "data": {
      "text/plain": [
       "array([[1, 1, 3, 3],\n",
       "       [2, 2, 4, 4]])"
      ]
     },
     "execution_count": 60,
     "metadata": {},
     "output_type": "execute_result"
    }
   ],
   "source": [
    "np.hstack((a1, a2))"
   ]
  },
  {
   "cell_type": "markdown",
   "id": "b2af73b8-f89f-443e-a342-53e30f420bba",
   "metadata": {},
   "source": [
    "You can use the `view` method to create a new array object that looks at\n",
    "the same data as the original array (a *shallow copy*).\n",
    "\n",
    "Views are an important NumPy concept! NumPy functions, as well as\n",
    "operations like indexing and slicing, will return views whenever\n",
    "possible. This saves memory and is faster (no copy of the data has to be\n",
    "made). However it\\'s important to be aware of this - modifying data in a\n",
    "view also modifies the original array!\n",
    "\n",
    "Let\\'s say you create this array:"
   ]
  },
  {
   "cell_type": "code",
   "execution_count": 62,
   "id": "f975cf04-a6b2-448f-ac3f-ad188e930fbf",
   "metadata": {},
   "outputs": [],
   "source": [
    "a = np.array([[1, 2, 3, 4], [5, 6, 7, 8], [9, 10, 11, 12]])"
   ]
  },
  {
   "cell_type": "markdown",
   "id": "9fa38af0-cdc0-47f9-ad6c-03391e8d0750",
   "metadata": {},
   "source": [
    "Now we create an array `b1` by slicing `a` and modify the first element\n",
    "of `b1`. This will modify the corresponding element in `a` as well! :"
   ]
  },
  {
   "cell_type": "code",
   "execution_count": 63,
   "id": "b13cd8ac-f297-4a18-a654-91c518523963",
   "metadata": {},
   "outputs": [
    {
     "data": {
      "text/plain": [
       "array([1, 2, 3, 4])"
      ]
     },
     "execution_count": 63,
     "metadata": {},
     "output_type": "execute_result"
    }
   ],
   "source": [
    "b1 = a[0, :]\n",
    "b1"
   ]
  },
  {
   "cell_type": "code",
   "execution_count": 64,
   "id": "8e94ffcc-29ef-4307-a6ef-c8d1d5a27168",
   "metadata": {},
   "outputs": [
    {
     "data": {
      "text/plain": [
       "array([99,  2,  3,  4])"
      ]
     },
     "execution_count": 64,
     "metadata": {},
     "output_type": "execute_result"
    }
   ],
   "source": [
    "b1[0] = 99\n",
    "b1"
   ]
  },
  {
   "cell_type": "code",
   "execution_count": 65,
   "id": "5b8d4b5a-0574-4a73-b92b-d77e5cea407b",
   "metadata": {},
   "outputs": [
    {
     "data": {
      "text/plain": [
       "array([[99,  2,  3,  4],\n",
       "       [ 5,  6,  7,  8],\n",
       "       [ 9, 10, 11, 12]])"
      ]
     },
     "execution_count": 65,
     "metadata": {},
     "output_type": "execute_result"
    }
   ],
   "source": [
    "a"
   ]
  },
  {
   "cell_type": "markdown",
   "id": "79f3e812-381b-4e64-9663-9e467f7b899d",
   "metadata": {},
   "source": [
    "Using the `copy` method will make a complete copy of the array and its\n",
    "data (a *deep copy*). To use this on your array, you could run:"
   ]
  },
  {
   "cell_type": "markdown",
   "id": "5dc7fe30-bc8d-42e1-8527-98285eeff362",
   "metadata": {},
   "source": [
    "b2 = a.copy()"
   ]
  },
  {
   "cell_type": "markdown",
   "id": "1dec78cf-8b68-4911-b166-f32e108250a9",
   "metadata": {},
   "source": [
    "[Learn more about copies and views here.](https://numpy.org/devdocs/user/quickstart.html#quickstart-copies-and-views) "
   ]
  },
  {
   "cell_type": "markdown",
   "id": "fe4edc7d-5a9f-4387-979a-84537c271c67",
   "metadata": {},
   "source": [
    "Basic array operations\n",
    "----------------------\n",
    "\n",
    "*This section covers addition, subtraction, multiplication, division,\n",
    "and more*\n",
    "\n",
    "------------------------------------------------------------------------\n",
    "\n",
    "Once you\\'ve created your arrays, you can start to work with them.\n",
    "Let\\'s say, for example, that you\\'ve created two arrays, one called\n",
    "\\\"data\\\" and one called \\\"ones\\\"\n",
    "\n",
    "![image](images/np_array_dataones.png)\n",
    "\n",
    "You can add the arrays together with the plus sign."
   ]
  },
  {
   "cell_type": "code",
   "execution_count": 66,
   "id": "03898771-e266-4899-8963-86ea64dcb3ff",
   "metadata": {},
   "outputs": [
    {
     "data": {
      "text/plain": [
       "array([2, 3])"
      ]
     },
     "execution_count": 66,
     "metadata": {},
     "output_type": "execute_result"
    }
   ],
   "source": [
    "data = np.array([1, 2])\n",
    "ones = np.ones(2, dtype=int)\n",
    "data + ones"
   ]
  },
  {
   "cell_type": "markdown",
   "id": "57cc2cef-87fb-4a04-bbe9-ff3b1161e0cd",
   "metadata": {},
   "source": [
    "![image](images/np_data_plus_ones.png)"
   ]
  },
  {
   "cell_type": "markdown",
   "id": "a23006b9-6667-46d5-911f-b2250c029787",
   "metadata": {},
   "source": [
    "You can, of course, do more than just addition!"
   ]
  },
  {
   "cell_type": "code",
   "execution_count": 67,
   "id": "4a028cbe-d60a-4e95-8d47-f076deeaae87",
   "metadata": {},
   "outputs": [
    {
     "data": {
      "text/plain": [
       "array([0, 1])"
      ]
     },
     "execution_count": 67,
     "metadata": {},
     "output_type": "execute_result"
    }
   ],
   "source": [
    "data - ones"
   ]
  },
  {
   "cell_type": "code",
   "execution_count": 68,
   "id": "9ca692c9-91f1-4f1d-9035-da139fa90256",
   "metadata": {},
   "outputs": [
    {
     "data": {
      "text/plain": [
       "array([1, 4])"
      ]
     },
     "execution_count": 68,
     "metadata": {},
     "output_type": "execute_result"
    }
   ],
   "source": [
    "data * data"
   ]
  },
  {
   "cell_type": "code",
   "execution_count": 69,
   "id": "67ba91c2-4c70-448a-b213-03dff8af82b1",
   "metadata": {},
   "outputs": [
    {
     "data": {
      "text/plain": [
       "array([1., 1.])"
      ]
     },
     "execution_count": 69,
     "metadata": {},
     "output_type": "execute_result"
    }
   ],
   "source": [
    "data / data"
   ]
  },
  {
   "cell_type": "markdown",
   "id": "23c4a020-ec00-4e37-8537-b4c9439f49d3",
   "metadata": {},
   "source": [
    "![image](images/np_sub_mult_divide.png)"
   ]
  },
  {
   "cell_type": "markdown",
   "id": "4be8333d-5d85-4fe9-9400-6cbcea535d0a",
   "metadata": {},
   "source": [
    "Basic operations are simple with NumPy. If you want to find the sum of\n",
    "the elements in an array, you\\'d use `sum()`. This works for 1D arrays,\n",
    "2D arrays, and arrays in higher dimensions. :"
   ]
  },
  {
   "cell_type": "code",
   "execution_count": 70,
   "id": "a0c1dd1d-5933-414b-a5c5-d9eeb7feea49",
   "metadata": {},
   "outputs": [
    {
     "data": {
      "text/plain": [
       "10"
      ]
     },
     "execution_count": 70,
     "metadata": {},
     "output_type": "execute_result"
    }
   ],
   "source": [
    "a = np.array([1, 2, 3, 4])\n",
    "a.sum()"
   ]
  },
  {
   "cell_type": "markdown",
   "id": "65e4e0fb-2dd8-4c85-8988-c21401218305",
   "metadata": {},
   "source": [
    "To add the rows or the columns in a 2D array, you would specify the\n",
    "axis.\n",
    "\n",
    "If you start with this array:"
   ]
  },
  {
   "cell_type": "code",
   "execution_count": 71,
   "id": "15c7b279-1c42-4962-b24b-aa6a168e48be",
   "metadata": {},
   "outputs": [],
   "source": [
    "b = np.array([[1, 1], [2, 2]])"
   ]
  },
  {
   "cell_type": "markdown",
   "id": "1e1cc47a-bec2-474c-b7f4-c9564ddbd8c2",
   "metadata": {},
   "source": [
    "You can sum over the axis of rows with:"
   ]
  },
  {
   "cell_type": "code",
   "execution_count": 72,
   "id": "fb83e320-db8b-4235-aa47-b09c8eb02f6e",
   "metadata": {},
   "outputs": [
    {
     "data": {
      "text/plain": [
       "array([3, 3])"
      ]
     },
     "execution_count": 72,
     "metadata": {},
     "output_type": "execute_result"
    }
   ],
   "source": [
    "b.sum(axis=0)"
   ]
  },
  {
   "cell_type": "markdown",
   "id": "19c936df-6fd0-4135-996f-b0a6cc8a0519",
   "metadata": {},
   "source": [
    "You can sum over the axis of columns with:"
   ]
  },
  {
   "cell_type": "code",
   "execution_count": 73,
   "id": "9cb21061-9479-4469-9e8c-e5d25e035522",
   "metadata": {},
   "outputs": [
    {
     "data": {
      "text/plain": [
       "array([2, 4])"
      ]
     },
     "execution_count": 73,
     "metadata": {},
     "output_type": "execute_result"
    }
   ],
   "source": [
    "b.sum(axis=1)"
   ]
  },
  {
   "cell_type": "markdown",
   "id": "9edf4967-a5da-45d2-8b3b-0d9301c49e2d",
   "metadata": {},
   "source": [
    "[Learn more about basic operations here.](https://numpy.org/devdocs/user/quickstart.html#quickstart-basic-operations)"
   ]
  },
  {
   "cell_type": "markdown",
   "id": "77a4d1af-6204-459a-84a0-9d1a0156371d",
   "metadata": {},
   "source": [
    "Broadcasting\n",
    "------------\n",
    "\n",
    "There are times when you might want to carry out an operation between an\n",
    "array and a single number (also called *an operation between a vector\n",
    "and a scalar*) or between arrays of two different sizes. For example,\n",
    "your array (we\\'ll call it \\\"data\\\") might contain information about\n",
    "distance in miles but you want to convert the information to kilometers.\n",
    "You can perform this operation with:"
   ]
  },
  {
   "cell_type": "code",
   "execution_count": 74,
   "id": "3222b196-6e3c-44e6-a072-60b858b03d45",
   "metadata": {},
   "outputs": [
    {
     "data": {
      "text/plain": [
       "array([1.6, 3.2])"
      ]
     },
     "execution_count": 74,
     "metadata": {},
     "output_type": "execute_result"
    }
   ],
   "source": [
    "data = np.array([1.0, 2.0])\n",
    "data * 1.6"
   ]
  },
  {
   "cell_type": "markdown",
   "id": "ce9826c3-fddd-42ca-8a92-8d85a4c385ee",
   "metadata": {},
   "source": [
    "![image](images/np_multiply_broadcasting.png)\n",
    "\n",
    "NumPy understands that the multiplication should happen with each cell.\n",
    "That concept is called **broadcasting**. Broadcasting is a mechanism\n",
    "that allows NumPy to perform operations on arrays of different shapes.\n",
    "The dimensions of your array must be compatible, for example, when the\n",
    "dimensions of both arrays are equal or when one of them is 1. If the\n",
    "dimensions are not compatible, you will get a `ValueError`.\n"
   ]
  },
  {
   "cell_type": "markdown",
   "id": "6add9f85-3bc4-452c-af5b-b0b7c45a1021",
   "metadata": {},
   "source": [
    "More useful array operations\n",
    "----------------------------\n",
    "\n",
    "*This section covers maximum, minimum, sum, mean, product, standard\n",
    "deviation, and more*\n",
    "\n",
    "------------------------------------------------------------------------\n",
    "\n",
    "NumPy also performs aggregation functions. In addition to `min`, `max`,\n",
    "and `sum`, you can easily run `mean` to get the average, `prod` to get\n",
    "the result of multiplying the elements together, `std` to get the\n",
    "standard deviation, and more. :"
   ]
  },
  {
   "cell_type": "code",
   "execution_count": 75,
   "id": "078dba90-dc27-4782-8638-cac156076cdb",
   "metadata": {},
   "outputs": [
    {
     "data": {
      "text/plain": [
       "2.0"
      ]
     },
     "execution_count": 75,
     "metadata": {},
     "output_type": "execute_result"
    }
   ],
   "source": [
    "data.max()"
   ]
  },
  {
   "cell_type": "code",
   "execution_count": 76,
   "id": "8920dcc3-7017-4f56-b962-f625a127c357",
   "metadata": {},
   "outputs": [
    {
     "data": {
      "text/plain": [
       "1.0"
      ]
     },
     "execution_count": 76,
     "metadata": {},
     "output_type": "execute_result"
    }
   ],
   "source": [
    "data.min()"
   ]
  },
  {
   "cell_type": "code",
   "execution_count": 77,
   "id": "63b0ba86-47c8-4da9-b549-6c8be5a2a825",
   "metadata": {},
   "outputs": [
    {
     "data": {
      "text/plain": [
       "3.0"
      ]
     },
     "execution_count": 77,
     "metadata": {},
     "output_type": "execute_result"
    }
   ],
   "source": [
    "data.sum()"
   ]
  },
  {
   "cell_type": "markdown",
   "id": "49c87dd6-09b7-4766-a791-d09dc71335f5",
   "metadata": {},
   "source": [
    "![image](images/np_aggregation.png)\n",
    "\n",
    "Let\\'s start with this array, called \\\"a\\\" :"
   ]
  },
  {
   "cell_type": "code",
   "execution_count": 78,
   "id": "43a67696-07a2-45fb-9ed1-11197d83c81e",
   "metadata": {},
   "outputs": [],
   "source": [
    "a = np.array([[0.45053314, 0.17296777, 0.34376245, 0.5510652],\n",
    "              [0.54627315, 0.05093587, 0.40067661, 0.55645993],\n",
    "              [0.12697628, 0.82485143, 0.26590556, 0.56917101]])"
   ]
  },
  {
   "cell_type": "markdown",
   "id": "4b10913a-d4b3-4b0d-b4d0-a2e1f597f922",
   "metadata": {},
   "source": [
    "It\\'s very common to want to aggregate along a row or column. By\n",
    "default, every NumPy aggregation function will return the aggregate of\n",
    "the entire array. To find the sum or the minimum of the elements in your\n",
    "array, run:"
   ]
  },
  {
   "cell_type": "code",
   "execution_count": 79,
   "id": "093be03b-f97c-4723-985d-8ec66ab3e44a",
   "metadata": {},
   "outputs": [
    {
     "data": {
      "text/plain": [
       "4.8595784"
      ]
     },
     "execution_count": 79,
     "metadata": {},
     "output_type": "execute_result"
    }
   ],
   "source": [
    "a.sum()"
   ]
  },
  {
   "cell_type": "markdown",
   "id": "08c5d4bf-970c-4d80-9950-20b114f98147",
   "metadata": {},
   "source": [
    "Or:"
   ]
  },
  {
   "cell_type": "code",
   "execution_count": 80,
   "id": "6f0b431b-cb7f-4096-8b9c-8fc629cddd10",
   "metadata": {},
   "outputs": [
    {
     "data": {
      "text/plain": [
       "0.05093587"
      ]
     },
     "execution_count": 80,
     "metadata": {},
     "output_type": "execute_result"
    }
   ],
   "source": [
    "a.min()"
   ]
  },
  {
   "cell_type": "markdown",
   "id": "1c255fab-4cf6-4a49-b9e4-f819f0e519e9",
   "metadata": {},
   "source": [
    "You can specify on which axis you want the aggregation function to be\n",
    "computed. For example, you can find the minimum value within each column\n",
    "by specifying `axis=0`:"
   ]
  },
  {
   "cell_type": "code",
   "execution_count": 81,
   "id": "a06abfd1-a08c-4aa6-a93b-83f48b2f2757",
   "metadata": {},
   "outputs": [
    {
     "data": {
      "text/plain": [
       "array([0.12697628, 0.05093587, 0.26590556, 0.5510652 ])"
      ]
     },
     "execution_count": 81,
     "metadata": {},
     "output_type": "execute_result"
    }
   ],
   "source": [
    "a.min(axis=0)"
   ]
  },
  {
   "cell_type": "markdown",
   "id": "1235c950-60c7-40cf-aaa0-acfc3a437cd3",
   "metadata": {},
   "source": [
    "The four values listed above correspond to the number of columns in your\n",
    "array. With a four-column array, you will get four values as your\n",
    "result.\n"
   ]
  },
  {
   "cell_type": "markdown",
   "id": "b821bab8-e75b-440c-8760-fb42146316d8",
   "metadata": {},
   "source": [
    "Creating matrices\n",
    "-----------------\n",
    "\n",
    "You can pass Python lists of lists to create a 2-D array (or \\\"matrix\\\")\n",
    "to represent them in NumPy. :"
   ]
  },
  {
   "cell_type": "code",
   "execution_count": 82,
   "id": "1276094b-2280-4680-9cf7-98f51e4a5cc3",
   "metadata": {},
   "outputs": [
    {
     "data": {
      "text/plain": [
       "array([[1, 2],\n",
       "       [3, 4],\n",
       "       [5, 6]])"
      ]
     },
     "execution_count": 82,
     "metadata": {},
     "output_type": "execute_result"
    }
   ],
   "source": [
    "data = np.array([[1, 2], [3, 4], [5, 6]])\n",
    "data"
   ]
  },
  {
   "cell_type": "markdown",
   "id": "d95d910d-e21a-4505-aab9-142bca41cd7d",
   "metadata": {},
   "source": [
    "![image](images/np_create_matrix.png)\n",
    "\n",
    "Indexing and slicing operations are useful when you\\'re manipulating\n",
    "matrices:"
   ]
  },
  {
   "cell_type": "code",
   "execution_count": 83,
   "id": "26f213f2-b1a8-4f10-9d61-c4394cdd24c8",
   "metadata": {},
   "outputs": [
    {
     "data": {
      "text/plain": [
       "2"
      ]
     },
     "execution_count": 83,
     "metadata": {},
     "output_type": "execute_result"
    }
   ],
   "source": [
    "data[0, 1]"
   ]
  },
  {
   "cell_type": "code",
   "execution_count": 84,
   "id": "d41ee28b-3d39-49e5-9809-b7de4410fd2e",
   "metadata": {},
   "outputs": [
    {
     "data": {
      "text/plain": [
       "array([[3, 4],\n",
       "       [5, 6]])"
      ]
     },
     "execution_count": 84,
     "metadata": {},
     "output_type": "execute_result"
    }
   ],
   "source": [
    "data[1:3]"
   ]
  },
  {
   "cell_type": "code",
   "execution_count": 85,
   "id": "b88c7ff1-ee05-49a9-8e23-c3cc38de1abb",
   "metadata": {},
   "outputs": [
    {
     "data": {
      "text/plain": [
       "array([1, 3])"
      ]
     },
     "execution_count": 85,
     "metadata": {},
     "output_type": "execute_result"
    }
   ],
   "source": [
    "data[0:2, 0]"
   ]
  },
  {
   "cell_type": "markdown",
   "id": "07e1020a-5be1-4e84-a938-6e2d485c0295",
   "metadata": {},
   "source": [
    "![image](images/np_matrix_indexing.png)\n",
    "\n",
    "You can aggregate matrices the same way you aggregated vectors:"
   ]
  },
  {
   "cell_type": "code",
   "execution_count": 86,
   "id": "a28d793b-bf47-4f6d-af58-9e806c1a49d1",
   "metadata": {},
   "outputs": [
    {
     "data": {
      "text/plain": [
       "6"
      ]
     },
     "execution_count": 86,
     "metadata": {},
     "output_type": "execute_result"
    }
   ],
   "source": [
    "data.max()"
   ]
  },
  {
   "cell_type": "code",
   "execution_count": 87,
   "id": "ea303788-021a-478b-9076-17e75f4fe431",
   "metadata": {},
   "outputs": [
    {
     "data": {
      "text/plain": [
       "1"
      ]
     },
     "execution_count": 87,
     "metadata": {},
     "output_type": "execute_result"
    }
   ],
   "source": [
    "data.min()"
   ]
  },
  {
   "cell_type": "code",
   "execution_count": 88,
   "id": "a0f30ef2-92db-4bda-a9e4-9dc054262e36",
   "metadata": {},
   "outputs": [
    {
     "data": {
      "text/plain": [
       "21"
      ]
     },
     "execution_count": 88,
     "metadata": {},
     "output_type": "execute_result"
    }
   ],
   "source": [
    "data.sum()"
   ]
  },
  {
   "cell_type": "markdown",
   "id": "1e34c723-7cc6-40a5-aa81-51e842f4ccab",
   "metadata": {},
   "source": [
    "![image](images/np_matrix_aggregation.png)\n",
    "\n",
    "You can aggregate all the values in a matrix and you can aggregate them\n",
    "across columns or rows using the `axis` parameter. To illustrate this\n",
    "point, let\\'s look at a slightly modified dataset:"
   ]
  },
  {
   "cell_type": "code",
   "execution_count": 89,
   "id": "af4ae775-a113-414d-8a4e-092b2d07c6e6",
   "metadata": {},
   "outputs": [
    {
     "data": {
      "text/plain": [
       "array([[1, 2],\n",
       "       [5, 3],\n",
       "       [4, 6]])"
      ]
     },
     "execution_count": 89,
     "metadata": {},
     "output_type": "execute_result"
    }
   ],
   "source": [
    "data = np.array([[1, 2], [5, 3], [4, 6]])\n",
    "data"
   ]
  },
  {
   "cell_type": "code",
   "execution_count": 90,
   "id": "0f33147b-8d96-4c43-9972-284e97cf83d8",
   "metadata": {},
   "outputs": [
    {
     "data": {
      "text/plain": [
       "array([5, 6])"
      ]
     },
     "execution_count": 90,
     "metadata": {},
     "output_type": "execute_result"
    }
   ],
   "source": [
    "data.max(axis=0)"
   ]
  },
  {
   "cell_type": "code",
   "execution_count": 91,
   "id": "773b1718-676c-45b5-9429-8c02424322de",
   "metadata": {},
   "outputs": [
    {
     "data": {
      "text/plain": [
       "array([2, 5, 6])"
      ]
     },
     "execution_count": 91,
     "metadata": {},
     "output_type": "execute_result"
    }
   ],
   "source": [
    "data.max(axis=1)"
   ]
  },
  {
   "cell_type": "markdown",
   "id": "d6dbca84-e99d-4aed-805f-c08249799878",
   "metadata": {},
   "source": [
    "![image](images/np_matrix_aggregation_row.png)\n",
    "\n",
    "Once you\\'ve created your matrices, you can add and multiply them using\n",
    "arithmetic operators if you have two matrices that are the same size. :"
   ]
  },
  {
   "cell_type": "code",
   "execution_count": 92,
   "id": "14c343e7-ebfa-42e9-a10a-1ce00f872167",
   "metadata": {},
   "outputs": [
    {
     "data": {
      "text/plain": [
       "array([[2, 3],\n",
       "       [4, 5]])"
      ]
     },
     "execution_count": 92,
     "metadata": {},
     "output_type": "execute_result"
    }
   ],
   "source": [
    "data = np.array([[1, 2], [3, 4]])\n",
    "ones = np.array([[1, 1], [1, 1]])\n",
    "data + ones"
   ]
  },
  {
   "cell_type": "markdown",
   "id": "1f3ad386-72b9-40d8-992d-ac0f10d56a5d",
   "metadata": {},
   "source": [
    "![image](images/np_matrix_arithmetic.png)\n",
    "\n",
    "You can do these arithmetic operations on matrices of different sizes,\n",
    "but only if one matrix has only one column or one row. In this case,\n",
    "NumPy will use its broadcast rules for the operation. :"
   ]
  },
  {
   "cell_type": "code",
   "execution_count": 93,
   "id": "477fa1ed-dc92-49de-bb90-83761f93d2cc",
   "metadata": {},
   "outputs": [
    {
     "data": {
      "text/plain": [
       "array([[2, 3],\n",
       "       [4, 5],\n",
       "       [6, 7]])"
      ]
     },
     "execution_count": 93,
     "metadata": {},
     "output_type": "execute_result"
    }
   ],
   "source": [
    "data = np.array([[1, 2], [3, 4], [5, 6]])\n",
    "ones_row = np.array([[1, 1]])\n",
    "data + ones_row"
   ]
  },
  {
   "cell_type": "markdown",
   "id": "f6623cf8-e8bb-4459-8a5b-1cf3094b6341",
   "metadata": {},
   "source": [
    "There are often instances where we want NumPy to initialize the values\n",
    "of an array. NumPy offers functions like `ones()` and `zeros()`, and the\n",
    "`random.Generator` class for random number generation for that. All you\n",
    "need to do is pass in the number of elements you want it to generate:"
   ]
  },
  {
   "cell_type": "code",
   "execution_count": 94,
   "id": "f8e047eb-6e53-4d4c-91d0-873b79e72481",
   "metadata": {},
   "outputs": [
    {
     "data": {
      "text/plain": [
       "array([1., 1., 1.])"
      ]
     },
     "execution_count": 94,
     "metadata": {},
     "output_type": "execute_result"
    }
   ],
   "source": [
    "np.ones(3)"
   ]
  },
  {
   "cell_type": "code",
   "execution_count": 95,
   "id": "6a0638cb-b9a7-40c4-8dea-99795ca0d471",
   "metadata": {},
   "outputs": [
    {
     "data": {
      "text/plain": [
       "array([0., 0., 0.])"
      ]
     },
     "execution_count": 95,
     "metadata": {},
     "output_type": "execute_result"
    }
   ],
   "source": [
    "np.zeros(3)"
   ]
  },
  {
   "cell_type": "code",
   "execution_count": 96,
   "id": "feb2c2f7-e07b-4c2e-a96a-855428b7703b",
   "metadata": {},
   "outputs": [
    {
     "data": {
      "text/plain": [
       "array([0.45479796, 0.62290046, 0.90891876])"
      ]
     },
     "execution_count": 96,
     "metadata": {},
     "output_type": "execute_result"
    }
   ],
   "source": [
    "rng = np.random.default_rng()  # the simplest way to generate random numbers\n",
    "rng.random(3)"
   ]
  },
  {
   "cell_type": "markdown",
   "id": "e52b0980-baf2-4f15-826b-3a429302c0b4",
   "metadata": {},
   "source": [
    "![image](images/np_ones_zeros_random.png)\n",
    "\n",
    "You can also use `ones()`, `zeros()`, and `random()` to create a 2D\n",
    "array if you give them a tuple describing the dimensions of the matrix:"
   ]
  },
  {
   "cell_type": "code",
   "execution_count": 97,
   "id": "e7622fc7-7849-4ac0-bc6b-277246097757",
   "metadata": {},
   "outputs": [
    {
     "data": {
      "text/plain": [
       "array([[1., 1.],\n",
       "       [1., 1.],\n",
       "       [1., 1.]])"
      ]
     },
     "execution_count": 97,
     "metadata": {},
     "output_type": "execute_result"
    }
   ],
   "source": [
    "np.ones((3, 2))"
   ]
  },
  {
   "cell_type": "code",
   "execution_count": 98,
   "id": "a3666659-8cef-4096-8811-6c546dead1fa",
   "metadata": {},
   "outputs": [
    {
     "data": {
      "text/plain": [
       "array([[0., 0.],\n",
       "       [0., 0.],\n",
       "       [0., 0.]])"
      ]
     },
     "execution_count": 98,
     "metadata": {},
     "output_type": "execute_result"
    }
   ],
   "source": [
    "np.zeros((3, 2))"
   ]
  },
  {
   "cell_type": "code",
   "execution_count": 99,
   "id": "2c06b17a-a108-460b-a398-6b4e34907616",
   "metadata": {},
   "outputs": [
    {
     "data": {
      "text/plain": [
       "array([[0.40519454, 0.78967761],\n",
       "       [0.5846354 , 0.93536463],\n",
       "       [0.38079789, 0.21433732]])"
      ]
     },
     "execution_count": 99,
     "metadata": {},
     "output_type": "execute_result"
    }
   ],
   "source": [
    "rng.random((3, 2)) "
   ]
  },
  {
   "cell_type": "markdown",
   "id": "573d67bc-e74f-437e-a82a-0233abdf0fba",
   "metadata": {},
   "source": [
    "![image](images/np_ones_zeros_matrix.png)\n"
   ]
  },
  {
   "cell_type": "markdown",
   "id": "96f9504d-338e-4a16-af1e-45aba994220f",
   "metadata": {},
   "source": [
    "Generating random numbers\n",
    "-------------------------\n",
    "\n",
    "The use of random number generation is an important part of the\n",
    "configuration and evaluation of many numerical and machine learning\n",
    "algorithms. Whether you need to randomly initialize weights in an\n",
    "artificial neural network, split data into random sets, or randomly\n",
    "shuffle your dataset, being able to generate random numbers (actually,\n",
    "repeatable pseudo-random numbers) is essential.\n",
    "\n",
    "With `Generator.integers`, you can generate random integers from low\n",
    "(remember that this is inclusive with NumPy) to high (exclusive). You\n",
    "can set `endpoint=True` to make the high number inclusive.\n",
    "\n",
    "You can generate a 2 x 4 array of random integers between 0 and 4 with:"
   ]
  },
  {
   "cell_type": "code",
   "execution_count": 100,
   "id": "ffbbe001-0d13-45d1-a117-661978e8e5a7",
   "metadata": {},
   "outputs": [
    {
     "data": {
      "text/plain": [
       "array([[2, 1, 4, 0],\n",
       "       [4, 1, 0, 2]])"
      ]
     },
     "execution_count": 100,
     "metadata": {},
     "output_type": "execute_result"
    }
   ],
   "source": [
    "rng.integers(5, size=(2, 4)) "
   ]
  },
  {
   "cell_type": "markdown",
   "id": "8d9909dc-78df-4bdd-b9e7-fecc89745b94",
   "metadata": {},
   "source": [
    "[Read more about random number generation here.](https://numpy.org/devdocs/reference/random/index.html#numpyrandom)"
   ]
  },
  {
   "cell_type": "markdown",
   "id": "734d9aed-e431-4926-9e9c-7602fb7c2598",
   "metadata": {},
   "source": [
    "How to get unique items and counts\n",
    "----------------------------------\n",
    "\n",
    "*This section covers* `np.unique()`\n",
    "\n",
    "------------------------------------------------------------------------\n",
    "\n",
    "You can find the unique elements in an array easily with `np.unique`.\n",
    "\n",
    "For example, if you start with this array:"
   ]
  },
  {
   "cell_type": "code",
   "execution_count": 101,
   "id": "1ae52811-a65d-4ea4-bb9b-1ff3ab375b06",
   "metadata": {},
   "outputs": [],
   "source": [
    "a = np.array([11, 11, 12, 13, 14, 15, 16, 17, 12, 13, 11, 14, 18, 19, 20])"
   ]
  },
  {
   "cell_type": "markdown",
   "id": "d2a14d18-662b-42ce-aaf6-714e90f61040",
   "metadata": {},
   "source": [
    "you can use `np.unique` to print the unique values in your array:"
   ]
  },
  {
   "cell_type": "code",
   "execution_count": 102,
   "id": "4c1a95d9-3431-49dd-a1d1-c81aec38b072",
   "metadata": {},
   "outputs": [
    {
     "name": "stdout",
     "output_type": "stream",
     "text": [
      "[11 12 13 14 15 16 17 18 19 20]\n"
     ]
    }
   ],
   "source": [
    "unique_values = np.unique(a)\n",
    "print(unique_values)"
   ]
  },
  {
   "cell_type": "markdown",
   "id": "a8bb62b6-fa55-46ca-b3a1-e4b32d9694cf",
   "metadata": {},
   "source": [
    "To get the indices of unique values in a NumPy array (an array of first\n",
    "index positions of unique values in the array), just pass the\n",
    "`return_index` argument in `np.unique()` as well as your array. :"
   ]
  },
  {
   "cell_type": "code",
   "execution_count": 103,
   "id": "59e99c3d-a770-43a7-9405-a366fe021602",
   "metadata": {},
   "outputs": [
    {
     "name": "stdout",
     "output_type": "stream",
     "text": [
      "[ 0  2  3  4  5  6  7 12 13 14]\n"
     ]
    }
   ],
   "source": [
    "unique_values, indices_list = np.unique(a, return_index=True)\n",
    "print(indices_list)"
   ]
  },
  {
   "cell_type": "markdown",
   "id": "34a7b321-cdd0-49f5-8c21-19d33bc29871",
   "metadata": {},
   "source": [
    "You can pass the `return_counts` argument in `np.unique()` along with\n",
    "your array to get the frequency count of unique values in a NumPy array."
   ]
  },
  {
   "cell_type": "code",
   "execution_count": 104,
   "id": "1564fc03-75ea-4517-bdf3-12746c4697ee",
   "metadata": {},
   "outputs": [
    {
     "name": "stdout",
     "output_type": "stream",
     "text": [
      "[3 2 2 2 1 1 1 1 1 1]\n"
     ]
    }
   ],
   "source": [
    "unique_values, occurrence_count = np.unique(a, return_counts=True)\n",
    "print(occurrence_count)"
   ]
  },
  {
   "cell_type": "markdown",
   "id": "c3556cc9-45d3-4267-91ce-94725db0e808",
   "metadata": {},
   "source": [
    "This also works with 2D arrays! If you start with this array:"
   ]
  },
  {
   "cell_type": "code",
   "execution_count": 105,
   "id": "c629dd0c-485f-4541-b860-68b40dc0935a",
   "metadata": {},
   "outputs": [],
   "source": [
    "a_2d = np.array([[1, 2, 3, 4], [5, 6, 7, 8], [9, 10, 11, 12], [1, 2, 3, 4]])"
   ]
  },
  {
   "cell_type": "markdown",
   "id": "30edc16b-7a67-4327-bcc0-32e8064c38a4",
   "metadata": {},
   "source": [
    "You can find unique values with:"
   ]
  },
  {
   "cell_type": "code",
   "execution_count": 106,
   "id": "ef69ddf1-9217-45eb-8be7-1bd9cd6c0d37",
   "metadata": {},
   "outputs": [
    {
     "name": "stdout",
     "output_type": "stream",
     "text": [
      "[ 1  2  3  4  5  6  7  8  9 10 11 12]\n"
     ]
    }
   ],
   "source": [
    "unique_values = np.unique(a_2d)\n",
    "print(unique_values)"
   ]
  },
  {
   "cell_type": "markdown",
   "id": "d1b26c0a-bba7-417a-a4f1-b02925661dc6",
   "metadata": {},
   "source": [
    "If the axis argument isn\\'t passed, your 2D array will be flattened.\n",
    "\n",
    "If you want to get the unique rows or columns, make sure to pass the\n",
    "`axis` argument. To find the unique rows, specify `axis=0` and for\n",
    "columns, specify `axis=1`. :"
   ]
  },
  {
   "cell_type": "code",
   "execution_count": 107,
   "id": "7cc0ff56-a8a7-40fb-b8a4-8a896c4b84cf",
   "metadata": {},
   "outputs": [
    {
     "name": "stdout",
     "output_type": "stream",
     "text": [
      "[[ 1  2  3  4]\n",
      " [ 5  6  7  8]\n",
      " [ 9 10 11 12]]\n"
     ]
    }
   ],
   "source": [
    "unique_rows = np.unique(a_2d, axis=0)\n",
    "print(unique_rows)"
   ]
  },
  {
   "cell_type": "markdown",
   "id": "c1920607-0ae3-461f-83ab-2bcd39d0d07d",
   "metadata": {},
   "source": [
    "To get the unique rows, index position, and occurrence count, you can\n",
    "use:"
   ]
  },
  {
   "cell_type": "code",
   "execution_count": 108,
   "id": "a92a49a5-926a-491c-9c97-2f2a21134f63",
   "metadata": {},
   "outputs": [
    {
     "name": "stdout",
     "output_type": "stream",
     "text": [
      "[[ 1  2  3  4]\n",
      " [ 5  6  7  8]\n",
      " [ 9 10 11 12]]\n"
     ]
    }
   ],
   "source": [
    "unique_rows, indices, occurrence_count = np.unique(\n",
    "    a_2d, axis=0, return_counts=True, return_index=True)\n",
    "print(unique_rows)"
   ]
  },
  {
   "cell_type": "code",
   "execution_count": 109,
   "id": "4da25613-6b69-4fc1-81f6-ec5a0e9b97fb",
   "metadata": {},
   "outputs": [
    {
     "name": "stdout",
     "output_type": "stream",
     "text": [
      "[0 1 2]\n"
     ]
    }
   ],
   "source": [
    "print(indices)"
   ]
  },
  {
   "cell_type": "code",
   "execution_count": 110,
   "id": "ea2eb542-af2f-4110-a254-0c974a176df7",
   "metadata": {},
   "outputs": [
    {
     "name": "stdout",
     "output_type": "stream",
     "text": [
      "[2 1 1]\n"
     ]
    }
   ],
   "source": [
    "print(occurrence_count)"
   ]
  },
  {
   "cell_type": "markdown",
   "id": "5bc9725b-3f94-4d4b-bbf6-f2d620b39708",
   "metadata": {},
   "source": [
    "Transposing and reshaping a matrix\n",
    "----------------------------------\n",
    "\n",
    "*This section covers* `arr.reshape()`, `arr.transpose()`, `arr.T`\n",
    "\n",
    "------------------------------------------------------------------------\n",
    "\n",
    "It\\'s common to need to transpose your matrices. NumPy arrays have the\n",
    "property `T` that allows you to transpose a matrix.\n",
    "\n",
    "![image](images/np_transposing_reshaping.png)\n",
    "\n",
    "You may also need to switch the dimensions of a matrix. This can happen\n",
    "when, for example, you have a model that expects a certain input shape\n",
    "that is different from your dataset. This is where the `reshape` method\n",
    "can be useful. You simply need to pass in the new dimensions that you\n",
    "want for the matrix:"
   ]
  },
  {
   "cell_type": "code",
   "execution_count": 112,
   "id": "9d8c664d-795a-4382-bac9-b81eceb97704",
   "metadata": {},
   "outputs": [
    {
     "data": {
      "text/plain": [
       "array([[1, 2, 3],\n",
       "       [4, 5, 6]])"
      ]
     },
     "execution_count": 112,
     "metadata": {},
     "output_type": "execute_result"
    }
   ],
   "source": [
    "data.reshape(2, 3)"
   ]
  },
  {
   "cell_type": "code",
   "execution_count": 111,
   "id": "ae570c87-92b7-4d64-b054-e82ec7c215bd",
   "metadata": {},
   "outputs": [
    {
     "data": {
      "text/plain": [
       "array([[1, 2],\n",
       "       [3, 4],\n",
       "       [5, 6]])"
      ]
     },
     "execution_count": 111,
     "metadata": {},
     "output_type": "execute_result"
    }
   ],
   "source": [
    "data.reshape(3, 2)"
   ]
  },
  {
   "cell_type": "markdown",
   "id": "0899bc3e-8fc9-4010-9c4d-417a3c327441",
   "metadata": {},
   "source": [
    "![image](images/np_reshape.png)\n",
    "\n",
    "You can also use `.transpose()` to reverse or change the axes of an\n",
    "array according to the values you specify.\n",
    "\n",
    "If you start with this array:"
   ]
  },
  {
   "cell_type": "code",
   "execution_count": 113,
   "id": "65d91064-8c38-4f2f-9620-81ba9eb8527a",
   "metadata": {},
   "outputs": [
    {
     "data": {
      "text/plain": [
       "array([[0, 1, 2],\n",
       "       [3, 4, 5]])"
      ]
     },
     "execution_count": 113,
     "metadata": {},
     "output_type": "execute_result"
    }
   ],
   "source": [
    "arr = np.arange(6).reshape((2, 3))\n",
    "arr"
   ]
  },
  {
   "cell_type": "markdown",
   "id": "d5d68868-c612-4f46-a70c-4cc442a5cedc",
   "metadata": {},
   "source": [
    "You can transpose your array with `arr.transpose()`:"
   ]
  },
  {
   "cell_type": "code",
   "execution_count": 114,
   "id": "3cb13d15-9486-4616-a9e7-051828036581",
   "metadata": {},
   "outputs": [
    {
     "data": {
      "text/plain": [
       "array([[0, 3],\n",
       "       [1, 4],\n",
       "       [2, 5]])"
      ]
     },
     "execution_count": 114,
     "metadata": {},
     "output_type": "execute_result"
    }
   ],
   "source": [
    "arr.transpose()"
   ]
  },
  {
   "cell_type": "markdown",
   "id": "1853398b-21ff-44de-9889-3602b8e045a0",
   "metadata": {},
   "source": [
    "You can also use `arr.T`:"
   ]
  },
  {
   "cell_type": "code",
   "execution_count": 115,
   "id": "953f9f92-a8c1-4522-986d-f17468cd5181",
   "metadata": {},
   "outputs": [
    {
     "data": {
      "text/plain": [
       "array([[0, 3],\n",
       "       [1, 4],\n",
       "       [2, 5]])"
      ]
     },
     "execution_count": 115,
     "metadata": {},
     "output_type": "execute_result"
    }
   ],
   "source": [
    "arr.T"
   ]
  },
  {
   "cell_type": "markdown",
   "id": "2e2c05a6-71dd-491f-b14f-d37e0d6e9a1d",
   "metadata": {},
   "source": [
    "How to reverse an array\n",
    "-----------------------\n",
    "\n",
    "*This section covers* `np.flip()`\n",
    "\n",
    "------------------------------------------------------------------------\n",
    "\n",
    "NumPy\\'s `np.flip()` function allows you to flip, or reverse, the\n",
    "contents of an array along an axis. When using `np.flip()`, specify the\n",
    "array you would like to reverse and the axis. If you don\\'t specify the\n",
    "axis, NumPy will reverse the contents along all of the axes of your\n",
    "input array.\n",
    "\n",
    "**Reversing a 1D array**\n",
    "\n",
    "If you begin with a 1D array like this one:"
   ]
  },
  {
   "cell_type": "code",
   "execution_count": 116,
   "id": "81979e96-2500-4266-baca-b444cbc70084",
   "metadata": {},
   "outputs": [],
   "source": [
    "arr = np.array([1, 2, 3, 4, 5, 6, 7, 8])"
   ]
  },
  {
   "cell_type": "markdown",
   "id": "b525ed32-35c3-4bfb-95f7-e3ecbc4df701",
   "metadata": {},
   "source": [
    "You can reverse it with:"
   ]
  },
  {
   "cell_type": "code",
   "execution_count": 117,
   "id": "c82af72f-25c6-4056-b4eb-263dbade36d1",
   "metadata": {},
   "outputs": [],
   "source": [
    "reversed_arr = np.flip(arr)"
   ]
  },
  {
   "cell_type": "markdown",
   "id": "e7e3b736-efd0-48a3-812e-3890bae12c3d",
   "metadata": {},
   "source": [
    "If you want to print your reversed array, you can run:"
   ]
  },
  {
   "cell_type": "code",
   "execution_count": 118,
   "id": "8bcae030-8012-4562-bd6f-0aa85e999cab",
   "metadata": {},
   "outputs": [
    {
     "name": "stdout",
     "output_type": "stream",
     "text": [
      "Reversed Array:  [8 7 6 5 4 3 2 1]\n"
     ]
    }
   ],
   "source": [
    "print('Reversed Array: ', reversed_arr)"
   ]
  },
  {
   "cell_type": "markdown",
   "id": "a326ede6-ac2d-43af-b00a-a598f177a2e5",
   "metadata": {},
   "source": [
    "**Reversing a 2D array**\n",
    "\n",
    "A 2D array works much the same way.\n",
    "\n",
    "If you start with this array:"
   ]
  },
  {
   "cell_type": "code",
   "execution_count": 119,
   "id": "7d0fbb1f-b3fd-463e-b0e6-19dc7f4e112a",
   "metadata": {},
   "outputs": [],
   "source": [
    "arr_2d = np.array([[1, 2, 3, 4], [5, 6, 7, 8], [9, 10, 11, 12]])"
   ]
  },
  {
   "cell_type": "markdown",
   "id": "5065512b-4c65-4a78-aa64-1d26265aa297",
   "metadata": {},
   "source": [
    "You can reverse the content in all of the rows and all of the columns\n",
    "with:"
   ]
  },
  {
   "cell_type": "code",
   "execution_count": 120,
   "id": "b5dfc8be-09cc-4481-b33d-354559fe9fdf",
   "metadata": {},
   "outputs": [
    {
     "name": "stdout",
     "output_type": "stream",
     "text": [
      "[[12 11 10  9]\n",
      " [ 8  7  6  5]\n",
      " [ 4  3  2  1]]\n"
     ]
    }
   ],
   "source": [
    "reversed_arr = np.flip(arr_2d)\n",
    "print(reversed_arr)"
   ]
  },
  {
   "cell_type": "markdown",
   "id": "27c47159-31ba-4ef6-ad11-5e2d12faf8aa",
   "metadata": {},
   "source": [
    "You can easily reverse only the *rows* with:"
   ]
  },
  {
   "cell_type": "code",
   "execution_count": 121,
   "id": "859e65f6-bbe3-4a75-a862-25e6966672e5",
   "metadata": {},
   "outputs": [
    {
     "name": "stdout",
     "output_type": "stream",
     "text": [
      "[[ 9 10 11 12]\n",
      " [ 5  6  7  8]\n",
      " [ 1  2  3  4]]\n"
     ]
    }
   ],
   "source": [
    "reversed_arr_rows = np.flip(arr_2d, axis=0)\n",
    "print(reversed_arr_rows)"
   ]
  },
  {
   "cell_type": "markdown",
   "id": "dcba7ba3-dba0-4458-8609-46e4a0d551b6",
   "metadata": {},
   "source": [
    "Or reverse only the *columns* with:"
   ]
  },
  {
   "cell_type": "code",
   "execution_count": 122,
   "id": "1b278f82-86e8-444e-8921-4f1ba28cf3cc",
   "metadata": {},
   "outputs": [
    {
     "name": "stdout",
     "output_type": "stream",
     "text": [
      "[[ 4  3  2  1]\n",
      " [ 8  7  6  5]\n",
      " [12 11 10  9]]\n"
     ]
    }
   ],
   "source": [
    "reversed_arr_columns = np.flip(arr_2d, axis=1)\n",
    "print(reversed_arr_columns)"
   ]
  },
  {
   "cell_type": "markdown",
   "id": "8e820da3-49db-4358-94d9-d05e2f57cd1c",
   "metadata": {},
   "source": [
    "Read more about reversing arrays at [flip](https://numpy.org/devdocs/reference/generated/numpy.flip.html#numpy.flip)."
   ]
  },
  {
   "cell_type": "markdown",
   "id": "801b0fc6-e2c3-4ed4-98ac-b245b1d7171d",
   "metadata": {},
   "source": [
    "Reshaping and flattening multidimensional arrays\n",
    "------------------------------------------------\n",
    "\n",
    "*This section covers* `.flatten()`, `ravel()`\n",
    "\n",
    "------------------------------------------------------------------------\n",
    "\n",
    "There are two popular ways to flatten an array: `.flatten()` and\n",
    "`.ravel()`. The primary difference between the two is that the new array\n",
    "created using `ravel()` is actually a reference to the parent array\n",
    "(i.e., a \\\"view\\\"). This means that any changes to the new array will\n",
    "affect the parent array as well. Since `ravel` does not create a copy,\n",
    "it\\'s memory efficient.\n",
    "\n",
    "If you start with this array:"
   ]
  },
  {
   "cell_type": "markdown",
   "id": "0fbf96d5-14b7-443f-85e2-d54e50f65f5f",
   "metadata": {},
   "source": [
    "    >>> x = np.array([[1 , 2, 3, 4], [5, 6, 7, 8], [9, 10, 11, 12]])"
   ]
  },
  {
   "cell_type": "markdown",
   "id": "4803a20a-3f2c-42c5-b0cf-8c3f6a9e2889",
   "metadata": {},
   "source": [
    "You can use `flatten` to flatten your array into a 1D array. :"
   ]
  },
  {
   "cell_type": "code",
   "execution_count": 131,
   "id": "c30c15a3-55cf-4cbc-b5aa-ce5053d75e96",
   "metadata": {},
   "outputs": [
    {
     "data": {
      "text/plain": [
       "array([ 1,  2,  3,  4,  5,  6,  7,  8,  9, 10, 11, 12, 13, 14, 15, 16, 17,\n",
       "       18, 19, 20, 21, 22, 23, 24])"
      ]
     },
     "execution_count": 131,
     "metadata": {},
     "output_type": "execute_result"
    }
   ],
   "source": [
    "x.flatten()"
   ]
  },
  {
   "cell_type": "markdown",
   "id": "2d6e1b4b-1dae-4b80-a3fa-5ece5e23821e",
   "metadata": {},
   "source": [
    "When you use `flatten`, changes to your new array won\\'t change the\n",
    "parent array.\n",
    "\n",
    "For example:"
   ]
  },
  {
   "cell_type": "code",
   "execution_count": 133,
   "id": "c3bdb28e-53d7-4fd1-bac5-53c9c7e05e34",
   "metadata": {},
   "outputs": [
    {
     "name": "stdout",
     "output_type": "stream",
     "text": [
      "[[ 1  2  3  4  5  6  7  8  9 10 11 12]\n",
      " [13 14 15 16 17 18 19 20 21 22 23 24]]\n"
     ]
    }
   ],
   "source": [
    "a1 = x.flatten()\n",
    "a1[0] = 99\n",
    "print(x)  # Original array"
   ]
  },
  {
   "cell_type": "code",
   "execution_count": 134,
   "id": "36630350-91f0-45b2-9c78-c8065f669a85",
   "metadata": {},
   "outputs": [
    {
     "name": "stdout",
     "output_type": "stream",
     "text": [
      "[99  2  3  4  5  6  7  8  9 10 11 12 13 14 15 16 17 18 19 20 21 22 23 24]\n"
     ]
    }
   ],
   "source": [
    "print(a1)  # New array"
   ]
  },
  {
   "cell_type": "markdown",
   "id": "fe255d27-d96b-4f6d-aa17-94a4b50f3fb9",
   "metadata": {},
   "source": [
    "But when you use `ravel`, the changes you make to the new array will\n",
    "affect the parent array.\n",
    "\n",
    "For example:"
   ]
  },
  {
   "cell_type": "code",
   "execution_count": 135,
   "id": "c6bdd9a1-7ee6-41d6-af95-c61f5db0999b",
   "metadata": {},
   "outputs": [
    {
     "name": "stdout",
     "output_type": "stream",
     "text": [
      "[[98  2  3  4  5  6  7  8  9 10 11 12]\n",
      " [13 14 15 16 17 18 19 20 21 22 23 24]]\n"
     ]
    }
   ],
   "source": [
    "a2 = x.ravel()\n",
    "a2[0] = 98\n",
    "print(x)  # Original array"
   ]
  },
  {
   "cell_type": "code",
   "execution_count": 136,
   "id": "33f91bb7-ae17-449e-bde4-940c0c737748",
   "metadata": {},
   "outputs": [
    {
     "name": "stdout",
     "output_type": "stream",
     "text": [
      "[98  2  3  4  5  6  7  8  9 10 11 12 13 14 15 16 17 18 19 20 21 22 23 24]\n"
     ]
    }
   ],
   "source": [
    "print(a2)  # New array"
   ]
  },
  {
   "cell_type": "markdown",
   "id": "7ed4d3d9-d418-45f8-aaea-ae734f9342ea",
   "metadata": {},
   "source": [
    "How to access the docstring for more information\n",
    "------------------------------------------------\n",
    "\n",
    "*This section covers* `help()`, `?`, `??`\n",
    "\n",
    "------------------------------------------------------------------------\n",
    "\n",
    "When it comes to the data science ecosystem, Python and NumPy are built\n",
    "with the user in mind. One of the best examples of this is the built-in\n",
    "access to documentation. Every object contains the reference to a\n",
    "string, which is known as the **docstring**. In most cases, this\n",
    "docstring contains a quick and concise summary of the object and how to\n",
    "use it. Python has a built-in `help()` function that can help you access\n",
    "this information. This means that nearly any time you need more\n",
    "information, you can use `help()` to quickly find the information that\n",
    "you need.\n",
    "\n",
    "For example:"
   ]
  },
  {
   "cell_type": "code",
   "execution_count": 124,
   "id": "b709eb4f-fde2-4340-9c53-96777359b658",
   "metadata": {},
   "outputs": [
    {
     "name": "stdout",
     "output_type": "stream",
     "text": [
      "Help on built-in function max in module builtins:\n",
      "\n",
      "max(...)\n",
      "    max(iterable, *[, default=obj, key=func]) -> value\n",
      "    max(arg1, arg2, *args, *[, key=func]) -> value\n",
      "    \n",
      "    With a single iterable argument, return its biggest item. The\n",
      "    default keyword-only argument specifies an object to return if\n",
      "    the provided iterable is empty.\n",
      "    With two or more arguments, return the largest argument.\n",
      "\n"
     ]
    }
   ],
   "source": [
    "help(max)"
   ]
  },
  {
   "cell_type": "markdown",
   "id": "462ecdd2-09d7-4266-9687-c05be269ccfc",
   "metadata": {},
   "source": [
    "Because access to additional information is so useful, IPython uses the\n",
    "`?` character as a shorthand for accessing this documentation along with\n",
    "other relevant information. IPython is a command shell for interactive\n",
    "computing in multiple languages. [You can find more information about\n",
    "IPython here](https://ipython.org/).\n",
    "\n",
    "For example:"
   ]
  },
  {
   "cell_type": "code",
   "execution_count": 125,
   "id": "386ed914-6dc8-4d1a-a4bb-82c02e6d966e",
   "metadata": {},
   "outputs": [
    {
     "data": {
      "text/plain": [
       "\u001b[0;31mDocstring:\u001b[0m\n",
       "max(iterable, *[, default=obj, key=func]) -> value\n",
       "max(arg1, arg2, *args, *[, key=func]) -> value\n",
       "\n",
       "With a single iterable argument, return its biggest item. The\n",
       "default keyword-only argument specifies an object to return if\n",
       "the provided iterable is empty.\n",
       "With two or more arguments, return the largest argument.\n",
       "\u001b[0;31mType:\u001b[0m      builtin_function_or_method\n"
      ]
     },
     "metadata": {},
     "output_type": "display_data"
    }
   ],
   "source": [
    "max?"
   ]
  },
  {
   "cell_type": "markdown",
   "id": "06a51137-2a14-46e1-af3d-cc1f075d2967",
   "metadata": {},
   "source": [
    "You can even use this notation for object methods and objects\n",
    "themselves.\n",
    "\n",
    "Let\\'s say you create this array:"
   ]
  },
  {
   "cell_type": "code",
   "execution_count": 126,
   "id": "76bac3d3-b8b2-4c94-84a2-0fda2a32522c",
   "metadata": {},
   "outputs": [],
   "source": [
    "a = np.array([1, 2, 3, 4, 5, 6])"
   ]
  },
  {
   "cell_type": "markdown",
   "id": "65c533b1-cc54-470d-9249-d67e483ef207",
   "metadata": {},
   "source": [
    "Then you can obtain a lot of useful information (first details about `a`\n",
    "itself, followed by the docstring of `ndarray` of which `a` is an\n",
    "instance):\n"
   ]
  },
  {
   "cell_type": "code",
   "execution_count": 127,
   "id": "f0be1bb2-2543-4a22-b82b-9f68089080ae",
   "metadata": {},
   "outputs": [
    {
     "data": {
      "text/plain": [
       "\u001b[0;31mType:\u001b[0m        ndarray\n",
       "\u001b[0;31mString form:\u001b[0m [1 2 3 4 5 6]\n",
       "\u001b[0;31mLength:\u001b[0m      6\n",
       "\u001b[0;31mFile:\u001b[0m        ~/opt/anaconda3/envs/jupyter_books/lib/python3.10/site-packages/numpy/__init__.py\n",
       "\u001b[0;31mDocstring:\u001b[0m  \n",
       "ndarray(shape, dtype=float, buffer=None, offset=0,\n",
       "        strides=None, order=None)\n",
       "\n",
       "An array object represents a multidimensional, homogeneous array\n",
       "of fixed-size items.  An associated data-type object describes the\n",
       "format of each element in the array (its byte-order, how many bytes it\n",
       "occupies in memory, whether it is an integer, a floating point number,\n",
       "or something else, etc.)\n",
       "\n",
       "Arrays should be constructed using `array`, `zeros` or `empty` (refer\n",
       "to the See Also section below).  The parameters given here refer to\n",
       "a low-level method (`ndarray(...)`) for instantiating an array.\n",
       "\n",
       "For more information, refer to the `numpy` module and examine the\n",
       "methods and attributes of an array.\n",
       "\n",
       "Parameters\n",
       "----------\n",
       "(for the __new__ method; see Notes below)\n",
       "\n",
       "shape : tuple of ints\n",
       "    Shape of created array.\n",
       "dtype : data-type, optional\n",
       "    Any object that can be interpreted as a numpy data type.\n",
       "buffer : object exposing buffer interface, optional\n",
       "    Used to fill the array with data.\n",
       "offset : int, optional\n",
       "    Offset of array data in buffer.\n",
       "strides : tuple of ints, optional\n",
       "    Strides of data in memory.\n",
       "order : {'C', 'F'}, optional\n",
       "    Row-major (C-style) or column-major (Fortran-style) order.\n",
       "\n",
       "Attributes\n",
       "----------\n",
       "T : ndarray\n",
       "    Transpose of the array.\n",
       "data : buffer\n",
       "    The array's elements, in memory.\n",
       "dtype : dtype object\n",
       "    Describes the format of the elements in the array.\n",
       "flags : dict\n",
       "    Dictionary containing information related to memory use, e.g.,\n",
       "    'C_CONTIGUOUS', 'OWNDATA', 'WRITEABLE', etc.\n",
       "flat : numpy.flatiter object\n",
       "    Flattened version of the array as an iterator.  The iterator\n",
       "    allows assignments, e.g., ``x.flat = 3`` (See `ndarray.flat` for\n",
       "    assignment examples; TODO).\n",
       "imag : ndarray\n",
       "    Imaginary part of the array.\n",
       "real : ndarray\n",
       "    Real part of the array.\n",
       "size : int\n",
       "    Number of elements in the array.\n",
       "itemsize : int\n",
       "    The memory use of each array element in bytes.\n",
       "nbytes : int\n",
       "    The total number of bytes required to store the array data,\n",
       "    i.e., ``itemsize * size``.\n",
       "ndim : int\n",
       "    The array's number of dimensions.\n",
       "shape : tuple of ints\n",
       "    Shape of the array.\n",
       "strides : tuple of ints\n",
       "    The step-size required to move from one element to the next in\n",
       "    memory. For example, a contiguous ``(3, 4)`` array of type\n",
       "    ``int16`` in C-order has strides ``(8, 2)``.  This implies that\n",
       "    to move from element to element in memory requires jumps of 2 bytes.\n",
       "    To move from row-to-row, one needs to jump 8 bytes at a time\n",
       "    (``2 * 4``).\n",
       "ctypes : ctypes object\n",
       "    Class containing properties of the array needed for interaction\n",
       "    with ctypes.\n",
       "base : ndarray\n",
       "    If the array is a view into another array, that array is its `base`\n",
       "    (unless that array is also a view).  The `base` array is where the\n",
       "    array data is actually stored.\n",
       "\n",
       "See Also\n",
       "--------\n",
       "array : Construct an array.\n",
       "zeros : Create an array, each element of which is zero.\n",
       "empty : Create an array, but leave its allocated memory unchanged (i.e.,\n",
       "        it contains \"garbage\").\n",
       "dtype : Create a data-type.\n",
       "numpy.typing.NDArray : An ndarray alias :term:`generic <generic type>`\n",
       "                       w.r.t. its `dtype.type <numpy.dtype.type>`.\n",
       "\n",
       "Notes\n",
       "-----\n",
       "There are two modes of creating an array using ``__new__``:\n",
       "\n",
       "1. If `buffer` is None, then only `shape`, `dtype`, and `order`\n",
       "   are used.\n",
       "2. If `buffer` is an object exposing the buffer interface, then\n",
       "   all keywords are interpreted.\n",
       "\n",
       "No ``__init__`` method is needed because the array is fully initialized\n",
       "after the ``__new__`` method.\n",
       "\n",
       "Examples\n",
       "--------\n",
       "These examples illustrate the low-level `ndarray` constructor.  Refer\n",
       "to the `See Also` section above for easier ways of constructing an\n",
       "ndarray.\n",
       "\n",
       "First mode, `buffer` is None:\n",
       "\n",
       ">>> np.ndarray(shape=(2,2), dtype=float, order='F')\n",
       "array([[0.0e+000, 0.0e+000], # random\n",
       "       [     nan, 2.5e-323]])\n",
       "\n",
       "Second mode:\n",
       "\n",
       ">>> np.ndarray((2,), buffer=np.array([1,2,3]),\n",
       "...            offset=np.int_().itemsize,\n",
       "...            dtype=int) # offset = 1*itemsize, i.e. skip first element\n",
       "array([2, 3])\n"
      ]
     },
     "metadata": {},
     "output_type": "display_data"
    }
   ],
   "source": [
    "a?"
   ]
  },
  {
   "cell_type": "markdown",
   "id": "edb374f8-0eea-4976-a24e-c949f4d89191",
   "metadata": {},
   "source": [
    "This also works for functions and other objects that **you** create.\n",
    "Just remember to include a docstring with your function using a string\n",
    "literal (`\"\"\" \"\"\"` or `''' '''` around your documentation).\n",
    "\n",
    "For example, if you create this function:"
   ]
  },
  {
   "cell_type": "code",
   "execution_count": 128,
   "id": "33589485-a15d-4c29-a469-c5c45e65d488",
   "metadata": {},
   "outputs": [],
   "source": [
    "def double(a):\n",
    "    '''Return a * 2'''\n",
    "    return a * 2"
   ]
  },
  {
   "cell_type": "markdown",
   "id": "f817a2dc-9a54-44aa-addc-3b22e5ea03c2",
   "metadata": {},
   "source": [
    "You can obtain information about the function:"
   ]
  },
  {
   "cell_type": "code",
   "execution_count": 129,
   "id": "5e88fc32-ff18-454a-a326-1092e17ab0ac",
   "metadata": {},
   "outputs": [
    {
     "data": {
      "text/plain": [
       "\u001b[0;31mSignature:\u001b[0m \u001b[0mdouble\u001b[0m\u001b[0;34m(\u001b[0m\u001b[0ma\u001b[0m\u001b[0;34m)\u001b[0m\u001b[0;34m\u001b[0m\u001b[0;34m\u001b[0m\u001b[0m\n",
       "\u001b[0;31mDocstring:\u001b[0m Return a * 2\n",
       "\u001b[0;31mFile:\u001b[0m      /var/folders/42/fy648srd41l966jbjlswhljc0000gn/T/ipykernel_44665/2713554790.py\n",
       "\u001b[0;31mType:\u001b[0m      function\n"
      ]
     },
     "metadata": {},
     "output_type": "display_data"
    }
   ],
   "source": [
    "double?"
   ]
  },
  {
   "cell_type": "markdown",
   "id": "39b2abe1-6bcb-4ef1-90ab-5d0168d9682f",
   "metadata": {},
   "source": [
    "You can reach another level of information by reading the source code of\n",
    "the object you\\'re interested in. Using a double question mark (`??`)\n",
    "allows you to access the source code.\n",
    "\n",
    "For example:"
   ]
  },
  {
   "cell_type": "code",
   "execution_count": 130,
   "id": "f965733c-0e2b-4b50-8181-f1446c40c60b",
   "metadata": {},
   "outputs": [
    {
     "data": {
      "text/plain": [
       "\u001b[0;31mSignature:\u001b[0m \u001b[0mdouble\u001b[0m\u001b[0;34m(\u001b[0m\u001b[0ma\u001b[0m\u001b[0;34m)\u001b[0m\u001b[0;34m\u001b[0m\u001b[0;34m\u001b[0m\u001b[0m\n",
       "\u001b[0;31mSource:\u001b[0m   \n",
       "\u001b[0;32mdef\u001b[0m \u001b[0mdouble\u001b[0m\u001b[0;34m(\u001b[0m\u001b[0ma\u001b[0m\u001b[0;34m)\u001b[0m\u001b[0;34m:\u001b[0m\u001b[0;34m\u001b[0m\n",
       "\u001b[0;34m\u001b[0m    \u001b[0;34m'''Return a * 2'''\u001b[0m\u001b[0;34m\u001b[0m\n",
       "\u001b[0;34m\u001b[0m    \u001b[0;32mreturn\u001b[0m \u001b[0ma\u001b[0m \u001b[0;34m*\u001b[0m \u001b[0;36m2\u001b[0m\u001b[0;34m\u001b[0m\u001b[0;34m\u001b[0m\u001b[0m\n",
       "\u001b[0;31mFile:\u001b[0m      /var/folders/42/fy648srd41l966jbjlswhljc0000gn/T/ipykernel_44665/2713554790.py\n",
       "\u001b[0;31mType:\u001b[0m      function\n"
      ]
     },
     "metadata": {},
     "output_type": "display_data"
    }
   ],
   "source": [
    "double??"
   ]
  },
  {
   "cell_type": "markdown",
   "id": "eead384f-14a8-4703-be12-c0d4f7df8d04",
   "metadata": {},
   "source": [
    "Working with mathematical formulas\n",
    "----------------------------------\n",
    "\n",
    "The ease of implementing mathematical formulas that work on arrays is\n",
    "one of the things that make NumPy so widely used in the scientific\n",
    "Python community.\n",
    "\n",
    "For example, this is the mean square error formula (a central formula\n",
    "used in supervised machine learning models that deal with regression):\n",
    "\n",
    "![image](images/np_MSE_formula.png)\n",
    "\n",
    "Implementing this formula is simple and straightforward in NumPy:\n",
    "\n",
    "![image](images/np_MSE_implementation.png)\n",
    "\n",
    "What makes this work so well is that `predictions` and `labels` can\n",
    "contain one or a thousand values. They only need to be the same size.\n",
    "\n",
    "You can visualize it this way:\n",
    "\n",
    "![image](images/np_mse_viz1.png)\n",
    "\n",
    "In this example, both the predictions and labels vectors contain three\n",
    "values, meaning `n` has a value of three. After we carry out\n",
    "subtractions the values in the vector are squared. Then NumPy sums the\n",
    "values, and your result is the error value for that prediction and a\n",
    "score for the quality of the model.\n",
    "\n",
    "![image](images/np_mse_viz2.png)\n",
    "\n",
    "![image](images/np_MSE_explanation2.png)"
   ]
  },
  {
   "cell_type": "markdown",
   "id": "b489aeab-b5e4-4911-8a13-e8427e1872bb",
   "metadata": {},
   "source": [
    "How to save and load NumPy objects \n",
    "----------------------------------\n",
    "\n",
    "**Note:** We will go into much greater depth with file input/output (I/O)\n",
    "in future lectures. This is a quick primer on some core ideas using\n",
    "NumPy.\n",
    "\n",
    "*This section covers* `np.save`, `np.savez`, `np.savetxt`, `np.load`,\n",
    "`np.loadtxt`\n",
    "\n",
    "------------------------------------------------------------------------\n",
    "\n",
    "You will, at some point, want to save your arrays to disk and load them\n",
    "back without having to re-run the code. Fortunately, there are several\n",
    "ways to save and load objects with NumPy. The ndarray objects can be\n",
    "saved to and loaded from the disk files with `loadtxt` and `savetxt`\n",
    "functions that handle normal text files, `load` and `save` functions\n",
    "that handle NumPy binary files with a **.npy** file extension, and a\n",
    "`savez` function that handles NumPy files with a **.npz** file\n",
    "extension.\n",
    "\n",
    "The **.npy** and **.npz** files store data, shape, dtype, and other\n",
    "information required to reconstruct the ndarray in a way that allows the\n",
    "array to be correctly retrieved, even when the file is on another\n",
    "machine with different architecture.\n",
    "\n",
    "If you want to store a single ndarray object, store it as a .npy file\n",
    "using `np.save`. If you want to store more than one ndarray object in a\n",
    "single file, save it as a .npz file using `np.savez`. You can also save\n",
    "several arrays into a single file in compressed npz format with\n",
    "[savez\\_compressed]{.title-ref}.\n",
    "\n",
    "It\\'s easy to save and load and array with `np.save()`. Just make sure\n",
    "to specify the array you want to save and a file name. For example, if\n",
    "you create this array:"
   ]
  },
  {
   "cell_type": "code",
   "execution_count": 137,
   "id": "ca6e49d1-c53b-4313-973a-4f3e8e9a6297",
   "metadata": {},
   "outputs": [],
   "source": [
    "a = np.array([1, 2, 3, 4, 5, 6])"
   ]
  },
  {
   "cell_type": "markdown",
   "id": "1176e639-cb38-46d6-86a0-3ce9c28f84c0",
   "metadata": {},
   "source": [
    "You can save it as \\\"filename.npy\\\" with:"
   ]
  },
  {
   "cell_type": "code",
   "execution_count": 138,
   "id": "7fbaadcd-7ab1-430d-be65-5a2a3fd30729",
   "metadata": {},
   "outputs": [],
   "source": [
    "np.save('filename', a)"
   ]
  },
  {
   "cell_type": "markdown",
   "id": "22f1c58f-39a5-4d7f-8b08-1d29c848e3b7",
   "metadata": {},
   "source": [
    "You can use `np.load()` to reconstruct your array:"
   ]
  },
  {
   "cell_type": "code",
   "execution_count": 139,
   "id": "f06c1482-8f58-4c86-a1a1-15ab03bfb9f2",
   "metadata": {},
   "outputs": [],
   "source": [
    "b = np.load('filename.npy')"
   ]
  },
  {
   "cell_type": "markdown",
   "id": "1e566997-a930-4d63-a732-d504d839bc87",
   "metadata": {},
   "source": [
    "If you want to check your array, you can run:"
   ]
  },
  {
   "cell_type": "code",
   "execution_count": 140,
   "id": "7419e2dd-eba9-4c6f-8aa2-581df1df53a7",
   "metadata": {},
   "outputs": [
    {
     "name": "stdout",
     "output_type": "stream",
     "text": [
      "[1 2 3 4 5 6]\n"
     ]
    }
   ],
   "source": [
    "print(b)"
   ]
  },
  {
   "cell_type": "markdown",
   "id": "be8828bf-5cec-4f3d-a1b5-7423e08820ca",
   "metadata": {},
   "source": [
    "You can save a NumPy array as a plain text file like a **.csv** or\n",
    "**.txt** file with `np.savetxt`.\n",
    "\n",
    "For example, if you create this array:"
   ]
  },
  {
   "cell_type": "code",
   "execution_count": 141,
   "id": "0ce193f8-73e0-45d1-8e8c-1d83677e0505",
   "metadata": {},
   "outputs": [],
   "source": [
    "csv_arr = np.array([1, 2, 3, 4, 5, 6, 7, 8])"
   ]
  },
  {
   "cell_type": "markdown",
   "id": "c416039d-7599-40ac-bb11-1df9c2ce5666",
   "metadata": {},
   "source": [
    "You can easily save it as a .csv file with the name \\\"new\\_file.csv\\\"\n",
    "like this:"
   ]
  },
  {
   "cell_type": "code",
   "execution_count": 142,
   "id": "266b3569-f450-4068-a9c7-73e1e581c040",
   "metadata": {},
   "outputs": [],
   "source": [
    "np.savetxt('new_file.csv', csv_arr)"
   ]
  },
  {
   "cell_type": "markdown",
   "id": "940bf7dc-3ecb-4e5c-80a6-4b6773700090",
   "metadata": {},
   "source": [
    "You can quickly and easily load your saved text file using `loadtxt()`:"
   ]
  },
  {
   "cell_type": "code",
   "execution_count": 143,
   "id": "c83c60ba-f926-44a4-8171-1f79860a8efb",
   "metadata": {},
   "outputs": [
    {
     "data": {
      "text/plain": [
       "array([1., 2., 3., 4., 5., 6., 7., 8.])"
      ]
     },
     "execution_count": 143,
     "metadata": {},
     "output_type": "execute_result"
    }
   ],
   "source": [
    "np.loadtxt('new_file.csv')   "
   ]
  },
  {
   "cell_type": "markdown",
   "id": "e892ce15-6086-4c0d-b2bf-bb03345b5623",
   "metadata": {},
   "source": [
    "---\n",
    "# Exercises"
   ]
  },
  {
   "cell_type": "markdown",
   "id": "f4c41eed-790c-4237-9ea2-22828dc2f1c7",
   "metadata": {},
   "source": [
    "### In class mini-lecture: Work through OLS example above\n"
   ]
  },
  {
   "cell_type": "code",
   "execution_count": null,
   "id": "c37b821d-37e0-46cc-bfaf-05baad06a71c",
   "metadata": {},
   "outputs": [],
   "source": [
    "- Create a matrix\n",
    "    - Get its shape\n",
    "    - Index and slice\n",
    "    - Create a submatrix\n",
    "    - Broadcast (simple artithmetic)\n",
    "    - Transpose and reshape\n",
    "    - Projection?"
   ]
  },
  {
   "cell_type": "markdown",
   "id": "a822f99e-7378-4537-a728-fd7ef39dcad1",
   "metadata": {},
   "source": [
    "## Create a $5 \\times 4$ matrix $M$.\n",
    "Fit $M$ with a mixture of values. "
   ]
  },
  {
   "cell_type": "code",
   "execution_count": 3,
   "id": "0484d5f5-b878-49ce-910d-5df3db0b648c",
   "metadata": {},
   "outputs": [],
   "source": [
    "              "
   ]
  },
  {
   "cell_type": "markdown",
   "id": "cc287c93-bee9-4012-aa17-8ff61868a2e8",
   "metadata": {},
   "source": [
    "## Indexing and slicing\n",
    "\n",
    "Assign the entire third column to a variable. Call it `third_col`.\n"
   ]
  },
  {
   "cell_type": "code",
   "execution_count": null,
   "id": "8ba36702-8a56-4afe-a9b3-692c3af3f83c",
   "metadata": {},
   "outputs": [],
   "source": []
  },
  {
   "cell_type": "markdown",
   "id": "a20365e4-f477-4d33-b9a9-2e3541afdbce",
   "metadata": {},
   "source": [
    "Print the value of the element in the second row and fourth column.  "
   ]
  },
  {
   "cell_type": "code",
   "execution_count": null,
   "id": "d8b0a9b1-5ba4-4b6c-a2d4-40cd3a054531",
   "metadata": {},
   "outputs": [],
   "source": []
  },
  {
   "cell_type": "markdown",
   "id": "17215665-5fc5-42b1-be23-71e62dfbe3b8",
   "metadata": {},
   "source": [
    "Create a submatrix comprised of the elements in the bottom right quadrant of $M$. Call this sub-matrix $M_sub$."
   ]
  },
  {
   "cell_type": "code",
   "execution_count": null,
   "id": "0f83139f-a0bd-49ad-8193-c86b8f1fc18e",
   "metadata": {},
   "outputs": [],
   "source": []
  },
  {
   "cell_type": "markdown",
   "id": "0e9c709c-d1aa-4093-8f34-a31cf3208781",
   "metadata": {},
   "source": [
    "## Broadcasting\n",
    "\n",
    "Redefine $M$ by adding 1.2 to each element. "
   ]
  },
  {
   "cell_type": "code",
   "execution_count": 7,
   "id": "3e3dfb7c-2ad9-4af7-9d9e-18c8a0f18b4a",
   "metadata": {},
   "outputs": [
    {
     "data": {
      "text/plain": [
       "array([[  4.2 ,   3.2 ,   5.2 ,   2.2 ],\n",
       "       [  2.2 ,   3.2 ,   4.2 ,   7.2 ],\n",
       "       [ 11.2 ,  -1.8 ,   3.2 ,   2.2 ],\n",
       "       [  2.2 ,   7.2 , -17.8 ,  13.2 ],\n",
       "       [ 14.2 ,   1.74,   3.2 ,  14.2 ]])"
      ]
     },
     "execution_count": 7,
     "metadata": {},
     "output_type": "execute_result"
    }
   ],
   "source": []
  },
  {
   "cell_type": "markdown",
   "id": "95409b7a-ed77-40a0-8feb-706489282626",
   "metadata": {},
   "source": [
    "How many times did you type 1.2 to accomplish this?"
   ]
  },
  {
   "cell_type": "code",
   "execution_count": null,
   "id": "0bebe7cb-7f38-4af2-ad1f-2e88324aeb46",
   "metadata": {},
   "outputs": [],
   "source": []
  },
  {
   "cell_type": "markdown",
   "id": "2693d787-5ce3-41b4-9d31-7f0e4612b88b",
   "metadata": {},
   "source": [
    "## Reshape $M$ so that its rows become the columns and the columns become the rows. \n",
    "\n",
    "Before you do, what will the new shape of $M$ be?"
   ]
  },
  {
   "cell_type": "code",
   "execution_count": null,
   "id": "2d3c1f6f-2cd7-4544-ad3a-711d5fd958d3",
   "metadata": {},
   "outputs": [],
   "source": []
  },
  {
   "cell_type": "markdown",
   "id": "14328beb-1457-4f92-99e8-00cdba5a4119",
   "metadata": {},
   "source": [
    "## Now reshape $M$ into a $10 \\times 2$ matrix"
   ]
  },
  {
   "cell_type": "code",
   "execution_count": null,
   "id": "87a14cd1-83ed-4e6f-948c-89c7fcc707a4",
   "metadata": {},
   "outputs": [],
   "source": []
  }
 ],
 "metadata": {
  "kernelspec": {
   "display_name": "Python 3 (ipykernel)",
   "language": "python",
   "name": "python3"
  },
  "language_info": {
   "codemirror_mode": {
    "name": "ipython",
    "version": 3
   },
   "file_extension": ".py",
   "mimetype": "text/x-python",
   "name": "python",
   "nbconvert_exporter": "python",
   "pygments_lexer": "ipython3",
   "version": "3.10.8"
  }
 },
 "nbformat": 4,
 "nbformat_minor": 5
}
