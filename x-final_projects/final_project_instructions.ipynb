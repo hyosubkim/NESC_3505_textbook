{
 "cells": [
  {
   "cell_type": "markdown",
   "id": "8924e7a9-1f74-40ff-b160-ae4936f88cf5",
   "metadata": {},
   "source": [
    "# Final Projects\n",
    "\n",
    "### Stages:\n",
    "- Form groups of 2-3 students and submit group members' names\n",
    "- Submit project idea\n",
    "- Meet with TA or prof about idea\n",
    "- Present final project\n",
    "- Submit Jupyter notebook\n",
    "- Submit personal reflections\n",
    "\n",
    "## Project Overview \n",
    "The best way to learn someting new is to apply what you've learned to something that matters to you! The final project is an opportunity for you to do exactly that. By working with real data of your choosing you can explore and answer questions of specific interest to you. We have provided some sample datasets that you may use. You may also choose your own data (e.g., data from a real project in your lab). \n",
    "\n",
    "The ***broad objectives*** for the project are to:\n",
    "\n",
    "- Identify a kinesiological question/problem of interest to you that can be addressed by analyzing a real dataset.\n",
    "- Choose an appropriate approach for formalizing and testing the problems and goals, and be able to articulate the reasoning for that selection.\n",
    "- Implement your analysis choices on the dataset.\n",
    "- Interpret the results of the analyses.\n",
    "- Contextualize those results within a greater scientific context.\n",
    "- Work effectively to manage a project as part of a team.\n",
    "\n",
    "To accomplish this you will work in teams of 2-3 students. You will find in your future careers that successfully working in groups is an invaluable skill that is frequently called upon. Nearly all data analyses are collaborative efforts, and so learning how to work effectively with your colleagues is just as important as your individual contributions. \n",
    "\n",
    "The basic project steps (broken down in more detail below):\n",
    "\n",
    "- Form your groups\n",
    "- Find a real world dataset and problem that you believe can be solved with one or more of the techniques we have learned in class.\n",
    "- After selecting a dataset and identifying the goal, write out a proposed analysis plan using template provided and submit it.\n",
    "- Apply the techniques outlined and come up with a result for the dataset that you proposed.\n",
    "- Assemble a Jupyter notebook that communicates your hypothesis, methods, and results. Submit this as your final project.\n",
    "- Submit feedback about group and individual group members. This is done individually.\n",
    "\n",
    "Around mid-semester, after you have formed your groups, you will discuss potential project ideas with your TA and/or with the professor. This will give us a chance to make sure you’re on the right track even before you submit your draft.\n",
    "\n",
    "Exactly what analysis you perform is up to you, but there are two key requirements:\n",
    "\n",
    "1. Your analysis must produce at least 3 visualizations that help to answer some aspect of your research question. \n",
    "2. Your analysis must perform some substantial computation that goes beyond \"filtering\" the existing information, reading it as data (or reading and then filtering), and plotting two columns from the resulting filtered data. (\"Filtering\" means including only some of a larger set of information.) Another way to think about this requirement is that beyond filtering, we need you to manipulate the data in some way before plotting it. i.e., you cannot plot a value directly read from the data file.\n",
    "\n",
    "You’ll learn the rest of the tools that you need to finish the project as the term progresses. Once your program is complete, you will create a well-documented Jupyter notebook that includes your graph or chart—our version of a poster—to share your project with your classmates and the course staff. You’ll present your projects in the final two class sessions. Specific requirements for your poster are below."
   ]
  },
  {
   "cell_type": "markdown",
   "id": "f5884f99-66cb-42f4-a7f4-6d5de71687bd",
   "metadata": {},
   "source": [
    "### Teams\n",
    "\n",
    "You will complete this project in groups of 2-3 students. \n",
    "\n",
    "***HK: Determine how and when groups will be submitted for approval.*** \n",
    "\n",
    "**COGS 108: Each group will submit one Google Form Survey indicating who is in their group, including each member's names, PIDs, and GitHub usernames.**\n"
   ]
  },
  {
   "cell_type": "markdown",
   "id": "f43bc14a-63b3-4d74-b5e9-46a35963f52c",
   "metadata": {
    "tags": []
   },
   "source": [
    "## Datasets\n",
    "\n",
    "***HK: Try to find datasets related to the following:***\n",
    "- Posture and balance \n",
    "- Reaching data\n",
    "- Speed-accuracy\n",
    "- V02 max\n",
    "- Patient populations\n",
    "- E-phys"
   ]
  },
  {
   "cell_type": "markdown",
   "id": "68c8f22d-90c6-4c78-9ae8-6ea28e72d064",
   "metadata": {},
   "source": [
    "## Project proposal\n",
    "\n",
    "You may either use one of our sample datasets or you may propose to work with your own data. \n",
    "\n",
    "If you are proposing with your own data: You must find some information that is in a CSV (comma separated values) file, and you must ensure that the information is open (i.e., licensed in such a way that we can use it in a course project). If it's coming from your lab, please have your faculty mentor send me a short email indicating their approval of the dataset's use in this course. The data also need to be sufficiently complex (e.g., at least 3 different variables/columns and 100 observations/rows). You will have to upload a description of the data as well as the data itself for us to review during the proposal. Finally, we'll ask that you also have in mind one of our provided datasets as a backup plan.\n",
    "\n",
    "Now, complete the project proposal starter and submit it.\n",
    "\n",
    "- Names\n",
    "- Research question\n",
    "- Background, Intro: Why this question? What is generally known already?\n",
    "- Dataset\n",
    "- Hypothesis \n",
    "- Data Wrangling steps\n",
    "- Data Analysis and Visualizations\n",
    "- (Conclusion and Discussion)"
   ]
  },
  {
   "cell_type": "markdown",
   "id": "5b193c9c-582f-4166-8043-ad4b9f03429a",
   "metadata": {},
   "source": [
    "## Final project notebook requirements\n",
    "\n",
    "Despite every research project having its own unique characteristics, there are a set of steps that are common to virtually all. As such, your final projects and notebooks must include the following steps: \n",
    "\n",
    "- Data I/O\n",
    "- Data cleaning/wrangling\n",
    "- Custom-written function(s)\n",
    "- Visualizations\n",
    "- Statistical inference\n",
    "- Use of Python data science ecosystem: \n",
    "    - NumPy\n",
    "    - pandas\n",
    "    - Matplotlib\n",
    "    - Seaborn\n",
    "\n",
    "Since Jupyter notebooks are so ubiquitous in data science, and so much of the class relied on them, I want you all to make the most of the format. Use Markdown text to tell a story about your data analysis. Specifically, make sure you have sections for each of the following:\n",
    "- Introduction - this includes background information and the motivation for your question (i.e., Why are you interested in this question and why should the rest of us be as well?)\n",
    "- Question/Hypothesis\n",
    "- Data description\n",
    "- Data wrangling steps\n",
    "- EDA - walk us through the logic of your analysis\n",
    "- Discussion - summarize and interpret your findings; what are some possible next steps?\n",
    "\n"
   ]
  },
  {
   "cell_type": "markdown",
   "id": "312b16b4-a7b0-48cc-b245-198a6cc9c7fe",
   "metadata": {
    "tags": []
   },
   "source": [
    "## Presentation Requirements\n",
    "\n",
    "Your group will have a chance to present your final project in the last week of the semester. For your presentations, you will essentially walk us through your Jupyter notebook. You will likely want to create 1 slide for each of the sections, except for your analysis, which should have 1 slide per figure. Each member of your group must present a figure and, likely, one other section. You will have 7 minutes for the prepared portion of your presentation, and 3 minutes for Q&A. \n",
    "\n",
    "Your presentations should not only answer the specific question(s) you set out for yourselves, they should also address more general questions, such as:\n",
    "- What problem are you solving? Where is the information from? Why is it interesting to you?\n",
    "- What analysis choices did you have to make? Why did you make the choices that you made?\n",
    "- What were the most difficult parts of the project for you?\n",
    "- What were the most enjoyable parts?\n",
    "- Where would you like to see this project go next, and what skills do you need to learn to go there? \n",
    "\n",
    "Some tips:\n",
    "- Minimize text - you don't want to copy over paragraphs from your notebook. Rather, condense main points into bullets.\n",
    "- Related to the first point, as much as possible, try to include visuals to convey your message. We're much better at following verbal descriptions of visual images than we are at following verbal summaries of dense blocks of text.\n",
    "- Make the slide title the take-away message. Effective poster presentations at conferences, as well as figures in articles, will often have the take-away message as the title. rather than labeling a slide \"Figure 1\", it will be better to label it \"VO2 max decreases with age\" or whatever the point of the figure is supposed to be.\n",
    "\n",
    "You will be graded on the presentation as a whole and do not have to submit your slide deck.\n",
    " "
   ]
  },
  {
   "cell_type": "markdown",
   "id": "363f3bda-8262-40bb-9bd2-d927b0af7b9c",
   "metadata": {
    "tags": []
   },
   "source": [
    "## Deadlines and Grading\n",
    "\n",
    "More detail for each deliverable is available in the corresponding assignment in the Project module. See the syllabus for each project deliverable's weight and deadline.\n",
    "\n",
    "As a general warning, the closer an office hour is to a deliverable deadline, the busier it will be. You may not get a chance to speak to the TA in some instances. We encourage you to start deliverables early so you can seek help when needed. The TAs are not responsible for staying behind/offering additional hours/debugging your project remotely to help you finish your project.\n",
    "\n",
    "We will not answer vague or pre-grading questions like “Am I missing anything?” or \"Why won't my code work?\". We are always happy to help but we will not do the work for you. If you come to us with a debugging question, the first thing we will ask is what you have done so far to try and fix the problem. If you have not tried anything yet, we will provide suggestions on what you can do to approach the problem. Debugging is an essential skill in programming and, unfortunately, we will not always be there to help fix something.\n",
    "\n",
    "## Academic Honesty\n",
    "\n",
    "All the code that you submit for the project (and for the class!) must be:\n",
    "\n",
    "- code that you have written yourself since the start of this term (you must not make use of any code that you have written in the past).\n",
    "- code found in or based on any of the projects that we present to you in lecture during the term, provided you insert a comment into your code to attribute the source\n",
    "\n",
    "Please ensure that you do not provide other students with access to your code.  By doing so, you risk enabling academic misconduct for which you will be held accountable. Typically, the same grade penalty is applied to the student who enabled access to their code, as to the student who used the code.\n",
    "\n",
    "*Beware:*\n",
    "\n",
    "There have been students who have violated the academic misconduct policy in the course in the past and have paid the price.  If you find the project challenging, ask for help from a course instructor or from one of the TAs assigned to the course this term.  Do not be tempted to copy code from someone else and do not, under any circumstances, allow another student access to your code in any way. \n",
    "\n",
    "You must not hire a tutor to help you write or debug the code for your term project.  All the code that you submit must be your own work. "
   ]
  }
 ],
 "metadata": {
  "kernelspec": {
   "display_name": "jupyter_books",
   "language": "python",
   "name": "jupyter_books"
  },
  "language_info": {
   "codemirror_mode": {
    "name": "ipython",
    "version": 3
   },
   "file_extension": ".py",
   "mimetype": "text/x-python",
   "name": "python",
   "nbconvert_exporter": "python",
   "pygments_lexer": "ipython3",
   "version": "3.10.8"
  }
 },
 "nbformat": 4,
 "nbformat_minor": 5
}
