{
 "cells": [
  {
   "cell_type": "code",
   "execution_count": null,
   "id": "ca6347d9-af20-4690-8923-2be943857ca3",
   "metadata": {},
   "outputs": [],
   "source": []
  },
  {
   "cell_type": "code",
   "execution_count": 1,
   "id": "0152469a-db87-4e9a-bb8b-cd58fb0ea000",
   "metadata": {},
   "outputs": [],
   "source": [
    "import mne\n",
    "mne.set_log_level('error')  # reduce extraneous MNE output\n",
    "import matplotlib.pyplot as plt\n",
    "import numpy as np\n",
    "import glob"
   ]
  },
  {
   "cell_type": "code",
   "execution_count": 2,
   "id": "20871032-558e-4812-9a16-37f4c410cce8",
   "metadata": {},
   "outputs": [],
   "source": [
    "data_dir = 'data'\n",
    "\n",
    "conditions = ['Control', 'Violation']"
   ]
  },
  {
   "cell_type": "code",
   "execution_count": 3,
   "id": "f274df88-35a2-4438-b908-6979354bc42b",
   "metadata": {},
   "outputs": [],
   "source": [
    "data_files = glob.glob(data_dir + '/sent_study_p*-ave.fif' )\n",
    "evk_indiv = {}\n",
    "\n",
    "for i, d in enumerate(data_files):\n",
    "    evk_indiv[i] = mne.read_evokeds(d)"
   ]
  },
  {
   "cell_type": "code",
   "execution_count": 4,
   "id": "b4916972-5518-4b96-bede-f56abde897a3",
   "metadata": {},
   "outputs": [
    {
     "data": {
      "text/plain": [
       "['data/sent_study_p10-ave.fif',\n",
       " 'data/sent_study_p00-ave.fif',\n",
       " 'data/sent_study_p08-ave.fif',\n",
       " 'data/sent_study_p01-ave.fif',\n",
       " 'data/sent_study_p11-ave.fif',\n",
       " 'data/sent_study_p03-ave.fif',\n",
       " 'data/sent_study_p02-ave.fif',\n",
       " 'data/sent_study_p12-ave.fif',\n",
       " 'data/sent_study_p07-ave.fif',\n",
       " 'data/sent_study_p06-ave.fif',\n",
       " 'data/sent_study_p04-ave.fif',\n",
       " 'data/sent_study_p9-ave.fif',\n",
       " 'data/sent_study_p05-ave.fif']"
      ]
     },
     "execution_count": 4,
     "metadata": {},
     "output_type": "execute_result"
    }
   ],
   "source": [
    "data_files"
   ]
  },
  {
   "cell_type": "code",
   "execution_count": 21,
   "id": "1752c5eb-6c9b-4809-b226-86595bc4a35a",
   "metadata": {},
   "outputs": [],
   "source": [
    "evoked_out = {}\n",
    "for i in evk_indiv.keys():\n",
    "    evoked_out[i] = [mne.combine_evoked([evk_indiv[i][0], evk_indiv[i][2]],\n",
    "                                     weights='nave'),\n",
    "                      mne.combine_evoked([evk_indiv[i][1], evk_indiv[i][3]],\n",
    "                                     weights='nave')\n",
    "                    ]\n",
    "    evoked_out[i][0].comment = 'Control'\n",
    "    evoked_out[i][1].comment = 'Violation'\n",
    "\n",
    "    \n",
    "    mne.write_evokeds('data/sentences_p' + str(i) + '-ave.fif', \n",
    "                      [*evoked_out.values()][0]\n",
    "                     )\n",
    "    "
   ]
  },
  {
   "cell_type": "code",
   "execution_count": 18,
   "id": "de9061f9-4fe3-4cb9-a76d-5f55e92028c7",
   "metadata": {},
   "outputs": [],
   "source": [
    "evoked_out[0][0].comment = 'Control'"
   ]
  },
  {
   "cell_type": "code",
   "execution_count": 19,
   "id": "c2d2b095-6957-442d-ab51-9ff4c0b92872",
   "metadata": {},
   "outputs": [
    {
     "data": {
      "text/plain": [
       "'Control'"
      ]
     },
     "execution_count": 19,
     "metadata": {},
     "output_type": "execute_result"
    }
   ],
   "source": [
    "evoked_out[0][0].comment"
   ]
  },
  {
   "cell_type": "code",
   "execution_count": null,
   "id": "257ace07-2c9d-4c83-903a-e91786624a4f",
   "metadata": {},
   "outputs": [],
   "source": []
  }
 ],
 "metadata": {
  "kernelspec": {
   "display_name": "Python 3 (ipykernel)",
   "language": "python",
   "name": "python3"
  },
  "language_info": {
   "codemirror_mode": {
    "name": "ipython",
    "version": 3
   },
   "file_extension": ".py",
   "mimetype": "text/x-python",
   "name": "python",
   "nbconvert_exporter": "python",
   "pygments_lexer": "ipython3",
   "version": "3.9.7"
  }
 },
 "nbformat": 4,
 "nbformat_minor": 5
}
