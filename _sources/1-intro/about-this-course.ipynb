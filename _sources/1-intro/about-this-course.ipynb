{
 "cells": [
  {
   "cell_type": "markdown",
   "id": "3e4fa645-8cfe-44bd-ba47-4d9a63970a87",
   "metadata": {},
   "source": [
    "# About this course\n",
    "---  \n"
   ]
  },
  {
   "cell_type": "markdown",
   "id": "b5d22c5a-8b4c-4e76-ac34-eb6e9774c7ef",
   "metadata": {},
   "source": [
    "## Why this course?\n",
    "\n",
    "There are many skills a budding researcher, health-related expert, or modern \"knowledge worker\" needs to learn. For years, I've been telling my students and trainees that two of the most important (and valuable) skills they can learn are programming and statistics, or, if you prefer, data science. Why is that? Well, from my perspective, they are two of the most generalizable skills one can learn. Whether you work in an exercise physiology lab or a computational neuroscience lab, you will inevitably be tasked with coding up a program to make sense of data. The more well-versed you are in programming and data science, the better chance you have of answering the questions you are interested in - at least, the better chance you have of going down interesting paths with respect to your original research question. Needless to say, without these skills, performing research in most disciplines becomes exponentially more challenging, if not impossible. And even if your future line of work is not directly related to lab-based research, you will definitely be interfacing with data. Being able to skillfully work with data automatically makes you valuable to your team.  \n",
    "\n",
    "Another reason for this course, specifically, is that I believe it fills a gap. Oftentimes, programming courses are taught through computer science departments, and data science is typically taught through departments of computer science or statistics. That's great, but it also means that the courses are often geared towards computer science or applied math students, not necessarily kinesiology, or, even more broadly, behavioral and health sciences-related students. The needs of these different types of students can vary dramatically. For example, introductory computer science courses are oftentimes more about theories of computation (think [\"abstraction, algorithms, data structures, encapsulation, resource management, security, software engineering, and web development\"](https://www.edx.org/course/introduction-computer-science-harvardx-cs50x)) as opposed to actual programming or data analysis. Introductory data science courses are often more aligned with science students' needs, but without the specific focus on topic areas that are important to, let's say, a kinesiology undergrad (e.g., analyzing physiological data from an interventional study or processing kinematic data from a biomechanics study). In both cases, students may not feel a strong connection to the skills they learned. Here, I hope to remedy that.\n",
    "\n",
    "To put it succinctly, this course had you in mind. It's the sort of course I wish I could've taken as an undergrad and even as a graduate student. No matter what direction you head in after this class, I sincerely hope you will feel much more fluent in working with data than before this class *and*, even more importantly, that you have a solid foundation for advancing your knowledge further. \n"
   ]
  },
  {
   "cell_type": "markdown",
   "id": "4ae96d55-dddd-420c-80a4-678c99fac025",
   "metadata": {},
   "source": [
    "---\n",
    "This material was adapted from Aaron J. Newman's [Data Science for Psychology and Neuroscience - in Python](https://neuraldatascience.io/intro.html#)."
   ]
  },
  {
   "cell_type": "code",
   "execution_count": null,
   "id": "9ed21b07-091a-4b87-b04b-ccd81a0cf04f",
   "metadata": {},
   "outputs": [],
   "source": []
  }
 ],
 "metadata": {
  "kernelspec": {
   "display_name": "jupyter_books",
   "language": "python",
   "name": "jupyter_books"
  },
  "language_info": {
   "codemirror_mode": {
    "name": "ipython",
    "version": 3
   },
   "file_extension": ".py",
   "mimetype": "text/x-python",
   "name": "python",
   "nbconvert_exporter": "python",
   "pygments_lexer": "ipython3",
   "version": "3.10.8"
  }
 },
 "nbformat": 4,
 "nbformat_minor": 5
}
