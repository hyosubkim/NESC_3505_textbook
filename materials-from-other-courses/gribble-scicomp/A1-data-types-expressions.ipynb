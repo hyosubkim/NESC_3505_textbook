{
 "cells": [
  {
   "cell_type": "markdown",
   "id": "e24b43f9-3997-4d87-b66f-bcdb5d4dd9c1",
   "metadata": {},
   "source": [
    "Assignment 1\n",
    "============\n",
    "\n",
    "Due: Sep 29 by 11:55 pm (London ON time)\n",
    "\n",
    "* * *\n",
    "\n",
    "Given parabolic flight, the height \\\\(y\\\\) of a ball is given by the equation:\n",
    "\n",
    "\\begin{equation}\n",
    "y = x \\tan(\\theta) - \\\\left\\[ \\\\frac{1}{2 v\\_{0}^{2}} \\\\right\\] \\\\left\\[ \\\\frac{g x^{2}}{cos(\\\\theta)^{2}} \\\\right\\] + y\\_{0} \\\n",
    "\\end{equation}\n",
    "\n",
    "where \\\\(x\\\\) is a horizontal coordinate (metres), \\\\(g\\\\) is the acceleration of gravity (metres per second per second), \\\\(v\\_{0}\\\\) is the initial velocity (metres per second) at an angle \\\\(\\\\theta\\\\) (radians) with the x-axis, and \\\\((0,y\\_{0})\\\\) is the initial position of the ball (metres).\n",
    "\n",
    "Write a program to compute the vertical height \\\\(y\\\\) of a ball. The program should ask the user to input values for \\\\(g\\\\), \\\\(v\\_{0}\\\\), \\\\(\\\\theta\\\\), \\\\(x\\\\), and \\\\(y\\_{0}\\\\), and print out a sentence giving the vertical height of the ball.\n",
    "\n",
    "Test your program with this example:\n",
    "\n",
    "    enter a value for g (m/s/s): 9.8\n",
    "    enter a value for v0 (m/s): 6.789\n",
    "    enter a value for theta (rad): 0.123\n",
    "    enter a value for x (m): 4.5\n",
    "    enter a value for y0 (m): 5.4\n",
    "    The vertical height of the ball is:  3.77057803072 m"
   ]
  },
  {
   "cell_type": "code",
   "execution_count": null,
   "id": "cbc3d517-ea81-414b-a982-4e8a404825dc",
   "metadata": {},
   "outputs": [],
   "source": []
  }
 ],
 "metadata": {
  "kernelspec": {
   "display_name": "Python 3 (ipykernel)",
   "language": "python",
   "name": "python3"
  },
  "language_info": {
   "codemirror_mode": {
    "name": "ipython",
    "version": 3
   },
   "file_extension": ".py",
   "mimetype": "text/x-python",
   "name": "python",
   "nbconvert_exporter": "python",
   "pygments_lexer": "ipython3",
   "version": "3.11.0"
  }
 },
 "nbformat": 4,
 "nbformat_minor": 5
}
