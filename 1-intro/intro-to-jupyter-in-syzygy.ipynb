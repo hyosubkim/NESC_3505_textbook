{
 "cells": [
  {
   "cell_type": "markdown",
   "id": "68a67964-c345-4426-b53c-97ef7107fee1",
   "metadata": {},
   "source": [
    "# Introduction to Jupyter Notebooks \n",
    "---"
   ]
  },
  {
   "cell_type": "markdown",
   "id": "236ea1bd-f261-4277-8196-1c72b53c95bf",
   "metadata": {},
   "source": [
    "<div class=\"alert alert-block alert-info\">\n",
    "<b>Sources:</b> Aaron Newman's NDS, CPSC 103, NYU lab.\n",
    "</div>"
   ]
  },
  {
   "cell_type": "markdown",
   "id": "52588ee1-9a96-470b-bb42-494bdac3d7e6",
   "metadata": {},
   "source": [
    "## Questions\n",
    "- How do I work with and navigate Jupyter notebooks in Syzygy?\n",
    "\n",
    "## Learning Objectives\n",
    "In this chapter, you will learn to:\n",
    "- Open a Jupyter notebook\n",
    "- Navigate a Jupyter notebook\n",
    "- Enter and run code in a Jupyter notebook\n",
    "- Enter and format rich text in a Jupyter notebook, using Markdown\n",
    "\n",
    "---"
   ]
  },
  {
   "cell_type": "markdown",
   "id": "ac2c9985-31f1-49d1-88bd-91623b6c80ed",
   "metadata": {},
   "source": [
    "## Introduction\n",
    "\n",
    "In this lab course you will spend a lot of time analyzing data using computer programs that you partially design yourself. A core part of the researcher's toolkit these days is knowing how to use computers to manipulate and analyze data. In this class, Jupyter notebooks will provide a powerful platform for learning, coding, and presenting results of data analyses. \n",
    "\n",
    "A Jupyter notebook \"is a web application that allows you to create and share documents that contain live code, equations, visualizations and explanatory text\" [[www.jupyter.org](http://www.jupyter.org/)]. What you are currently reading is actually a Jupyter notebook! (More on that later.) Rather than have everyone in class set up their home computer (which can be difficult across many different home computer types) we will instead use a web-based (or \"cloud-based\") solution. The Jupyter notebooks that we will be using are hosted online at [ubc.syzygy.ca](https://ubc.syzygy.ca/) so you don't need to install any software on your own computer. Whenever you have access to the internet, you'll have access to your programming environment.\n",
    "\n",
    "If you have any trouble below, please ask a TA or instructor for help on [Piazza](/courses/116188/pages/piazza \"Piazza\")!\n",
    "\n",
    "You should be able to **submit** your tutorials (and later your tutorial resubmissions and project stages) by using the submission system that appears when you run your tutorial notebook. **Try this early and ask for help** if you run into trouble! **If anything goes wrong with submission** you may need to download your files from Jupyter and upload them to Canvas. In that case, we have a guide on [how to download and submit your Jupyter notebooks](/courses/116188/pages/how-to-submit-your-jupyter-notebook \"How to submit your Jupyter notebook\") that you can refer to."
   ]
  },
  {
   "cell_type": "markdown",
   "id": "4b03db59-be72-4d37-b266-85d460188ab2",
   "metadata": {},
   "source": [
    "<div class=\"alert alert-block alert-warning\">\n",
    "<b>This section on getting set up requires major revision depending on how students will access JupyterHub. For step 2, they can launch this notebook. Provide instructions in step 2.</b> \n",
    "</div>\n",
    "\n",
    "**Step 1: Setup**\n",
    "\n",
    "To get set up for CPSC 103 on [ubc.syzygy.ca](https://ubc.syzygy.ca/), you should open [setup.ipynb](https://www.students.cs.ubc.ca/~cs-103/redirect-vantage/?target=setup/Misc/setup.ipynb) and run it. Then, open [no-syntax-warning.ipynb](https://www.students.cs.ubc.ca/~cs-103/redirect-vantage/?target=setup/Misc/no-syntax-warning.ipynb) and run it.\n",
    "\n",
    "Over the term, you may sometimes get a \"404: Not Found\" error when you try one of these links. That's usually because the file is not yet released (e.g., tutorial solutions release about 15 minutes after the tutorial deadline). If you encounter this error when you think you shouldn't, post on Piazza or e-mail [cpsc103-vantage@cs.ubc.ca](mailto:cpsc103-vantage@cs.ubc.ca) with details and ideally screenshots to show what's happening so we can help.\n",
    "\n",
    "The setup notebook contains code that will setup your Jupyter notebooks for this course. Run the code by pressing the run button: ![](https://edge.edx.org/assets/courseware/v1/6e968cdb1677dbe4c28713c3f558a4e1/asset-v1:UBC+CPSC103-101-102+2017W1+type@asset+block/run_button.png). If it has worked properly, you should see a confirmation underneath the code that says \"Setup succeeded!\". If you have trouble, please ask a TA or instructor for help!.   A link to the specific JupyterHub URL for our class this semester is provided in the sidebar of this website.\n",
    "\n",
    "\n",
    "```{figure} ./images/jupyterlogo.png\n",
    "---\n",
    "height: 300px\n",
    "name: jupyterproject\n",
    "---\n",
    "The Jupyter Project logo.\n",
    "```\n",
    "\n",
    "UBC's Syzygy lets everyone registered in the class log on to a website and access their own personal set of files. In addition, the instructor can distribute new files to students to work on.  \n",
    "\n",
    "We will focus primarily on Python in this class.  Future readings and assignments will introduce the Python programming language to you and also teach you how to use it to analyze data.\n",
    "\n",
    "However, for now we want to begin by understanding a bit more about Jupyter and the system we will be interacting with.  \n"
   ]
  },
  {
   "cell_type": "markdown",
   "id": "5f9cf436-170a-4793-adce-bf5c8da64c8b",
   "metadata": {},
   "source": [
    "**Step 2: Introductory Notebook**\n",
    "\n",
    "You can open this notebook! "
   ]
  },
  {
   "cell_type": "markdown",
   "id": "0dcc00ff-9046-4945-aa91-925cd17b1bca",
   "metadata": {},
   "source": [
    "## Jupyter notebooks\n",
    "You are currently viewing a Jupyter notebook. Jupyter notebooks are composed of *cells*. Cells can be of three types: code, Markdown, or raw. This cell you're reading is Markdown, a simple language for formatting rich text. The cell below is a code cell, where you can write and run Python commands. Raw cells are \"raw\" text — they aren't fancy-formatted Markdown, and they aren't run-able as code. They also aren't terribly useful.\n",
    "\n",
    "Cells have two modes: **edit** and **command**. Edit mode is indicated by a green border around the cell, while command mode has a blue border. In edit mode, you can type into the cell and edit it. In command mode, you can run the cell, or manipulate it in certain ways (e.g., deleting a whole cell, or moving it).\n",
    "\n",
    "This text you are currently reading is a Markdown cell. If you are viewing it in Syzygy, and click once on this text, the cell should become active in command mode, so you should see a blue border around it. If you double-click on this (or any other Markdown) cell, the outline will turn green, the text will change to a *fixed-width* font and you'll see the Markdown formatting tags (like `#` for headings). Try it! Then hit Shift & Enter to execute the cell (which applies and renders the Markdown formatting).\n",
    "\n",
    "So in summary:\n",
    "- Single-clicking a cell will select it in Command mode\n",
    "- Double-clicking a cell will put it in Edit mode\n",
    "- Pressing the Shift & Enter keys on your keyboard simultaneously will execute a cell. Execution will format a Markdown cell, or run the code in a code cell. \n",
    "\n",
    "Below is a code cell with some very simple Python code. You haven't started learning Python yet, but as you can see, at its simplest Python can act like a calculator. Try executing the cell and see what happens."
   ]
  },
  {
   "cell_type": "code",
   "execution_count": 1,
   "id": "9015a262-b9a4-4147-815c-8d5bf72215af",
   "metadata": {},
   "outputs": [
    {
     "data": {
      "text/plain": [
       "2"
      ]
     },
     "execution_count": 5,
     "metadata": {},
     "output_type": "execute_result"
    }
   ],
   "source": [
    "1 + 1"
   ]
  },
  {
   "cell_type": "markdown",
   "id": "3c779445-03c4-4abd-94f4-d20db6eee557",
   "metadata": {},
   "source": [
    "Take note of a couple of things here. Firstly, The text to the left of the cell changed from `In: []:` to `In [1]:` (or some number). \"In\" stands for \"input\", and the number indicates that the cell was run, and the numbers increase sequentially as you run cells. In general, it's a good idea to run Jupyter notebook cells sequentially, from top to bottom. But sometimes, when you're writing and debugging your code, you'll run them many times before you get it right, and sometimes you'll run a few cells and then go back and run them again. So the numbers are useful in keeping track of what you've done, in what order. If a process takes a while to run, then the cell will show `In: [*]:` while the cell is running. \n",
    "\n",
    "The outputs (`Out`) are numbered to match the inputs. The more important thing to know about the `Out[]:` output is that it  *only reflects the last output from the cell*. In the example above, that's OK, but check out what happens when you run the cell below:"
   ]
  },
  {
   "cell_type": "code",
   "execution_count": 2,
   "id": "0d17d287-bee5-4f97-9f96-391989e77c4b",
   "metadata": {},
   "outputs": [
    {
     "data": {
      "text/plain": [
       "6"
      ]
     },
     "execution_count": 2,
     "metadata": {},
     "output_type": "execute_result"
    }
   ],
   "source": [
    "1 + 1\n",
    "2 + 2\n",
    "3 + 3"
   ]
  },
  {
   "cell_type": "markdown",
   "id": "5f9336ff-438d-40f2-ae2e-d3070504c3e9",
   "metadata": {},
   "source": [
    "...you only see the output of the last line! This is normally not what you want. Thus in Jupyter if you want to see the output of commands you run in a cell, you should embed the command inside a print() statement, as shown below:"
   ]
  },
  {
   "cell_type": "code",
   "execution_count": 3,
   "id": "7b32da03-0623-405e-bae4-a203aa328f3b",
   "metadata": {},
   "outputs": [
    {
     "name": "stdout",
     "output_type": "stream",
     "text": [
      "2\n",
      "4\n",
      "6\n"
     ]
    }
   ],
   "source": [
    "print(1 + 1)\n",
    "print(2 + 2)\n",
    "print(3 + 3)"
   ]
  },
  {
   "cell_type": "markdown",
   "id": "a39e2e4f-8a71-4b0a-8a6e-3d75890b5e32",
   "metadata": {},
   "source": [
    "Soon in this class, you'll learn about data *types*. For now, it's worth noting that if you want to output text in Python, you need to put it inside quotation marks (Python doesn't care if you use single or double quotes, as long as you start and finish with the same one). So, running the cell below produces an error (do it!):"
   ]
  },
  {
   "cell_type": "code",
   "execution_count": 7,
   "id": "5932a134-4927-45b8-942f-c55a0006075a",
   "metadata": {},
   "outputs": [
    {
     "ename": "SyntaxError",
     "evalue": "invalid syntax. Perhaps you forgot a comma? (4293340409.py, line 1)",
     "output_type": "error",
     "traceback": [
      "\u001b[0;36m  Cell \u001b[0;32mIn [7], line 1\u001b[0;36m\u001b[0m\n\u001b[0;31m    print(Hello World)\u001b[0m\n\u001b[0m          ^\u001b[0m\n\u001b[0;31mSyntaxError\u001b[0m\u001b[0;31m:\u001b[0m invalid syntax. Perhaps you forgot a comma?\n"
     ]
    }
   ],
   "source": [
    "print(Hello World)"
   ]
  },
  {
   "cell_type": "markdown",
   "id": "6c897b12-157d-4862-baac-c6d71840ecf2",
   "metadata": {},
   "source": [
    "But the following works as desired. Copy (type) the following text you see into the empty cell below."
   ]
  },
  {
   "cell_type": "markdown",
   "id": "8d30a7ab-13bf-4a2b-a1f8-16ec60f08680",
   "metadata": {},
   "source": [
    "```python\n",
    "print(\"Hello world!\")\n",
    "```"
   ]
  },
  {
   "cell_type": "code",
   "execution_count": 6,
   "id": "209e0035-9d38-4ce0-9e4b-efa4541024cb",
   "metadata": {},
   "outputs": [
    {
     "name": "stdout",
     "output_type": "stream",
     "text": [
      "Hello world!\n"
     ]
    }
   ],
   "source": [
    "# Type your code here\n"
   ]
  },
  {
   "cell_type": "code",
   "execution_count": 8,
   "id": "0686c2e1-1a7f-4b09-ace6-b1e861f06c0f",
   "metadata": {},
   "outputs": [],
   "source": [
    "# Even in code cells, you can add random commentary that's not Python code \n",
    "# as long as you start each line with a hash mark, like this line is.\n",
    "\n",
    "# These lines are called \"comments\" and it is good coding practice to use them.\n",
    "\n",
    "# Comments allow you to make notes about your code. When you're starting out, \n",
    "# you may want to add comments so that the next time you look at your code, \n",
    "# you remember what a particular line or section does. Or, you may want to \n",
    "# leave a \"note to self\" if you want to come back and add things to a particular \n",
    "# section later.\n",
    "\n",
    "# Although Syzygy \"wraps\" your comments to the width of the window, \n",
    "# not all programs do this. So it's good programming style to put in line breaks\n",
    "# manually for your comments, like this."
   ]
  },
  {
   "cell_type": "code",
   "execution_count": 9,
   "id": "f33e8f17-cede-4492-abb6-13b22a0377d5",
   "metadata": {},
   "outputs": [],
   "source": [
    "# Run this cell. We'll use it later.\n",
    "x = 1"
   ]
  },
  {
   "cell_type": "markdown",
   "id": "6058dc2e-8d80-40d6-b26b-6ff46b5b9b31",
   "metadata": {},
   "source": [
    "### Why Jupyter notebooks?\n",
    "\n",
    "As you've already begun to experience, the \"notebook\" interface is an approach to programming and data analysis which combines programming/analysis code with text, images, figure, animations, and other multimedia in the same document (see {numref}`Figure {number} <jupyternotebook>`). The idea for computational notebooks has been around for a long time (e.g., [Mathematica](https://www.wolfram.com/mathematica/) is a commercial product that has long provided a notebook interface for data analysis and programming). However, Jupyter is now one of the leading tools that scientists, including those in biomechanics, neuroscience, and physiology, use to analyze their data and write code."
   ]
  },
  {
   "cell_type": "markdown",
   "id": "76dda5c4-c67d-46d9-8343-e9f473c72732",
   "metadata": {},
   "source": [
    "<div>\n",
    "    <center><img src=\"images/jupyterpreview.png\" style=\"height: 300px\"></center>\n",
    "</div>\n",
    "<center>A screenshot of a Jupyter Notebook.  Notice how the document combines text, pictures and analysis code.</center>"
   ]
  },
  {
   "cell_type": "markdown",
   "id": "3ee883a5-7b02-4a10-b052-7e907d54ed45",
   "metadata": {},
   "source": [
    "```{figure} images/jupyterpreview.png\n",
    "---\n",
    "height: 300px\n",
    "name: jupyternotebook\n",
    "---\n",
    "A screenshot of a Jupyter Notebook.  Notice how the document combines text, pictures and analysis code.\n",
    "```"
   ]
  },
  {
   "cell_type": "markdown",
   "id": "2fcf4e34-a427-4349-8115-39a51162ad9a",
   "metadata": {},
   "source": [
    "There are several reasons for the popularity of Jupyter:\n",
    "\n",
    "1. Jupyter is open source and free. This means it is not owned by any one person or company. Scientists and other programmers devote their time to improving Jupyter. The code is readable by anyone which means it is easier to catch bugs.\n",
    "2. Jupyter works with several different programming languages including R, Python, Matlab and others which are popular for data analysis. In fact, the name \"Jupyter\" combines the names of three different languages, **Ju**lia, **Pyt**hon, and **R**.\n",
    "3. Jupyter runs in a standard web browser. This means you can use Jupyter often on any computing device you like including low-cost laptops like Chromebooks/Netbooks or even a tablet like an iPad.\n",
    "4. Jupyter has many extensions which provide interactive widgets, animations, beautiful graphics, etc...\n",
    "5. Jupyter is fun!  Once you get the hang of the notebook concept then it makes developing and debugging code a pretty fun experience.\n",
    "6. Many companies use Jupyter internally and are looking to hire people with this skill!"
   ]
  },
  {
   "cell_type": "markdown",
   "id": "f59ec673-79c8-4754-a9c6-d75d227b6fe4",
   "metadata": {},
   "source": [
    "```{admonition} External Reading\n",
    ":class: tip\n",
    "For assignment 0, please [read this article](https://www.nature.com/articles/d41586-018-07196-1) r {cite}`Perkel2018`.\n",
    "```"
   ]
  },
  {
   "cell_type": "markdown",
   "id": "40f3b5c5-79ca-411c-a4e1-6246f6d60bf2",
   "metadata": {},
   "source": [
    "## The \"notebook\" and \"kernel\" concepts"
   ]
  },
  {
   "cell_type": "markdown",
   "id": "ff874f37-6db6-4685-8c24-f7157924654e",
   "metadata": {},
   "source": [
    "One sort of interesting feature of this class is that more or less **everything** uses Jupyter notebooks. This includes the class webpage and each chapter of the online textbook.  In fact, the document you are reading was first entered in as a Jupyter notebook.  Using [Jupyterbook](https://jupyterbook.org/), these notebooks were converted to a webpage. However, you can easily open the notebook that was used to write this chapter and check out the code and run it yourself [^format].\n",
    "\n",
    "[^format]: The book chapters have some additional formatting for the web that you might not see in a regular notebook.  However most of this just looks like more complex Markdown.\n",
    "\n",
    "There are two key ways to do this.  First, in the top right of this webpage you should see a little menu option that looks like this:"
   ]
  },
  {
   "cell_type": "markdown",
   "id": "0f010a60-062c-4cf5-8855-3b6b4db18958",
   "metadata": {},
   "source": [
    "<div>\n",
    "    <center><img src=\"images/jupyterbookmenu.png\" style=\"height: 50px\"></center>\n",
    "</div>\n",
    "<center>The JupyterBook menus for our online textbook.</center>"
   ]
  },
  {
   "cell_type": "markdown",
   "id": "813febad-3e82-42c7-abb6-099afd028f42",
   "metadata": {},
   "source": [
    "```{figure} ./images/jupyterbookmenu.png\n",
    "---\n",
    "height: 50px\n",
    "name: jupyterbookmenu\n",
    "---\n",
    "The JupyterBook menus for our online textbook.\n",
    "```"
   ]
  },
  {
   "cell_type": "markdown",
   "id": "b39032de-7444-4736-9be9-ccee33397c5c",
   "metadata": {},
   "source": [
    "The button with the little arrow pointing down will let you download the current chapter either as a .ipynb (i.e., a Jupyter notebook) or as a PDF.  If you download the notebook to your computer you can easily upload it to a running Jupyter/JupyterHub instance.  For example, if you login to the class JupyterHub you can upload the .ipynb, open it, and then begin interacting with it by executing the cells, editing them, and interacting with widgets and other interactive animations.\n",
    "\n",
    "Even easier, if you are registered for the course (this will not work for people viewing these pages online) you can launch any of the chapters of the textbook on your own Jupyter instance by clicking on the buttons shown here:\n",
    "\n",
    "\n",
    "```{figure} ./images/jupyterhublaunch.png\n",
    "---\n",
    "height: 200px\n",
    "name: jupyterhublaunch\n",
    "---\n",
    "The JupyterBook menu to launch the current book notebook on your own personal Jupyterhub (registered students only).\n",
    "```\n",
    "\n",
    "In addition, for most of the computer-generated graphs and tables in the book you can view the code used to create the figure.  Just look for something that looks like this:\n",
    "\n",
    "\n",
    "```{figure} ./images/jupyterviewcell.png\n",
    "---\n",
    "height: 150px\n",
    "name: jupyterviewcell\n",
    "---\n",
    "Click this button to reveal the python code used to generate the figure, table, graph or other output.\n",
    "```"
   ]
  },
  {
   "cell_type": "markdown",
   "id": "9c0fb3b4-e9c0-4b21-9675-938d284cd5d1",
   "metadata": {},
   "source": [
    "The key to Jupyter is the concept of a **computational notebook**.  A computational notebook is a document-based approach to structuring data analysis and programming.  A notebook appears and acts similar to other programs you are familiar with like Excel or Google Sheets (spreadsheets) or Word or Google Docs (word processor).  These programs provide ways for you to enter information into documents and to save those file, send them to others, copy-paste text, alter the formatting, etc...\n",
    "\n",
    "We will primarily use the \"classic\" Jupyter Notebook interface which consists of a single document which you interact with. There is a newer interface called [JupyterLab](https://blog.jupyter.org/jupyterlab-is-ready-for-users-5a6f039b8906) which looks more like Matlab or RStudio's interface, allowing multiple windows and views of the running code.  The traditional notebook interface is prefered here primarily because it simple and faciliates reading along.\n",
    "\n",
    "A computational notebook typically is made up of a set of elements called \"cells\" that group little bits of information together.  A notebook document (usually ending with the .ipynb extension on the file name) is a list of cells arranged from the top of the document to the bottom.  Cells can contain several types of information including code, text, images and so forth.  You develop your project by creating new cells, entering information, reordering cells, and saving the results.\n",
    "\n",
    "The key element which makes a notebook \"computational\" is that it can be linked to a computing engine known as a \"kernel\" which can run on the same computer or another computer using the Internet.  The kernel is separate from the notebook and can for instance be stopped and started independently from the program displaying the notebook itself. The magic happens when a cell is \"executed\", which refers simply to making the code in the cell \"go\".  When this happens the code from the cell that was executed is sent to the computational kernel and this kernel will run the sequence of commands contained within the cell. Any results such as figures or printouts from the results of that code running will be sent to the notebook from the kernel and will be inserted beneath the cell which was just executed. A diagram of the basic conceptual idea is shown in {numref}`Figure {number} <jupyterflow>`."
   ]
  },
  {
   "cell_type": "markdown",
   "id": "da81170a-7930-4521-ba54-48e89a7bc3f4",
   "metadata": {},
   "source": [
    "<div>\n",
    "    <center><img src=\"images/jupyterflow.png\" style=\"height: 370px\"></center>"
   ]
  },
  {
   "cell_type": "markdown",
   "id": "e15b4dea-1956-4d5e-9699-97e0d4fac4ae",
   "metadata": {},
   "source": [
    "```{figure} ./images/jupyterflow.png\n",
    "---\n",
    "height: 370px\n",
    "name: jupyterflow\n",
    "---\n",
    "The flow between the notebook and the kernel. Cells, when they are executed, are sent to the computational kernel which is an independent piece of software that can be started and stopped independently from the notebook.\n",
    "```"
   ]
  },
  {
   "cell_type": "markdown",
   "id": "218103ea-6954-4a56-89a6-263f1d0adf18",
   "metadata": {},
   "source": [
    "## Caution: The Notebook State and Kernel State are not the Same!"
   ]
  },
  {
   "cell_type": "markdown",
   "id": "c7cac67c-aa16-43b7-8e2e-427e5fbb322c",
   "metadata": {},
   "source": [
    "One somewhat confusing aspect of Jupyter for beginners is that the notebook is simply a way to organize information and the order of information in a notebook has nothing to do with the order in which code has been executed on the server.\n",
    "\n",
    "Instead, each time you execute a cell, the commands from that cell are sent to the kernel, run, and then returned.  Usually it make sense to organize your code so that multiple cells are arranged in order from the top of the document to the bottom.  You would then execute the first cell, then the second cell, and so forth. \n",
    "\n",
    "However, **and this is really important**, you don't have to execute the cells in order.  You can execute the third cell before the second or first cell if you want.  This just means that the code in the third cell would be sent to the kernel first and then the other cells would be sent.  This means that the order of the cells in the notebook document are really just for presentation, and it is up to you to \"run/execute\" the cells in whatever order you want.\n",
    "\n",
    "This is mostly helpful because when you are doing an analysis you might want to go back up to the top and change something and then continue where you left off.  To do that you could scroll back to a earlier cell, change it, then execute it and then go back down to the beginning of the script.  \n",
    "\n",
    "However, things can get confusing. If you delete a cell it doesn't mean the code was \"undone\". The kernel doesn't know anything about any edits you make to the notebook interface.  All it does is receive code when you send it via the \"execute cell\" command and then it waits. This can mean that the \"state\" or current status of the kernel can at times be different from what your cells or notebook look like.  One easy option to deal with this is that if things get too far out of whack you can simply restart the kernel. This will erase its current state and set it back to a fresh start. However, then you need to re-execute all of the cells in your notebook to get back to where you were.\n",
    "\n",
    "The best analogy is like telling your friend how to cook a meal for you over the phone. You have the instructions in front of you (your notebook) and you tell your friend (the kernel) what to do. If you read the instructions out of order, your friend can't tell the difference. They just know each step you told them to do and follow it. It is up to you to direct the instructions so they arrive to your friend (the kernel) in the right order. And of course if things get confused you can just tell your friend to start over from stratch and begin again.\n",
    "\n",
    "At first this can be confusing but eventually you get the hang of it. It is one source of bugs/errors in programming in Jupyter notebooks, though, so you want to be mindful of that. Overall, you will find Jupyter notebooks to be an incredibly useful tool as you develop your programming and data analysis skills. \n",
    "\n",
    "[Here](https://github.com/Carreau/ipython-wiki/blob/master/A-gallery-of-interesting-IPython-Notebooks.md#introductory-tutorials) is a just a small smattering of some of the awesome ways people have put Jupyter to use. \n",
    "\n",
    "\n",
    "```{figure} ./images/jupyterwarning.png\n",
    "---\n",
    "height: 300px\n",
    "name: jupyterwarning\n",
    "---\n",
    "Important facts that the notebook interface and the order things are sent to the kernel is up to you.\n",
    "Also cells can be deleted or added in the notebook interface and the kernel doesn't know this.\n",
    "```"
   ]
  },
  {
   "cell_type": "markdown",
   "id": "e172bc8e-5126-4ad7-8d83-3796460107fa",
   "metadata": {},
   "source": [
    "---\n",
    "\n",
    "## A bit more about Jupyter notebooks\n",
    "\n",
    "The top of this window probably looks a bit intimidating, with a lot of menus and buttons. You'll gradually get familiar with many of these functions, although some you may never use in this course. For now, we'll go through the most important functions and concepts."
   ]
  },
  {
   "cell_type": "markdown",
   "id": "c54f3aaa-e619-4137-898b-66caba4d03e4",
   "metadata": {},
   "source": [
    "### Working With Files\n",
    "\n",
    "In general, when using Syzygy you don't need to explicitly save files. Notebooks are auto-saved so you don't have to worry about it! But there is a button to manually save between auto-saves.\n",
    "\n",
    "Although for most of your work you will receive assignments with pre-made files to work in, for projects, for practice, or just for fun, you can create new files — including Jupyter notebooks but a variety of others as well. The `File > New` menu item will give you the options for different types of files you can create. The `File`menu also provides options for downloading your notebook files, including converting them from Jupyter notebooks to PDFs or other formats.\n",
    "\n",
    "You can have multiple files open at once, and they appear as tabs at the top of the Syzygy window. In general, the tabs/files you have open will stay there even when you close your browser window/tab or log out, so the next time you connect to Syzygy you'll see those tabs still there. **HOWEVER** (and this is important), even if you leave your browser with the Syzygy window/tab open on your computer, Syzygy will \"terminate\" your running notebook after about 2 hours.\n",
    "\n",
    "If you have multiple files open, normally they'll just appear as tabs across the top. However, over in the top right section of the window, you'll find these buttons:\n",
    "![](./images/frames.png) which allow you to divide the window into multiple \"frames\" and view multiple files at one time; each pane is itself sub-dividable into more frames!\n",
    "\n",
    "**Pro tip:** Notebook files can get really long. Syzygy has a \"Contents\" button that will show you a table of contents for a notebook file. It makes this automatically from all the Markdown headings it finds. Find the Contents button above and click it to see."
   ]
  },
  {
   "cell_type": "markdown",
   "id": "ffe23829-a050-4e8d-8ba7-4b1ce709694a",
   "metadata": {},
   "source": [
    "### Running Kernels, and Items in Memory\n",
    "\n",
    "This may seem contradictory: how is it that the file is still open, but the notebook is terminated? The answer lies in the fact that when you open a notebook file, you are _also_ starting a new Python **kernel** — a live, running instance of Python that will interpret your Python commands and produce output. Remember: The notebook and kernel states are not the same! Each notebook you open will start a new Python kernel. As long as the kernel is running, the things you do in Python will be stored in memory (RAM). This will make more sense as you start to use Python, but when you're running Python, you generally don't just run commands and get output. You also read data files into memory, and store the results of one command in memory for use in the next command. For example, a bit earlier in this notebook you were instructed to run a cell with the code:\n",
    "`x = 1`\n",
    "\n",
    "This *assigned* a value of `1` to a *variable* named `x`. This is now stored in RAM inside this notebook's kernel, so now in the cell below if you type\n",
    "`print(x)` you will get the output `1`, because the variable `x` was stored in memory. "
   ]
  },
  {
   "cell_type": "code",
   "execution_count": null,
   "id": "2c685743-b927-4747-86d4-52159b93f467",
   "metadata": {},
   "outputs": [],
   "source": []
  },
  {
   "cell_type": "markdown",
   "id": "b438f637-1b87-4b73-9424-9b6307344cbe",
   "metadata": {},
   "source": [
    "However, if the notebook's kernel terminates, then everything that was held in memory is erased. The next time you open or start to use the notebook, if you tried to run that `print(x)` command without running the cells above it, you would get an error, because `x` is no longer in memory. You would need to start at the top of the file and run all the commands again.\n",
    "\n",
    "In general, this isn't a big deal. Python is very efficient, and for the most part we are working with reasonably small data sets so your code should not take long to run or re-run. It is important to understand this, though, because you will get confusing errors if you come back to your work after several hours, and try to just pick up where you left off.\n",
    "\n",
    "If you're wondering why kernels are automatically terminated, it's because Syzygy runs on cloud servers. Every active kernel is consuming resources (computer hardware and energy) at a data centre somewhere. Terminating \"idle\" kernels saves Syzygy's operator money, as well as reducing the energy demands of the data centre.\n",
    "\n",
    "You'll see at the top that there is a `Kernel` menu. This menu has several options, including restarting a kernel manually (which will clear everything out of memory, somthing you may want to do sometimes as you're working in order to get a fresh start rather than trying to un-do errors you made), running all the cells in the notebook (an easy way to get back to where you left off, when your kernel terminated), and clearing all of the output in the notebook.\n",
    "\n",
    "**Pro tip:** In general, it's a good idea to clear all output from a notebook when you restart the kernel, so you don't get confused between old and new outputs."
   ]
  },
  {
   "cell_type": "markdown",
   "id": "dadbf587-3d20-4f45-808c-b0984c0d3887",
   "metadata": {},
   "source": [
    "### Working in Notebooks\n",
    "\n",
    "There is an **undo** function, which works similarly to other software you'll have used, sequentially undoing things you've typed in cells. **Importantly**, *the undo function does _not_ undo the results of commands you've run in Python*. Continuing with our previous example, this means that if you ran the Python command `x = 1`, then ran \"undo\", Jupyter would delete your typing, `x = 1`. However, in the kernel's memory, `x` would still equal `1`. So you could run `print(x)` and the output would still be `1`.\n",
    "\n",
    "Syzygy also offers [Time Travel](https://doc.Syzygy.com/time-travel.html#). This allows you to revert your notebook file to some specific, previous state. It's essentially like hitting \"undo\" a large (and very specific) number of times, without the risk of carpal tunnel syndrome. \n",
    "\n",
    "You can insert a new cell right below whatever cell is currently active, either by pressing the \"+\" button under the menu, or using the `Insert` menu, or, as long as no cell is in edit mode, pressing the `b` key on the keyboard to insert a new cell *b*elow the selected cell (or `a` to insert a cell *a*bove the selected one). The `Cell` menu also has a variety of useful tools for working with cells, which are pretty self-explanatory if you look at them.\n",
    "\n",
    "We encourage you to peruse the menus and randomly push buttons and try things in a notebook file. You will not break the internet (probably). Maybe first create a new notebook file first, though, and don't mess this one up!"
   ]
  },
  {
   "cell_type": "markdown",
   "id": "2a002299-39cb-4094-a670-48514b4745d5",
   "metadata": {},
   "source": [
    "### Help!\n",
    "\n",
    "Syzygy has [extensive documentation](https://intro.syzygy.ca/). You may want to start [here](https://intro.syzygy.ca/the-basic-elements/)."
   ]
  },
  {
   "cell_type": "markdown",
   "id": "be726383-febc-4a36-b1cd-fd330382d16c",
   "metadata": {},
   "source": [
    "---\n",
    "## Markdown\n",
    "\n",
    "[**Markdown**](https://daringfireball.net/projects/markdown/) is a \"plain text formatting syntax\" and a tool for converting such plain text to a formatted version, such as [HTML](https://en.wikipedia.org/wiki/HTML) for display in a web page. There is a fundamental difference between plain text (.txt files) versus rich text (such as in Markdown, and also Microsoft Word or Google Docs). Rich text files display the text that you enter, and the formatting you choose (e.g., boldface), and hide the information telling your computer to make that text boldface \"behind the scenes\" in a complex file. In contrast, when you open a plain text file, what you see is literally the contents of that file, with nothing hiding in the background (except for a couple of hidden features, like markers for line breaks and tabs).\n",
    "\n",
    "So a plain text file can never contain formatting like boldface or italic. Markdown allows you to create a text file with special codes that you type to \"mark\" certain text for formatting, and then run a program on that text file to produce a formatted output. For example, text surrounded by `*one asterisk*` shows up in *italics*; text surrounded by `**two asterisks**` shows up as **boldface**.\n",
    "\n",
    "### Lists in Markdown\n",
    "You can make a bulleted list by starting each line of the list with a hyphen (`-`) followed by a space:\n",
    "- this is a first list item\n",
    "- this is another list item\n",
    "\n",
    "You can generate a numbered list by starting each line with a number, then a period, then a space. A nice feature is that if you start *every* item in your list with `1. `, Markdown will auto-number your items:\n",
    "1. This is item 1\n",
    "1. This is item 2, even though the Markdown starts with `1. `\n",
    "\n",
    "### Different levels of headings\n",
    "Different levels of headings can be indicated with hash marks; the more hash marks, the more deeply embedded a header is. So, the following:\n",
    "- `# Heading 1` = first-level heading (like the title at the very top of this page)\n",
    "- `## Heading 2` = second-level heading (like the title of the section titled 'Markdown')\n",
    "- `### Heading 3` = third-level heading (heading of this section)\n",
    "- etc.\n",
    "\n",
    "While originally Markdown was designed to simplify creating web pages in HTML (the coding language for web pages), there are now a huge number of output formats available (e.g., PDF, Microsoft Word, ePub) in different applications, and many Markdown apps that allow you write and edit Markdown files while viewing a preview of the formatted output in another window alongside your Markdown text file.\n",
    "\n",
    "HTML — and by extension, Markdown — embodies a design philosophy of separating the content of a document from its formatting. That is, when writing the content, you focus on writing, not how it's going to look, and then later, you apply formatting to make it look a certain way. This means that the same document can be formatted in virtually any possible way, with different fonts, sizes, etc.. It also provides consistency (e.g., you don't have to remember to manually make every first-level heading a specific larger font size, and bold) and makes it very easy to produce professional-looking output without professional web design skills.\n",
    "\n",
    "[You can see a Markdown cheatsheet here](https://www.markdownguide.org/cheat-sheet/)"
   ]
  },
  {
   "cell_type": "markdown",
   "id": "42ff89d0-6951-446a-b95a-c49a024f14a3",
   "metadata": {},
   "source": [
    "## Exercise\n",
    "\n",
    "Create a cell below this one, convert it to Markdown, and use Markdown to do the following:\n",
    "- your name, with your last name in bold\n",
    "- a bulleted list of names of people in your family\n",
    "- a second-level heading that reads \"Education\"\n",
    "- a numbered list of educational attainments, including your high school and any university degrees\n",
    "\n",
    "Note: By default, new cells are code cells. Use the drop-down menu at the top (which will say \"code\") to change it to a Markdown cell."
   ]
  },
  {
   "cell_type": "code",
   "execution_count": null,
   "id": "2a21f0f0-bd80-4a40-920d-d2ed4dba4210",
   "metadata": {},
   "outputs": [],
   "source": []
  }
 ],
 "metadata": {
  "kernelspec": {
   "display_name": "jupyter_books",
   "language": "python",
   "name": "jupyter_books"
  },
  "language_info": {
   "codemirror_mode": {
    "name": "ipython",
    "version": 3
   },
   "file_extension": ".py",
   "mimetype": "text/x-python",
   "name": "python",
   "nbconvert_exporter": "python",
   "pygments_lexer": "ipython3",
   "version": "3.10.8"
  }
 },
 "nbformat": 4,
 "nbformat_minor": 5
}
