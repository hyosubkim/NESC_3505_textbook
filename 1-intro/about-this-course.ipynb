{
 "cells": [
  {
   "cell_type": "markdown",
   "id": "3e4fa645-8cfe-44bd-ba47-4d9a63970a87",
   "metadata": {},
   "source": [
    "# About this course\n",
    "---  \n"
   ]
  },
  {
   "cell_type": "markdown",
   "id": "b1e4f3d0-0eeb-4093-ab2a-4ead638ca722",
   "metadata": {},
   "source": [
    "<div class=\"alert alert-block alert-info\">\n",
    "<b>Sources:</b> Aaron Newman's NDS.\n",
    "</div>"
   ]
  },
  {
   "cell_type": "markdown",
   "id": "b5d22c5a-8b4c-4e76-ac34-eb6e9774c7ef",
   "metadata": {},
   "source": [
    "## Why this course?\n",
    "\n",
    "There are many skills a budding researcher, health-related expert, or modern \"knowledge worker\" needs to learn. For years, I've been telling my students and trainees that two of the most important (and valuable) skills they can learn are programming and statistics, or, if you prefer, data science. Why is that? Well, from my perspective, they are two of the most generalizable skills one can learn. Whether you work in an exercise physiology lab or a computational neuroscience lab, you will inevitably be tasked with coding up a program to make sense of data. The more well-versed you are in programming and data science, the better chance you have of answering the questions you are interested in - at least, the better chance you have of going down interesting paths with respect to your original research question. Needless to say, without these skills, performing research in most disciplines becomes exponentially more challenging, if not impossible. And even if your future line of work is not directly related to lab-based research, you will definitely be interfacing with data. Being able to skillfully work with data automatically makes you valuable to your team.  \n",
    "\n",
    "Another reason for this course, specifically, is that I believe it fills a gap. Oftentimes, programming courses are taught through computer science departments, and data science is typically taught through departments of computer science or statistics. That's great, but it also means that the courses are often geared towards computer science or applied math students, not necessarily kinesiology, or, even more broadly, behavioral and health sciences-related students. The needs of these different types of students can vary dramatically. For example, introductory computer science courses are oftentimes more about theories of computation (think [\"abstraction, algorithms, data structures, encapsulation, resource management, security, software engineering, and web development\"](https://www.edx.org/course/introduction-computer-science-harvardx-cs50x)) as opposed to actual programming or data analysis. Introductory data science courses are often more aligned with science students' needs, but without the specific focus on topic areas that are important to, let's say, a kinesiology undergrad (e.g., analyzing physiological data from an interventional study or processing kinematic data from a biomechanics study). In both cases, students may not feel a strong connection to the skills they learned. Here, I hope to remedy that.\n",
    "\n",
    "To put it succinctly, this course had you in mind. It's the sort of course I wish I could've taken as an undergrad and even as a graduate student. No matter what direction you head in after this class, I sincerely hope you will feel much more fluent in working with data than before this class *and*, even more importantly, that you have a solid foundation for advancing your knowledge further. \n"
   ]
  },
  {
   "cell_type": "markdown",
   "id": "c6b40027-90ad-4f4b-bb32-caa910de60bf",
   "metadata": {},
   "source": [
    "# Learning Approach\n",
    "\n",
    "This class assumes you are here because you want to be here and want to learn to program in Python and learn some foundational data science skills. As such, it's expected that you will be fully engaged during our time together and participating during class activities. \n",
    "\n",
    "In all likelihood, this class will seem different than any other class you've taken. Introductory programming courses often feel novel because the ideas may at first seem very abstract, yet, learning these abstract ideas requires lots of hands-on experience, and teaching it requires a variety of approaches. However, even though hardly any of you (I assume) will be coming in with prior programming experience, you may find that learning to program feels more akin to learning a new language or musical instrument, or a new sport, than you may have expected. What programming and those other activities have in common is that they are all skills, and as such, they require *practice* - and lots of it! Like all these other skills, programming also requires a mixture of teaching (coaching) and self-guided learning.  As such, this course requires that you put in significant time into it outside of class (8 hrs is a reasonable starting estimate).\n",
    "\n",
    "The other thing to keep in mind is that logic will play a much larger role in learning to program than memorization. You will without a doubt forget certain commands, but once you *really* understand the logic of a conecpt (e.g., for loops), you will likely never forget how they work. \n",
    "\n",
    "On last word of advice about learning: Even though you will be practicing on your own, you are encouraged to communicate with your peers. Learning how to ask questions of each other and teach each other will deepen your understanding. In class, we will try to facilitate partnering with peers to foster mutually helpful relationships outside of class. \n",
    "\n"
   ]
  },
  {
   "cell_type": "markdown",
   "id": "a17eb81e-f516-4a77-b8f7-9fb84b126f49",
   "metadata": {},
   "source": [
    "# Errors and Debugging \n",
    "\n",
    "***Note: This section is a lightly edited version of material from Aaron Newman's [Neural Data Science course](https://neuraldatascience.io/intro.html).***\n",
    "\n",
    "Writing code is not unlike writing papers, in that you first have to decide what you want to say, then figure out how to say it. With code, however, you're literally learning a new language in order to do this (albeit one that's simpler and more logical than a natural human language). And unlike other classes, which might require only a handful of writing assignments over the term, in this course writing code is how you learn, so you will be writing and learning on an ongoing basis. The great thing about code, compared to learning a language, is that instead of another person, you're communicating with a computer. It doesn't judge you or laugh when you make mistakes. And you will make mistakes. So many mistakes. Fortunately, having a non-judgemental interlocutor allows for a lot more iteration, and trying things out until you get it right. Computers are also very patient, so you don't have to worry about pausing while you Google how to do/say a certain thing.\n",
    "\n",
    "So yes, you will make errors. All the time. An important part about learning successfully in this course is accepting that these errors are a natural part of learning, and getting used to figuring out how to solve them. Here, I try to provide some tips in that regard.\n",
    "\n",
    "Firstly, when you make an error, you will likely get some sort of error message — although it's possible your code did *something*, it just doesn't give you the right result. If you get an error message, it will probably look scary, complicated, and confusing. It may even show you way more lines of python code than you actually wrote! It's OK — often, most of the error message isn't that important. Sometimes, the first thing to do is just note *that* you got an error, and look at your code again. Many errors are due to typos. In programming, you have to be precise with things like spelling, capitalization, spaces, indents, colons, semicolons, commas, periods, even different types of brackets! It will take a while to get used to this. Often you'll catch an error just by looking at your code more closely.\n",
    "\n",
    "The second approach is to actually read the error message. If you ran a few lines of code, Python will usually indicate which line triggered the error. Sometimes, it's due to something that happened earlier, but that's a good place to start. The error message will often give you some insight into what you did wrong, but it's rarely super-obvious or helpful — decoding error messages is something you get to learn, too! Also, sometimes the error message will spit out lots of lines of code. Usually this is because whatever you wrote was \"calling\" (relying on) some other bit of code, for the command you were running. Since [much of Python is itself written in Python](https://en.wikipedia.org/wiki/Turtles_all_the_way_down), the error message may well make it look like the error is not in what you wrote, but in someone else's code you were trying to run. Don't worry: 99% of the time it is actually your fault. Usually what's happened is that your command ran, but it passed the wrong information to the underlying code. So once again, you should re-examine what you wrote. But you may also need to read the documentation for the command you're trying to run, to understand what you did wrong. Usually you will find the reference to your line of code near the top or bottom of all the code that the error message spits out.\n",
    "\n",
    "Ultimately, writing code requires a lot of patience and trial-and-error. You rarely get it right the first time. Don't self-flagellate or stress when you get error messages, just view it as part of the process, a puzzle that you can solve. The old adage of \"measure twice, cut once\" doesn't apply in coding. Instead, you should just forge ahead and try lots of different things, until you make progress. And of course, there's class time to ask questions, and your classmates and team members to consult with outside of class time.\n"
   ]
  },
  {
   "cell_type": "markdown",
   "id": "656a7ee8-0ae4-41ca-91f8-c6dff61a92dd",
   "metadata": {},
   "source": [
    "# Collaboration and Teamwork (HK: consider removing)\n",
    "\n",
    "In this course, you will be explicitly encouraged to collaborate with your peers. This will occur in various formats, including, but not limited to:\n",
    "\n",
    "- [Pair programming](https://collaboration.csc.ncsu.edu/laurie/Papers/WilliamsUpchurch.pdf)\n",
    "- Group projects\n",
    "- Teaching each other concepts, skills\n",
    "\n",
    "However, at the end of the day, you must take responsibility for your own learning and be able to demonstrate your new programming skills and knowledge. This means that when working on problem sets, you should struggle with finding the solutions on your own first. Seeking help should come only after you are first able to clearly articulate what you've tried, what feedback you received from Python/Jupyter/etc., and what you think might be the problem. This applies to asking for guidance from the instructors as well as your classmates. Without the struggle, there can be no learning. By the time group projects roll around, you must be able to demonstrate your skills in order to make a meaningful contribution. Your group members should not \"cover\" for you. Everyone having to shoulder this responsibility means you all benefit from constructive and fun collaboration! \n"
   ]
  },
  {
   "cell_type": "markdown",
   "id": "e7814546-f12e-4b9a-b04a-cf011fd57eb4",
   "metadata": {},
   "source": [
    "# Teaching Approach \n",
    "\n",
    "As mentioned previously, I'm assuming you are here because you want to be here and want to learn to program in Python and learn some foundational data science skills. In other words, I don't believe you are taking this course just to earn credit towards your degree or as a \"GPA booster\". \n",
    "\n",
    "This belief influences how I believe you should view the members of the teaching team (instructor, TA). We are here to teach, evaluate progress, and also serve as guides and consultants. However, you should not expect that we will provide you with everything you need to succeed. For one, that is unrealistic, but more importantly, that would take you as the active learner out of the equation. You are expected to take responsibility for your own learning and performance in this course. Concretely, this means you must be actively engaged in the scheduled course activities, seek out the information you need, and even at times teach yourself how to do things. We, the teaching team, are not here to give you all the answers; we are here to provide you with the skills to learn and discover the answers you need. This may involve finding documentation, tutorials, and examples on the web, talking with your peers, or asking specific questions of the teaching team — questions that demonstrate that you've already tried to solve the problem yourself and have identified the thing that you're stuck on. This is to say, you should not view the course instructor as a \"sage on the stage\", but rather as your \"guide on the side\".\n",
    "\n",
    "For this course, we will be providing mini-lectures and tutorials--but again, your active participation is necessary to maximize the learning outcomes. The more you prepare, ask questions, and *engage*, the better we can hone in on how to help get you to the next level"
   ]
  }
 ],
 "metadata": {
  "kernelspec": {
   "display_name": "jupyter_books",
   "language": "python",
   "name": "jupyter_books"
  },
  "language_info": {
   "codemirror_mode": {
    "name": "ipython",
    "version": 3
   },
   "file_extension": ".py",
   "mimetype": "text/x-python",
   "name": "python",
   "nbconvert_exporter": "python",
   "pygments_lexer": "ipython3",
   "version": "3.10.8"
  }
 },
 "nbformat": 4,
 "nbformat_minor": 5
}
