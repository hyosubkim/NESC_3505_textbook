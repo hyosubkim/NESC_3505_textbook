{
 "cells": [
  {
   "cell_type": "markdown",
   "id": "1cf59460-7793-4dff-83f7-5333e266239e",
   "metadata": {},
   "source": [
    "# Make some fake RT data\n",
    "\n",
    "This generates data for the Seaborn lesson. It is not intended to be a public section of the book."
   ]
  },
  {
   "cell_type": "code",
   "execution_count": 1,
   "id": "6fd80d55-9150-48f3-88e3-725e18a32aea",
   "metadata": {},
   "outputs": [],
   "source": [
    "import numpy as np\n",
    "import pandas as pd"
   ]
  },
  {
   "cell_type": "code",
   "execution_count": 2,
   "id": "3af0fe36-1600-47b6-873d-4776aee3752e",
   "metadata": {},
   "outputs": [],
   "source": [
    "mu1, sigma1 = .600, 0.120\n",
    "mu2, sigma2 = .800, 0.125\n",
    "\n",
    "num_subj = 5\n",
    "num_trials = 25\n",
    "c1_label = 'word'\n",
    "c2_label = 'nonword'\n",
    "exp_name = 'ldt'"
   ]
  },
  {
   "cell_type": "markdown",
   "id": "99041037-887f-4a3c-bfe9-139eaab2dde5",
   "metadata": {},
   "source": [
    "## Make data for first Seaborn lesson"
   ]
  },
  {
   "cell_type": "code",
   "execution_count": 3,
   "id": "c2ae700c-56c1-4054-8458-1f66d777bed1",
   "metadata": {},
   "outputs": [],
   "source": [
    "for subj in range(1, num_subj+1):\n",
    "    if subj < 10:\n",
    "        leading = '0'\n",
    "    else:\n",
    "        leading = ''\n",
    "        \n",
    "    subj_id = exp_name + '_s' + leading + str(subj)\n",
    "    subj_array = np.repeat(subj_id, num_trials * 2)\n",
    "\n",
    "    c1 = np.random.default_rng().normal(mu1, sigma1, num_trials)\n",
    "    c1_array = np.column_stack((np.repeat(c1_label, num_trials), c1))\n",
    "\n",
    "    c2 = np.random.default_rng().normal(mu2, sigma2, num_trials)\n",
    "    c2_array = np.column_stack((np.repeat(c2_label, num_trials), c2))\n",
    "\n",
    "    dat = np.vstack((c1_array, c2_array))\n",
    "\n",
    "\n",
    "    full_dat = np.column_stack((subj_array, dat))\n",
    "    df = pd.DataFrame(full_dat, columns=['ID', 'condition', 'RT'])\n",
    "#     df.to_csv('data/' + subj_id + '_data.csv', index=False)"
   ]
  },
  {
   "cell_type": "markdown",
   "id": "46269a16-d880-41cf-826b-d0e3f3b6fe7a",
   "metadata": {},
   "source": [
    "## Make data for nested data lesson"
   ]
  },
  {
   "cell_type": "code",
   "execution_count": 4,
   "id": "f06442de-5a56-4870-8011-84c88d310164",
   "metadata": {},
   "outputs": [],
   "source": [
    "mu1, sigma1 = .600, 0.050\n",
    "mu2, sigma2 = .800, 0.055\n",
    "\n",
    "mu_s_sigma = .100\n",
    "mu_s_sigma_sigma = .150\n",
    "mu_s_sigma_sigma2 = .151\n",
    "\n",
    "\n",
    "num_subj = 20\n",
    "num_trials = 25\n",
    "c1_label = 'word'\n",
    "c2_label = 'nonword'\n",
    "exp_name = 'ldt2'\n",
    "\n",
    "\n",
    "for subj in range(1, num_subj+1):\n",
    "    if subj < 10:\n",
    "        leading = '0'\n",
    "    else:\n",
    "        leading = ''\n",
    "        \n",
    "    subj_id = exp_name + '_s' + leading + str(subj)\n",
    "    subj_array = np.repeat(subj_id, num_trials * 2)\n",
    "    \n",
    "    # Make each subject's mean and variance a bit different\n",
    "    mu1s = mu1 + np.random.default_rng().normal(0, mu_s_sigma, 1)\n",
    "#     sigma1s = sigma1 + np.random.default_rng().normal(0, np.abs(mu_s_sigma_sigma), 1)\n",
    "    c1 = np.random.default_rng().normal(mu1s, sigma1, num_trials)\n",
    "    c1_array = np.column_stack((np.repeat(c1_label, num_trials), c1))\n",
    "\n",
    "    mu2s = mu2 + np.random.default_rng().normal(0, mu_s_sigma, 1)\n",
    "#     sigma2s = sigma2 + np.random.default_rng().normal(0, np.abs(mu_s_sigma_sigma2), 1)\n",
    "    c2 = np.random.default_rng().normal(mu2s, sigma2, num_trials)\n",
    "    c2_array = np.column_stack((np.repeat(c2_label, num_trials), c2))\n",
    "\n",
    "    dat = np.vstack((c1_array, c2_array))\n",
    "\n",
    "    full_dat = np.column_stack((subj_array, dat))\n",
    "    df = pd.DataFrame(full_dat, columns=['ID', 'condition', 'RT'])\n",
    "#     df.to_csv('data/' + subj_id + '_data.csv', index=False)"
   ]
  },
  {
   "cell_type": "code",
   "execution_count": 5,
   "id": "ce6ca124-6c6a-4370-82cb-5d1206d8d5c8",
   "metadata": {},
   "outputs": [
    {
     "data": {
      "text/plain": [
       "array([0.45659645])"
      ]
     },
     "execution_count": 5,
     "metadata": {},
     "output_type": "execute_result"
    }
   ],
   "source": [
    "mu1s"
   ]
  },
  {
   "cell_type": "code",
   "execution_count": 6,
   "id": "5718351b-740e-4ed5-99d0-19ee355540df",
   "metadata": {},
   "outputs": [
    {
     "data": {
      "text/plain": [
       "array([0.77214002])"
      ]
     },
     "execution_count": 6,
     "metadata": {},
     "output_type": "execute_result"
    }
   ],
   "source": [
    "mu2s"
   ]
  },
  {
   "cell_type": "code",
   "execution_count": 7,
   "id": "54b13a87-5c80-4ed9-ac0a-0244d3443e61",
   "metadata": {},
   "outputs": [
    {
     "ename": "NameError",
     "evalue": "name 'sigma2s' is not defined",
     "output_type": "error",
     "traceback": [
      "\u001b[0;31m---------------------------------------------------------------------------\u001b[0m",
      "\u001b[0;31mNameError\u001b[0m                                 Traceback (most recent call last)",
      "Cell \u001b[0;32mIn [7], line 1\u001b[0m\n\u001b[0;32m----> 1\u001b[0m np\u001b[38;5;241m.\u001b[39mabs(\u001b[43msigma2s\u001b[49m)\n",
      "\u001b[0;31mNameError\u001b[0m: name 'sigma2s' is not defined"
     ]
    }
   ],
   "source": [
    "\n",
    "np.abs(sigma2s)"
   ]
  },
  {
   "cell_type": "code",
   "execution_count": null,
   "id": "c611fad7-3bd3-4819-829f-ac0c57ad9e49",
   "metadata": {},
   "outputs": [],
   "source": [
    "np.random.default_rng().normal(mu1s, sigma2s, num_trials)"
   ]
  },
  {
   "cell_type": "code",
   "execution_count": null,
   "id": "61633c09-530e-4d47-bc39-fcffbe3ef912",
   "metadata": {},
   "outputs": [],
   "source": [
    "np.random.default_rng().normal(mu2s, sigma1s, num_trials)"
   ]
  },
  {
   "cell_type": "code",
   "execution_count": null,
   "id": "ba663bf9-5686-4e36-a87b-7a732035057a",
   "metadata": {},
   "outputs": [],
   "source": [
    "mu1s"
   ]
  },
  {
   "cell_type": "code",
   "execution_count": null,
   "id": "a3dff028-94a2-4c06-a2ee-3e7fb34dcfb6",
   "metadata": {},
   "outputs": [],
   "source": [
    "sigma1s"
   ]
  },
  {
   "cell_type": "code",
   "execution_count": null,
   "id": "fc7b1bb9-8bca-453a-9123-dd3062fa8efa",
   "metadata": {},
   "outputs": [],
   "source": []
  }
 ],
 "metadata": {
  "kernelspec": {
   "display_name": "Python 3 (ipykernel)",
   "language": "python",
   "name": "python3"
  },
  "language_info": {
   "codemirror_mode": {
    "name": "ipython",
    "version": 3
   },
   "file_extension": ".py",
   "mimetype": "text/x-python",
   "name": "python",
   "nbconvert_exporter": "python",
   "pygments_lexer": "ipython3",
   "version": "3.9.13"
  },
  "nteract": {
   "version": "0.28.0"
  }
 },
 "nbformat": 4,
 "nbformat_minor": 5
}
