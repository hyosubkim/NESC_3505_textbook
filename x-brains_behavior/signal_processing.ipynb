{
 "cells": [
  {
   "cell_type": "markdown",
   "id": "860f9f41-1905-435e-ace9-5c23619b373d",
   "metadata": {},
   "source": [
    "# Signal processing  \n",
    "### Basic introduction to sampling, filtering, and time and frequency domains. \n",
    "Will largely follow Paul Gribble's lecture on same topic: \n",
    "https://gribblelab.org/teaching/scicomp2021/signals_sampling_and_filtering.html. "
   ]
  },
  {
   "cell_type": "code",
   "execution_count": null,
   "id": "6cedfe36-0ec0-4f48-954e-a272bd84e1f5",
   "metadata": {},
   "outputs": [],
   "source": []
  }
 ],
 "metadata": {
  "kernelspec": {
   "display_name": "Python 3",
   "language": "python",
   "name": "python3"
  },
  "language_info": {
   "codemirror_mode": {
    "name": "ipython",
    "version": 3
   },
   "file_extension": ".py",
   "mimetype": "text/x-python",
   "name": "python",
   "nbconvert_exporter": "python",
   "pygments_lexer": "ipython3",
   "version": "3.8.8"
  }
 },
 "nbformat": 4,
 "nbformat_minor": 5
}
