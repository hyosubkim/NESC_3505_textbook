{
 "cells": [
  {
   "cell_type": "markdown",
   "id": "9ee5f511-1031-484c-bca1-2b8914db3605",
   "metadata": {},
   "source": [
    "# Psychophysics  \n",
    "### More practice with data processing, visualization, and analysis."
   ]
  },
  {
   "cell_type": "code",
   "execution_count": null,
   "id": "fbfc8ee7-39ee-424b-810a-c2766a171a08",
   "metadata": {},
   "outputs": [],
   "source": []
  }
 ],
 "metadata": {
  "kernelspec": {
   "display_name": "Python 3",
   "language": "python",
   "name": "python3"
  },
  "language_info": {
   "codemirror_mode": {
    "name": "ipython",
    "version": 3
   },
   "file_extension": ".py",
   "mimetype": "text/x-python",
   "name": "python",
   "nbconvert_exporter": "python",
   "pygments_lexer": "ipython3",
   "version": "3.8.8"
  }
 },
 "nbformat": 4,
 "nbformat_minor": 5
}
