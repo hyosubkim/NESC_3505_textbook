{
 "cells": [
  {
   "cell_type": "markdown",
   "id": "6d403ba2-75ba-4fca-8fd8-dd05ce1fdfc7",
   "metadata": {},
   "source": [
    "# Sensorimotor adaptation \n",
    "\n",
    "### Purpose is to provide key example of behavioral data analysis and practice data processing, visualization, and analysis."
   ]
  },
  {
   "cell_type": "code",
   "execution_count": null,
   "id": "f9bd699a-bef2-41a4-8396-54d9c7a6dab1",
   "metadata": {},
   "outputs": [],
   "source": []
  }
 ],
 "metadata": {
  "kernelspec": {
   "display_name": "Python 3",
   "language": "python",
   "name": "python3"
  },
  "language_info": {
   "codemirror_mode": {
    "name": "ipython",
    "version": 3
   },
   "file_extension": ".py",
   "mimetype": "text/x-python",
   "name": "python",
   "nbconvert_exporter": "python",
   "pygments_lexer": "ipython3",
   "version": "3.8.8"
  }
 },
 "nbformat": 4,
 "nbformat_minor": 5
}
