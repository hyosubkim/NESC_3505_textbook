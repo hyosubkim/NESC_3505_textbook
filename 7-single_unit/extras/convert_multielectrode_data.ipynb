{
 "cells": [
  {
   "cell_type": "code",
   "execution_count": 16,
   "id": "c829f29f-f037-4550-b768-88e3448deb9d",
   "metadata": {},
   "outputs": [],
   "source": [
    "import scipy.io\n",
    "from pyarrow.feather import write_feather\n",
    "import matplotlib.pyplot as plt\n",
    "import numpy as np\n",
    "import pandas as pd"
   ]
  },
  {
   "cell_type": "markdown",
   "id": "a190c1cf-68de-4549-8955-75d33e8e558f",
   "metadata": {
    "tags": []
   },
   "source": [
    "## Import the data\n"
   ]
  },
  {
   "cell_type": "code",
   "execution_count": 3,
   "id": "ea276afe-638a-4cb5-af97-2c8cea371a66",
   "metadata": {},
   "outputs": [],
   "source": [
    "data_in = scipy.io.loadmat('./arrayDATA.mat')"
   ]
  },
  {
   "cell_type": "markdown",
   "id": "792769b4-c627-4b46-92bc-3c800480c678",
   "metadata": {
    "tags": []
   },
   "source": [
    "## Convert Data to pandas DataFrame\n",
    "\n",
    "The code below uses list comprehension to loop through each trial's data and turn it into a pandas DataFrame. This results in a list of DataFrames, each being the data from one trial. We then use `pd.concat()` to convert the list of DataFrames to a single pandas DataFrame.\n",
    "\n",
    "This uses a couple of NumPy functions we haven't seen before. `np.c_` concatenates a series of NumPy objects into columns. We do this because we want to combine the three-column data array with additional columns that encode the orientation and trial number information. We create those latter columns using `np.repeat`, which generates a NumPy array by broadcasting (repeating) the input (first argument) a specified number of times (second argument; in this case, the length of the input NumPy data array, which we get as `data_in['DATA'][trial][0][0].shape[0]`)."
   ]
  },
  {
   "cell_type": "code",
   "execution_count": 4,
   "id": "2e1e0e7b-0a2b-4eaf-b3e8-a48077f344bf",
   "metadata": {},
   "outputs": [],
   "source": [
    "cols = ['channel', 'sort', 'time', 'orientation', 'trial']\n",
    "\n",
    "df_list = [pd.DataFrame(np.c_[data_in['DATA'][trial][0][0],\n",
    "                              np.repeat(data_in['DATA'][trial][0][1][0][0],\n",
    "                                        data_in['DATA'][trial][0][0].shape[0]),\n",
    "                              np.repeat(trial, \n",
    "                                        data_in['DATA'][trial][0][0].shape[0])\n",
    "                             ],\n",
    "                        columns=cols)\n",
    "           for trial in np.arange(data_in['DATA'].shape[0])]\n",
    "\n",
    "df = pd.concat(df_list)"
   ]
  },
  {
   "cell_type": "code",
   "execution_count": 5,
   "id": "d29103c7-747f-461c-8e72-569b0e442a5a",
   "metadata": {},
   "outputs": [
    {
     "data": {
      "text/html": [
       "<div>\n",
       "<style scoped>\n",
       "    .dataframe tbody tr th:only-of-type {\n",
       "        vertical-align: middle;\n",
       "    }\n",
       "\n",
       "    .dataframe tbody tr th {\n",
       "        vertical-align: top;\n",
       "    }\n",
       "\n",
       "    .dataframe thead th {\n",
       "        text-align: right;\n",
       "    }\n",
       "</style>\n",
       "<table border=\"1\" class=\"dataframe\">\n",
       "  <thead>\n",
       "    <tr style=\"text-align: right;\">\n",
       "      <th></th>\n",
       "      <th>channel</th>\n",
       "      <th>sort</th>\n",
       "      <th>time</th>\n",
       "      <th>orientation</th>\n",
       "      <th>trial</th>\n",
       "    </tr>\n",
       "  </thead>\n",
       "  <tbody>\n",
       "    <tr>\n",
       "      <th>0</th>\n",
       "      <td>20.0</td>\n",
       "      <td>1.0</td>\n",
       "      <td>0.624</td>\n",
       "      <td>90.0</td>\n",
       "      <td>0.0</td>\n",
       "    </tr>\n",
       "    <tr>\n",
       "      <th>1</th>\n",
       "      <td>20.0</td>\n",
       "      <td>1.0</td>\n",
       "      <td>0.630</td>\n",
       "      <td>90.0</td>\n",
       "      <td>0.0</td>\n",
       "    </tr>\n",
       "    <tr>\n",
       "      <th>2</th>\n",
       "      <td>20.0</td>\n",
       "      <td>3.0</td>\n",
       "      <td>0.652</td>\n",
       "      <td>90.0</td>\n",
       "      <td>0.0</td>\n",
       "    </tr>\n",
       "    <tr>\n",
       "      <th>3</th>\n",
       "      <td>20.0</td>\n",
       "      <td>3.0</td>\n",
       "      <td>0.659</td>\n",
       "      <td>90.0</td>\n",
       "      <td>0.0</td>\n",
       "    </tr>\n",
       "    <tr>\n",
       "      <th>4</th>\n",
       "      <td>20.0</td>\n",
       "      <td>255.0</td>\n",
       "      <td>0.686</td>\n",
       "      <td>90.0</td>\n",
       "      <td>0.0</td>\n",
       "    </tr>\n",
       "  </tbody>\n",
       "</table>\n",
       "</div>"
      ],
      "text/plain": [
       "   channel   sort   time  orientation  trial\n",
       "0     20.0    1.0  0.624         90.0    0.0\n",
       "1     20.0    1.0  0.630         90.0    0.0\n",
       "2     20.0    3.0  0.652         90.0    0.0\n",
       "3     20.0    3.0  0.659         90.0    0.0\n",
       "4     20.0  255.0  0.686         90.0    0.0"
      ]
     },
     "execution_count": 5,
     "metadata": {},
     "output_type": "execute_result"
    }
   ],
   "source": [
    "df.head()"
   ]
  },
  {
   "cell_type": "code",
   "execution_count": 6,
   "id": "0a18b771-7b1d-46df-91e0-45ad7143d981",
   "metadata": {},
   "outputs": [
    {
     "data": {
      "text/html": [
       "<div>\n",
       "<style scoped>\n",
       "    .dataframe tbody tr th:only-of-type {\n",
       "        vertical-align: middle;\n",
       "    }\n",
       "\n",
       "    .dataframe tbody tr th {\n",
       "        vertical-align: top;\n",
       "    }\n",
       "\n",
       "    .dataframe thead th {\n",
       "        text-align: right;\n",
       "    }\n",
       "</style>\n",
       "<table border=\"1\" class=\"dataframe\">\n",
       "  <thead>\n",
       "    <tr style=\"text-align: right;\">\n",
       "      <th></th>\n",
       "      <th>channel</th>\n",
       "      <th>sort</th>\n",
       "      <th>time</th>\n",
       "      <th>orientation</th>\n",
       "      <th>trial</th>\n",
       "    </tr>\n",
       "  </thead>\n",
       "  <tbody>\n",
       "    <tr>\n",
       "      <th>740</th>\n",
       "      <td>79.0</td>\n",
       "      <td>0.0</td>\n",
       "      <td>0.468</td>\n",
       "      <td>0.0</td>\n",
       "      <td>1203.0</td>\n",
       "    </tr>\n",
       "    <tr>\n",
       "      <th>1003</th>\n",
       "      <td>33.0</td>\n",
       "      <td>1.0</td>\n",
       "      <td>1.584</td>\n",
       "      <td>90.0</td>\n",
       "      <td>1086.0</td>\n",
       "    </tr>\n",
       "    <tr>\n",
       "      <th>222</th>\n",
       "      <td>72.0</td>\n",
       "      <td>1.0</td>\n",
       "      <td>0.123</td>\n",
       "      <td>0.0</td>\n",
       "      <td>1928.0</td>\n",
       "    </tr>\n",
       "    <tr>\n",
       "      <th>375</th>\n",
       "      <td>74.0</td>\n",
       "      <td>2.0</td>\n",
       "      <td>0.309</td>\n",
       "      <td>90.0</td>\n",
       "      <td>1446.0</td>\n",
       "    </tr>\n",
       "    <tr>\n",
       "      <th>3342</th>\n",
       "      <td>40.0</td>\n",
       "      <td>255.0</td>\n",
       "      <td>-0.323</td>\n",
       "      <td>0.0</td>\n",
       "      <td>1772.0</td>\n",
       "    </tr>\n",
       "    <tr>\n",
       "      <th>674</th>\n",
       "      <td>90.0</td>\n",
       "      <td>255.0</td>\n",
       "      <td>0.923</td>\n",
       "      <td>0.0</td>\n",
       "      <td>156.0</td>\n",
       "    </tr>\n",
       "    <tr>\n",
       "      <th>357</th>\n",
       "      <td>33.0</td>\n",
       "      <td>1.0</td>\n",
       "      <td>0.272</td>\n",
       "      <td>90.0</td>\n",
       "      <td>256.0</td>\n",
       "    </tr>\n",
       "    <tr>\n",
       "      <th>547</th>\n",
       "      <td>80.0</td>\n",
       "      <td>255.0</td>\n",
       "      <td>0.684</td>\n",
       "      <td>90.0</td>\n",
       "      <td>1197.0</td>\n",
       "    </tr>\n",
       "    <tr>\n",
       "      <th>1333</th>\n",
       "      <td>9.0</td>\n",
       "      <td>255.0</td>\n",
       "      <td>2.094</td>\n",
       "      <td>0.0</td>\n",
       "      <td>2249.0</td>\n",
       "    </tr>\n",
       "    <tr>\n",
       "      <th>856</th>\n",
       "      <td>93.0</td>\n",
       "      <td>2.0</td>\n",
       "      <td>1.264</td>\n",
       "      <td>90.0</td>\n",
       "      <td>1518.0</td>\n",
       "    </tr>\n",
       "    <tr>\n",
       "      <th>1113</th>\n",
       "      <td>24.0</td>\n",
       "      <td>1.0</td>\n",
       "      <td>1.721</td>\n",
       "      <td>90.0</td>\n",
       "      <td>1961.0</td>\n",
       "    </tr>\n",
       "    <tr>\n",
       "      <th>1224</th>\n",
       "      <td>86.0</td>\n",
       "      <td>1.0</td>\n",
       "      <td>2.004</td>\n",
       "      <td>0.0</td>\n",
       "      <td>1055.0</td>\n",
       "    </tr>\n",
       "  </tbody>\n",
       "</table>\n",
       "</div>"
      ],
      "text/plain": [
       "      channel   sort   time  orientation   trial\n",
       "740      79.0    0.0  0.468          0.0  1203.0\n",
       "1003     33.0    1.0  1.584         90.0  1086.0\n",
       "222      72.0    1.0  0.123          0.0  1928.0\n",
       "375      74.0    2.0  0.309         90.0  1446.0\n",
       "3342     40.0  255.0 -0.323          0.0  1772.0\n",
       "674      90.0  255.0  0.923          0.0   156.0\n",
       "357      33.0    1.0  0.272         90.0   256.0\n",
       "547      80.0  255.0  0.684         90.0  1197.0\n",
       "1333      9.0  255.0  2.094          0.0  2249.0\n",
       "856      93.0    2.0  1.264         90.0  1518.0\n",
       "1113     24.0    1.0  1.721         90.0  1961.0\n",
       "1224     86.0    1.0  2.004          0.0  1055.0"
      ]
     },
     "execution_count": 6,
     "metadata": {},
     "output_type": "execute_result"
    }
   ],
   "source": [
    "df.sample(12)"
   ]
  },
  {
   "cell_type": "code",
   "execution_count": 7,
   "id": "72a156f9-31e7-470d-9de0-b5f09a7b409a",
   "metadata": {},
   "outputs": [
    {
     "data": {
      "text/plain": [
       "(3425176, 5)"
      ]
     },
     "execution_count": 7,
     "metadata": {},
     "output_type": "execute_result"
    }
   ],
   "source": [
    "df.shape"
   ]
  },
  {
   "cell_type": "markdown",
   "id": "6719d191-ee6b-496f-9b9d-7a1554cb8a12",
   "metadata": {
    "tags": []
   },
   "source": [
    "### Clean the data\n",
    "\n",
    "We know from the provider of the data that sort codes 0 and 255 represent bad data, so above we defined these as `noise_codes`. Here we remove all rows that have these sort codes. Note that the `~` operator in front of a statement means \"not\". So here we are saying to keep in `df` only those rows where `sort` is *not* equal to one of the `noise_codes`."
   ]
  },
  {
   "cell_type": "code",
   "execution_count": 8,
   "id": "cb8e2fab-0227-4148-9030-d9866d907773",
   "metadata": {},
   "outputs": [],
   "source": [
    "noise_codes = [0, 255] # explained later\n",
    "\n",
    "df = df[~df['sort'].isin(noise_codes)]"
   ]
  },
  {
   "cell_type": "code",
   "execution_count": 9,
   "id": "15a4fccd-cf92-420f-8774-cc11fc75f3d3",
   "metadata": {},
   "outputs": [
    {
     "data": {
      "text/plain": [
       "(2340739, 5)"
      ]
     },
     "execution_count": 9,
     "metadata": {},
     "output_type": "execute_result"
    }
   ],
   "source": [
    "df.shape"
   ]
  },
  {
   "cell_type": "code",
   "execution_count": 10,
   "id": "78e76b0c-d46b-4755-b2d4-267ad07250f0",
   "metadata": {},
   "outputs": [
    {
     "data": {
      "text/plain": [
       "array([20., 42., 72., 94., 53.,  1.,  6., 37., 10., 63., 66., 74., 77.,\n",
       "       22., 39., 84., 38., 85., 15., 55., 81., 86., 69., 40., 11., 23.,\n",
       "       19., 79., 80., 60., 76., 90., 87.,  9., 61., 75., 35., 17., 64.,\n",
       "       46., 71., 89., 58., 44.,  2., 49., 91., 78., 65., 18., 96., 25.,\n",
       "       36., 33., 88., 43., 29., 12.,  7., 93., 41., 30., 92.,  5., 83.,\n",
       "       14.,  8., 45.,  4., 24., 13., 67., 62., 16., 82., 48., 51., 50.,\n",
       "       54., 57., 73.,  3., 26., 47., 70., 59., 52., 27., 95., 32., 28.])"
      ]
     },
     "execution_count": 10,
     "metadata": {},
     "output_type": "execute_result"
    }
   ],
   "source": [
    "df['channel'].unique()"
   ]
  },
  {
   "cell_type": "code",
   "execution_count": 24,
   "id": "78aaa736-5818-4bb4-ae86-d405bbd9335a",
   "metadata": {
    "scrolled": true,
    "tags": []
   },
   "outputs": [
    {
     "data": {
      "text/plain": [
       "channel  sort\n",
       "1.0      1.0      21263\n",
       "2.0      1.0       1953\n",
       "3.0      1.0       1550\n",
       "         2.0       1894\n",
       "4.0      1.0       1638\n",
       "5.0      1.0       3289\n",
       "6.0      1.0      10911\n",
       "         2.0      35184\n",
       "7.0      1.0       2271\n",
       "8.0      1.0      16169\n",
       "9.0      1.0      57536\n",
       "10.0     1.0       9498\n",
       "11.0     1.0       5848\n",
       "12.0     1.0       3169\n",
       "13.0     1.0       7914\n",
       "14.0     1.0      30385\n",
       "15.0     1.0      43942\n",
       "16.0     1.0       5609\n",
       "17.0     1.0       8242\n",
       "18.0     1.0     100534\n",
       "19.0     1.0      28172\n",
       "         2.0       1829\n",
       "20.0     1.0      52161\n",
       "         2.0      20953\n",
       "         3.0      96756\n",
       "         4.0      63667\n",
       "22.0     1.0      66749\n",
       "23.0     1.0      72019\n",
       "24.0     1.0       3453\n",
       "25.0     1.0       8598\n",
       "26.0     1.0       3557\n",
       "27.0     1.0       2093\n",
       "28.0     1.0        757\n",
       "29.0     1.0       3838\n",
       "         2.0       5393\n",
       "30.0     1.0       4909\n",
       "32.0     1.0        223\n",
       "33.0     1.0      26440\n",
       "         2.0        424\n",
       "35.0     1.0      11676\n",
       "36.0     1.0      33271\n",
       "37.0     1.0      16488\n",
       "38.0     1.0      17963\n",
       "         2.0      15524\n",
       "39.0     1.0       2534\n",
       "40.0     1.0      30585\n",
       "41.0     1.0       4372\n",
       "42.0     1.0     118478\n",
       "43.0     1.0       6431\n",
       "44.0     1.0      15929\n",
       "45.0     1.0        558\n",
       "46.0     1.0      14199\n",
       "47.0     1.0        805\n",
       "48.0     1.0       3343\n",
       "49.0     1.0      24395\n",
       "         2.0       9859\n",
       "50.0     1.0       2600\n",
       "51.0     1.0        355\n",
       "52.0     1.0        762\n",
       "53.0     1.0      69436\n",
       "         2.0      11118\n",
       "54.0     1.0       1365\n",
       "55.0     1.0        529\n",
       "57.0     1.0       4257\n",
       "58.0     1.0       2969\n",
       "59.0     1.0       1743\n",
       "60.0     1.0      54982\n",
       "         2.0      23642\n",
       "61.0     1.0       6307\n",
       "62.0     1.0       2487\n",
       "63.0     1.0       7507\n",
       "64.0     1.0       6170\n",
       "65.0     1.0      17607\n",
       "66.0     1.0      26125\n",
       "67.0     1.0      10506\n",
       "69.0     1.0      23203\n",
       "70.0     1.0      12722\n",
       "71.0     1.0      15128\n",
       "72.0     1.0     156014\n",
       "73.0     1.0       7201\n",
       "74.0     1.0      11049\n",
       "         2.0      68740\n",
       "75.0     1.0      50969\n",
       "76.0     1.0      42128\n",
       "77.0     1.0      45233\n",
       "78.0     1.0      69610\n",
       "79.0     1.0      41536\n",
       "80.0     1.0      35279\n",
       "81.0     1.0      10576\n",
       "82.0     1.0       6769\n",
       "83.0     1.0      13241\n",
       "84.0     1.0       6288\n",
       "85.0     1.0      30923\n",
       "86.0     1.0     141910\n",
       "87.0     1.0      60206\n",
       "88.0     1.0      21916\n",
       "89.0     1.0        904\n",
       "         2.0       3353\n",
       "90.0     1.0       8862\n",
       "91.0     1.0      10211\n",
       "92.0     1.0       2817\n",
       "93.0     1.0      13832\n",
       "         2.0       2721\n",
       "94.0     1.0        483\n",
       "95.0     1.0        662\n",
       "96.0     1.0      18586\n",
       "Name: time, dtype: int64"
      ]
     },
     "execution_count": 24,
     "metadata": {},
     "output_type": "execute_result"
    }
   ],
   "source": [
    "pd.set_option('display.max_rows', None)\n",
    "df.groupby(['channel', 'sort'])['time'].count()"
   ]
  },
  {
   "cell_type": "markdown",
   "id": "d1b4f81e-d17b-44a5-b011-f9936306e190",
   "metadata": {},
   "source": [
    "## Select subset of channels\n",
    "\n",
    "Based on looking at the PSTH from all channels (previous version of lessons), selected the following to have amixture of response patterns (and a couple of bad ones) "
   ]
  },
  {
   "cell_type": "code",
   "execution_count": 29,
   "id": "7735a48f-5966-4210-94e8-c5b4ceb614ae",
   "metadata": {},
   "outputs": [
    {
     "name": "stdout",
     "output_type": "stream",
     "text": [
      "20\n"
     ]
    }
   ],
   "source": [
    "keep_chans = [4, 7, 10, 22, 23, 32, 35, 42, 44, 45, 63, 67, 73, 75, 79, 80, 86, 91, 95, 96]\n",
    "print(len(keep_chans))\n",
    "df_use = df[df['channel'].isin(keep_chans)]"
   ]
  },
  {
   "cell_type": "code",
   "execution_count": 30,
   "id": "e0642aa7-b68d-45ba-b445-3b29037b710c",
   "metadata": {},
   "outputs": [
    {
     "data": {
      "text/plain": [
       "[4, 7, 10, 22, 23, 32, 35, 42, 44, 45, 63, 67, 73, 75, 79, 80, 86, 91, 95, 96]"
      ]
     },
     "execution_count": 30,
     "metadata": {},
     "output_type": "execute_result"
    }
   ],
   "source": [
    "sorted(keep_chans)"
   ]
  },
  {
   "cell_type": "code",
   "execution_count": 31,
   "id": "1788cfa0-3201-4b78-b306-a4c10fd1f8b4",
   "metadata": {},
   "outputs": [
    {
     "data": {
      "text/plain": [
       "channel  sort\n",
       "4.0      1.0       1638\n",
       "7.0      1.0       2271\n",
       "10.0     1.0       9498\n",
       "22.0     1.0      66749\n",
       "23.0     1.0      72019\n",
       "32.0     1.0        223\n",
       "35.0     1.0      11676\n",
       "42.0     1.0     118478\n",
       "44.0     1.0      15929\n",
       "45.0     1.0        558\n",
       "63.0     1.0       7507\n",
       "67.0     1.0      10506\n",
       "73.0     1.0       7201\n",
       "75.0     1.0      50969\n",
       "79.0     1.0      41536\n",
       "80.0     1.0      35279\n",
       "86.0     1.0     141910\n",
       "91.0     1.0      10211\n",
       "95.0     1.0        662\n",
       "96.0     1.0      18586\n",
       "Name: time, dtype: int64"
      ]
     },
     "execution_count": 31,
     "metadata": {},
     "output_type": "execute_result"
    }
   ],
   "source": [
    "df_use.groupby(['channel', 'sort'])['time'].count()"
   ]
  },
  {
   "cell_type": "code",
   "execution_count": 34,
   "id": "03dd6ae6-83f5-481d-bb48-27c17fb82721",
   "metadata": {},
   "outputs": [],
   "source": [
    "df_use = df_use.drop(['sort'], axis=1)"
   ]
  },
  {
   "cell_type": "markdown",
   "id": "b62e7aee-a827-4b42-90db-74a75db2f914",
   "metadata": {},
   "source": [
    "## Export data to CSV"
   ]
  },
  {
   "cell_type": "code",
   "execution_count": 35,
   "id": "c3a3bbf6-5e2f-4b28-8ca3-a194b0326f38",
   "metadata": {},
   "outputs": [],
   "source": [
    "df_use.to_csv('../data/multielectrode_data.csv', index=False)"
   ]
  },
  {
   "cell_type": "code",
   "execution_count": 18,
   "id": "c8e64a8b-3c0a-475d-aba2-4631ff560ffe",
   "metadata": {},
   "outputs": [],
   "source": [
    "# write_feather(df_use, '../data/multielectrode_data.fea')"
   ]
  },
  {
   "cell_type": "code",
   "execution_count": 19,
   "id": "a1b0df15-d156-43d0-91d6-eaa3df511756",
   "metadata": {},
   "outputs": [],
   "source": [
    "# write_feather(df, '../data/multielectrode_data_all.fea')"
   ]
  },
  {
   "cell_type": "code",
   "execution_count": null,
   "id": "e11bb264-7fcc-450d-a9fd-16bfd10f0cdf",
   "metadata": {},
   "outputs": [],
   "source": []
  }
 ],
 "metadata": {
  "kernelspec": {
   "display_name": "Python 3 (ipykernel)",
   "language": "python",
   "name": "python3"
  },
  "language_info": {
   "codemirror_mode": {
    "name": "ipython",
    "version": 3
   },
   "file_extension": ".py",
   "mimetype": "text/x-python",
   "name": "python",
   "nbconvert_exporter": "python",
   "pygments_lexer": "ipython3",
   "version": "3.9.7"
  }
 },
 "nbformat": 4,
 "nbformat_minor": 5
}
