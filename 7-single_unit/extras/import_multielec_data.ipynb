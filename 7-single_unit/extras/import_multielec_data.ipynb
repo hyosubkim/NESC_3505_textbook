{
 "cells": [
  {
   "cell_type": "markdown",
   "metadata": {},
   "source": [
    "# Importing Multielectrode Data\n",
    "\n",
    "\n",
    "The data file used in this tutorial is freely available from [the companion website](https://www.elsevier.com/books-and-journals/book-companion/9780128040430/chapter-files#Chapter%20Files) for the book,  Nylen, E.L., and Wallisch, P.. (2017). [*Neural Data Science*](https://www.sciencedirect.com/book/9780128040430/neural-data-science). Academic Press. \n",
    "\n",
    "The code provided here, along with the explanatory test, was written by Aaron J. Newman. "
   ]
  },
  {
   "cell_type": "markdown",
   "metadata": {},
   "source": [
    "## Import packages"
   ]
  },
  {
   "cell_type": "code",
   "execution_count": 1,
   "metadata": {},
   "outputs": [],
   "source": [
    "import scipy.io\n",
    "from collections import defaultdict\n",
    "import numpy as np"
   ]
  },
  {
   "cell_type": "markdown",
   "metadata": {},
   "source": [
    "## Set variables\n",
    "\n",
    "We hard-code some known properties of the experiment so that we can easily use these values later. It's good practice only to code those things that you know you can't read from the data. For example, we should be able to derive the number of trials, number of channels (electrodes), etc. from the data, so we won't hard-code those. This makes the code more robust — for example if we had data from other animals that used a microarray with a different number of channels, or ran fewer trials, etc..\n"
   ]
  },
  {
   "cell_type": "code",
   "execution_count": 2,
   "metadata": {},
   "outputs": [],
   "source": [
    "noise_codes = [0, 255] # explained later\n",
    "\n",
    "# time_base is used to define x axis in plots over time. We know that the trials went from \n",
    "#   150 ms pre-stimulus to 2000 ms post-stimulus onset. Here we specify a wider range, \n",
    "#   from -200 to 2500 ms (in 10 ms increments), to provide some padding.\n",
    "time_base = np.arange(-.2, 2.5, .01) \n",
    "\n",
    "# times the stimulus went on and off\n",
    "grating_on_time  = 0\n",
    "grating_off_time = 2"
   ]
  },
  {
   "cell_type": "markdown",
   "metadata": {},
   "source": [
    "## Import the data\n",
    "\n",
    "The data are stored in a Matlab file, which has the extension `.mat`. The `scipy` package has a function that reads Matlab files into Python. Our first adventure will be deciphering how the data were stored in the Matlab file, which is much more complex than a typical CSV or other tabular-type format."
   ]
  },
  {
   "cell_type": "code",
   "execution_count": 3,
   "metadata": {},
   "outputs": [],
   "source": [
    "data_in = scipy.io.loadmat('arrayDATA.mat')"
   ]
  },
  {
   "cell_type": "markdown",
   "metadata": {},
   "source": [
    "## Data structure\n",
    "According to the book, DATA contains 2300 rows with two fields (note: \"fields\" not columns; this is a complex data structure): `nev` and `ori`. Each row represents a trial; `nev` is a matrix for each trial that represents the spiking information, and `ori` is the orientation of the stimulus for each trial (0 or 90 deg). \n",
    "\n",
    "Rows in each `nev` matrix represent individual spikes per trial, one for each spike. Column 1 encodes which electrode the spike was recorded on, column 2 is a sort code, and column 3 is the time since the beginning of the trial. So, like the \"ten intensities\" data in the previous lesson, the data record the times of individual spikes, rather than providing a time series with 1s when spikes occurred, and 0s otherwise.\n",
    "\n",
    "`Sort code` is a number from 0-255, indicating which neuron a spike was inferred to have come from (based on spike sorting, which was already performed on the data). Sort codes 0 and 255 are for noise (hence our defining `noise_codes` above); all other sort codes are valid neurons. However, in this data set the only other sort codes are the numbers 1-4, which is somewhat puzzling and not explained; one might expect more than 4 neurons. Indeed, for our purposes we will look at the activity, and correlations between, the channels (electrodes) in the microarray rather than using sort codes."
   ]
  },
  {
   "cell_type": "markdown",
   "metadata": {},
   "source": [
    "Although all the answers are provided for you here, this section takes you on the typical journey a data scientist might embark upon when working with a new dataset, where the format is not fully documented. Our first question is what type the data is:"
   ]
  },
  {
   "cell_type": "code",
   "execution_count": 4,
   "metadata": {},
   "outputs": [
    {
     "data": {
      "text/plain": [
       "dict"
      ]
     },
     "execution_count": 4,
     "metadata": {},
     "output_type": "execute_result"
    }
   ],
   "source": [
    "type(data_in)"
   ]
  },
  {
   "cell_type": "markdown",
   "metadata": {},
   "source": [
    "Now let's display the dictionary:"
   ]
  },
  {
   "cell_type": "code",
   "execution_count": 5,
   "metadata": {
    "scrolled": true,
    "tags": [
     "output_scroll"
    ]
   },
   "outputs": [
    {
     "data": {
      "text/plain": [
       "{'__header__': b'MATLAB 5.0 MAT-file, Platform: PCWIN64, Created on: Thu Jun 16 15:54:00 2016',\n",
       " '__version__': '1.0',\n",
       " '__globals__': [],\n",
       " 'DATA': array([[(array([[ 20.   ,   1.   ,   0.624],\n",
       "        [ 20.   ,   1.   ,   0.63 ],\n",
       "        [ 20.   ,   3.   ,   0.652],\n",
       "        [ 20.   ,   3.   ,   0.659],\n",
       "        [ 20.   , 255.   ,   0.686],\n",
       "        [ 20.   ,   1.   ,   0.689],\n",
       "        [ 20.   ,   1.   ,   0.711],\n",
       "        [ 20.   , 255.   ,   0.731],\n",
       "        [ 20.   ,   3.   ,   0.742],\n",
       "        [ 20.   ,   3.   ,   0.757],\n",
       "        [ 20.   ,   2.   ,   0.764],\n",
       "        [ 20.   ,   4.   ,   0.779],\n",
       "        [ 20.   ,   2.   ,   0.786],\n",
       "        [ 20.   ,   3.   ,   0.812],\n",
       "        [ 20.   ,   1.   ,   0.826],\n",
       "        [ 20.   ,   3.   ,   0.848],\n",
       "        [ 20.   , 255.   ,   0.857],\n",
       "        [ 20.   ,   4.   ,   0.866],\n",
       "        [ 20.   ,   1.   ,   0.872],\n",
       "        [ 20.   ,   3.   ,   0.883],\n",
       "        [ 20.   ,   3.   ,   0.898],\n",
       "        [ 20.   ,   4.   ,   0.909],\n",
       "        [ 20.   , 255.   ,   0.926],\n",
       "        [ 20.   ,   3.   ,   0.951],\n",
       "        [ 20.   ,   1.   ,   0.968],\n",
       "        [ 20.   , 255.   ,   0.981],\n",
       "        [ 20.   , 255.   ,   0.992],\n",
       "        [ 20.   , 255.   ,   0.996],\n",
       "        [ 20.   , 255.   ,   1.005],\n",
       "        [ 20.   ,   1.   ,   1.019],\n",
       "        [ 20.   ,   1.   ,   1.026],\n",
       "        [ 20.   ,   1.   ,   1.034],\n",
       "        [ 20.   ,   1.   ,   1.067],\n",
       "        [ 20.   , 255.   ,   1.079],\n",
       "        [ 20.   , 255.   ,   1.098],\n",
       "        [ 20.   ,   1.   ,   1.108],\n",
       "        [ 20.   , 255.   ,   1.117],\n",
       "        [ 20.   ,   1.   ,   1.13 ],\n",
       "        [ 20.   ,   1.   ,   1.179],\n",
       "        [ 20.   ,   1.   ,   1.191],\n",
       "        [ 20.   ,   1.   ,   1.201],\n",
       "        [ 20.   ,   1.   ,   1.205],\n",
       "        [ 20.   ,   1.   ,   1.209],\n",
       "        [ 20.   , 255.   ,   1.214],\n",
       "        [ 20.   ,   1.   ,   1.225],\n",
       "        [ 20.   ,   1.   ,   1.254],\n",
       "        [ 20.   ,   1.   ,   1.259],\n",
       "        [ 20.   ,   1.   ,   1.272],\n",
       "        [ 20.   ,   1.   ,   1.277],\n",
       "        [ 20.   ,   1.   ,   1.289],\n",
       "        [ 20.   ,   1.   ,   1.297],\n",
       "        [ 20.   , 255.   ,   1.303],\n",
       "        [ 20.   ,   1.   ,   1.328],\n",
       "        [ 20.   ,   1.   ,   1.334],\n",
       "        [ 20.   ,   1.   ,   1.35 ],\n",
       "        [ 20.   ,   1.   ,   1.364],\n",
       "        [ 20.   ,   1.   ,   1.377],\n",
       "        [ 20.   ,   1.   ,   1.402],\n",
       "        [ 20.   , 255.   ,   1.415],\n",
       "        [ 20.   ,   1.   ,   1.427],\n",
       "        [ 20.   ,   1.   ,   1.45 ],\n",
       "        [ 20.   , 255.   ,   1.47 ],\n",
       "        [ 20.   , 255.   ,   1.473],\n",
       "        [ 20.   ,   1.   ,   1.489],\n",
       "        [ 20.   , 255.   ,   1.506],\n",
       "        [ 20.   ,   1.   ,   1.512],\n",
       "        [ 20.   , 255.   ,   1.518],\n",
       "        [ 20.   ,   1.   ,   1.533],\n",
       "        [ 20.   ,   1.   ,   1.553],\n",
       "        [ 20.   , 255.   ,   1.568],\n",
       "        [ 20.   ,   1.   ,   1.591],\n",
       "        [ 20.   ,   1.   ,   1.6  ],\n",
       "        [ 20.   ,   1.   ,   1.605],\n",
       "        [ 20.   , 255.   ,   1.61 ],\n",
       "        [ 20.   ,   1.   ,   1.616],\n",
       "        [ 20.   ,   1.   ,   1.66 ],\n",
       "        [ 20.   ,   1.   ,   1.667],\n",
       "        [ 20.   ,   1.   ,   1.682],\n",
       "        [ 20.   , 255.   ,   1.689],\n",
       "        [ 20.   ,   1.   ,   1.719],\n",
       "        [ 20.   ,   1.   ,   1.729],\n",
       "        [ 20.   ,   1.   ,   1.744],\n",
       "        [ 20.   , 255.   ,   1.75 ],\n",
       "        [ 20.   ,   1.   ,   1.788],\n",
       "        [ 20.   ,   1.   ,   1.816],\n",
       "        [ 20.   ,   1.   ,   1.834],\n",
       "        [ 20.   ,   1.   ,   1.848],\n",
       "        [ 20.   ,   1.   ,   1.875],\n",
       "        [ 20.   ,   1.   ,   1.896],\n",
       "        [ 20.   ,   1.   ,   1.904],\n",
       "        [ 20.   ,   1.   ,   1.911],\n",
       "        [ 20.   ,   1.   ,   1.913],\n",
       "        [ 20.   ,   3.   ,   1.928],\n",
       "        [ 20.   ,   3.   ,   1.954],\n",
       "        [ 20.   ,   1.   ,   1.961],\n",
       "        [ 20.   ,   1.   ,   1.968],\n",
       "        [ 20.   ,   3.   ,   1.974],\n",
       "        [ 20.   ,   3.   ,   1.98 ],\n",
       "        [ 20.   ,   1.   ,   1.996],\n",
       "        [ 20.   ,   3.   ,   2.024],\n",
       "        [ 42.   ,   1.   ,   2.425],\n",
       "        [ 42.   ,   1.   ,   2.452],\n",
       "        [ 42.   ,   1.   ,   2.483],\n",
       "        [ 42.   ,   1.   ,   2.515],\n",
       "        [ 42.   ,   1.   ,   2.545],\n",
       "        [ 42.   ,   1.   ,   2.727],\n",
       "        [ 42.   ,   1.   ,   2.771],\n",
       "        [ 42.   ,   1.   ,   2.774],\n",
       "        [ 42.   ,   1.   ,   2.782],\n",
       "        [ 42.   ,   1.   ,   2.802],\n",
       "        [ 42.   ,   1.   ,   2.852],\n",
       "        [ 42.   ,   1.   ,   2.862],\n",
       "        [ 72.   ,   1.   ,   0.478],\n",
       "        [ 72.   ,   1.   ,   0.551],\n",
       "        [ 72.   ,   1.   ,   0.56 ],\n",
       "        [ 72.   ,   1.   ,   0.583],\n",
       "        [ 72.   ,   1.   ,   0.592],\n",
       "        [ 72.   ,   1.   ,   0.616],\n",
       "        [ 72.   ,   1.   ,   0.634],\n",
       "        [ 72.   ,   1.   ,   0.637],\n",
       "        [ 72.   ,   1.   ,   0.64 ],\n",
       "        [ 72.   ,   1.   ,   0.644],\n",
       "        [ 72.   ,   1.   ,   0.666],\n",
       "        [ 72.   ,   1.   ,   0.689],\n",
       "        [ 72.   ,   1.   ,   0.76 ],\n",
       "        [ 72.   ,   1.   ,   0.78 ],\n",
       "        [ 72.   ,   1.   ,   0.794],\n",
       "        [ 72.   ,   1.   ,   0.798],\n",
       "        [ 72.   ,   1.   ,   0.871],\n",
       "        [ 72.   ,   1.   ,   0.907],\n",
       "        [ 72.   ,   1.   ,   0.927],\n",
       "        [ 72.   ,   1.   ,   0.968],\n",
       "        [ 72.   ,   1.   ,   0.975],\n",
       "        [ 72.   ,   1.   ,   1.02 ],\n",
       "        [ 72.   ,   1.   ,   1.061],\n",
       "        [ 72.   ,   1.   ,   1.069],\n",
       "        [ 72.   ,   1.   ,   1.128],\n",
       "        [ 72.   ,   1.   ,   1.157],\n",
       "        [ 72.   ,   1.   ,   1.181],\n",
       "        [ 72.   ,   1.   ,   1.187],\n",
       "        [ 72.   ,   1.   ,   1.224],\n",
       "        [ 72.   ,   1.   ,   1.232],\n",
       "        [ 72.   ,   1.   ,   1.281],\n",
       "        [ 72.   ,   1.   ,   1.293],\n",
       "        [ 72.   ,   1.   ,   1.303],\n",
       "        [ 72.   ,   1.   ,   1.305],\n",
       "        [ 72.   ,   1.   ,   1.345],\n",
       "        [ 72.   ,   1.   ,   1.37 ],\n",
       "        [ 72.   ,   1.   ,   1.406],\n",
       "        [ 72.   ,   1.   ,   1.414],\n",
       "        [ 72.   ,   1.   ,   1.438],\n",
       "        [ 72.   ,   1.   ,   1.451],\n",
       "        [ 72.   ,   1.   ,   1.479],\n",
       "        [ 72.   ,   1.   ,   1.485],\n",
       "        [ 72.   ,   1.   ,   1.506],\n",
       "        [ 72.   ,   1.   ,   1.522],\n",
       "        [ 72.   ,   1.   ,   1.556],\n",
       "        [ 72.   , 255.   ,   1.56 ],\n",
       "        [ 72.   ,   1.   ,   1.566],\n",
       "        [ 72.   , 255.   ,   1.576],\n",
       "        [ 72.   , 255.   ,   1.586],\n",
       "        [ 72.   ,   1.   ,   1.603],\n",
       "        [ 72.   ,   1.   ,   1.617],\n",
       "        [ 72.   ,   1.   ,   1.626],\n",
       "        [ 72.   ,   1.   ,   1.659],\n",
       "        [ 72.   ,   1.   ,   1.694],\n",
       "        [ 72.   ,   1.   ,   1.712],\n",
       "        [ 72.   ,   1.   ,   1.73 ],\n",
       "        [ 72.   ,   1.   ,   1.743],\n",
       "        [ 72.   ,   1.   ,   1.785],\n",
       "        [ 72.   ,   1.   ,   1.8  ],\n",
       "        [ 72.   ,   1.   ,   1.814],\n",
       "        [ 72.   ,   1.   ,   1.84 ],\n",
       "        [ 72.   , 255.   ,   1.868],\n",
       "        [ 72.   ,   1.   ,   1.889],\n",
       "        [ 72.   ,   1.   ,   1.903],\n",
       "        [ 72.   , 255.   ,   1.975],\n",
       "        [ 72.   ,   1.   ,   1.982],\n",
       "        [ 72.   ,   1.   ,   2.003],\n",
       "        [ 72.   ,   1.   ,   2.052],\n",
       "        [ 72.   ,   1.   ,   2.066],\n",
       "        [ 72.   ,   1.   ,   2.107],\n",
       "        [ 72.   ,   1.   ,   2.116],\n",
       "        [ 72.   ,   1.   ,   2.151],\n",
       "        [ 72.   ,   1.   ,   2.22 ],\n",
       "        [ 72.   ,   1.   ,   2.29 ],\n",
       "        [ 72.   ,   1.   ,   2.378],\n",
       "        [ 72.   ,   1.   ,   2.472],\n",
       "        [ 72.   ,   1.   ,   2.488],\n",
       "        [ 72.   ,   1.   ,   2.506],\n",
       "        [ 72.   ,   1.   ,   2.627],\n",
       "        [ 72.   ,   1.   ,   2.643],\n",
       "        [ 72.   ,   1.   ,   2.752],\n",
       "        [ 72.   ,   1.   ,   2.762],\n",
       "        [ 72.   ,   1.   ,   2.772],\n",
       "        [ 72.   , 255.   ,   2.775],\n",
       "        [ 20.   ,   3.   ,   2.039],\n",
       "        [ 20.   ,   3.   ,   2.047],\n",
       "        [ 20.   ,   1.   ,   2.053],\n",
       "        [ 20.   ,   3.   ,   2.064],\n",
       "        [ 20.   ,   1.   ,   2.114],\n",
       "        [ 20.   , 255.   ,   2.253],\n",
       "        [ 20.   ,   3.   ,   2.257],\n",
       "        [ 20.   ,   1.   ,   2.279],\n",
       "        [ 20.   , 255.   ,   2.689],\n",
       "        [ 20.   , 255.   ,   2.845],\n",
       "        [ 20.   ,   1.   ,   2.854]], dtype=float32), array([[90.]], dtype=float32))],\n",
       "        [(array([[ 7.800e+01,  0.000e+00, -1.080e-01],\n",
       "        [ 9.400e+01,  1.000e+00, -1.090e-01],\n",
       "        [ 3.500e+01,  2.550e+02, -1.050e-01],\n",
       "        ...,\n",
       "        [ 1.900e+01,  1.000e+00,  2.614e+00],\n",
       "        [ 2.200e+01,  1.000e+00,  2.618e+00],\n",
       "        [ 8.000e+00,  1.000e+00,  2.620e+00]], dtype=float32), array([[0.]], dtype=float32))],\n",
       "        [(array([[22.   ,  1.   , -0.345],\n",
       "        [36.   ,  1.   , -0.344],\n",
       "        [78.   ,  1.   , -0.341],\n",
       "        ...,\n",
       "        [22.   ,  1.   ,  2.643],\n",
       "        [38.   ,  2.   ,  2.65 ],\n",
       "        [78.   ,  1.   ,  2.65 ]], dtype=float32), array([[0.]], dtype=float32))],\n",
       "        ...,\n",
       "        [(array([[ 80.   ,   1.   ,  -0.435],\n",
       "        [ 84.   , 255.   ,  -0.428],\n",
       "        [ 84.   ,   1.   ,  -0.424],\n",
       "        ...,\n",
       "        [ 39.   ,   1.   ,   2.606],\n",
       "        [ 75.   ,   1.   ,   2.609],\n",
       "        [ 60.   ,   1.   ,   2.616]], dtype=float32), array([[0.]], dtype=float32))],\n",
       "        [(array([[ 75.   ,   0.   ,  -0.5  ],\n",
       "        [ 72.   ,   1.   ,  -0.496],\n",
       "        [ 71.   ,   1.   ,  -0.495],\n",
       "        ...,\n",
       "        [ 14.   , 255.   ,   2.617],\n",
       "        [ 19.   ,   1.   ,   2.629],\n",
       "        [ 42.   ,   1.   ,   2.63 ]], dtype=float32), array([[90.]], dtype=float32))],\n",
       "        [(array([[ 35.   ,   1.   ,  -0.5  ],\n",
       "        [  1.   , 255.   ,  -0.499],\n",
       "        [ 49.   ,   1.   ,  -0.499],\n",
       "        ...,\n",
       "        [ 18.   ,   1.   ,   2.634],\n",
       "        [ 60.   ,   1.   ,   2.636],\n",
       "        [ 42.   ,   1.   ,   2.638]], dtype=float32), array([[0.]], dtype=float32))]],\n",
       "       dtype=[('nev', 'O'), ('ori', 'O')])}"
      ]
     },
     "execution_count": 5,
     "metadata": {},
     "output_type": "execute_result"
    }
   ],
   "source": [
    "data_in"
   ]
  },
  {
   "cell_type": "markdown",
   "metadata": {},
   "source": [
    "Whoa, that looks complex! But we can see that the dictionary has only a few keys. The first three are information about the file (meta-data), while the fourth, `DATA`, appears to be our data. We can see that this is a numpy array, which we can confirm by asking its type:"
   ]
  },
  {
   "cell_type": "code",
   "execution_count": 6,
   "metadata": {},
   "outputs": [
    {
     "data": {
      "text/plain": [
       "numpy.ndarray"
      ]
     },
     "execution_count": 6,
     "metadata": {},
     "output_type": "execute_result"
    }
   ],
   "source": [
    "type(data_in['DATA'])"
   ]
  },
  {
   "cell_type": "markdown",
   "metadata": {},
   "source": [
    "Next let's get the shape of the data array:"
   ]
  },
  {
   "cell_type": "code",
   "execution_count": 7,
   "metadata": {},
   "outputs": [
    {
     "data": {
      "text/plain": [
       "(2300, 1)"
      ]
     },
     "execution_count": 7,
     "metadata": {},
     "output_type": "execute_result"
    }
   ],
   "source": [
    "data_in['DATA'].shape"
   ]
  },
  {
   "cell_type": "markdown",
   "metadata": {},
   "source": [
    "OK, this makes some sense since we know that the experiment comprised 2300 trials, and its consistent with the documentation in the book that DATA contains 2300 rows. So there is one row per trial in the DATA array, and each row is only one column. However, that one column actually contains an embedded array; note above that the first row of DATA is:\n",
    "\n",
    "` 'DATA': array([[(array([[ 20.   ,   1.   ,   0.624],`\n",
    "\n",
    "We know that numpy arrays are represented as square brackets within parentheses, as such: `array([])`. The fact that here we see `array([[(array([[` suggests that we have arrays embedded inside other arrays. It will take some digging to figure this out!"
   ]
  },
  {
   "cell_type": "code",
   "execution_count": 8,
   "metadata": {},
   "outputs": [
    {
     "data": {
      "text/plain": [
       "(1,)"
      ]
     },
     "execution_count": 8,
     "metadata": {},
     "output_type": "execute_result"
    }
   ],
   "source": [
    "data_in['DATA'][0].shape"
   ]
  },
  {
   "cell_type": "markdown",
   "metadata": {},
   "source": [
    "Just one thing? So what's in that np array?"
   ]
  },
  {
   "cell_type": "code",
   "execution_count": 9,
   "metadata": {
    "scrolled": true,
    "tags": [
     "output_scroll"
    ]
   },
   "outputs": [
    {
     "data": {
      "text/plain": [
       "array([(array([[ 20.   ,   1.   ,   0.624],\n",
       "       [ 20.   ,   1.   ,   0.63 ],\n",
       "       [ 20.   ,   3.   ,   0.652],\n",
       "       [ 20.   ,   3.   ,   0.659],\n",
       "       [ 20.   , 255.   ,   0.686],\n",
       "       [ 20.   ,   1.   ,   0.689],\n",
       "       [ 20.   ,   1.   ,   0.711],\n",
       "       [ 20.   , 255.   ,   0.731],\n",
       "       [ 20.   ,   3.   ,   0.742],\n",
       "       [ 20.   ,   3.   ,   0.757],\n",
       "       [ 20.   ,   2.   ,   0.764],\n",
       "       [ 20.   ,   4.   ,   0.779],\n",
       "       [ 20.   ,   2.   ,   0.786],\n",
       "       [ 20.   ,   3.   ,   0.812],\n",
       "       [ 20.   ,   1.   ,   0.826],\n",
       "       [ 20.   ,   3.   ,   0.848],\n",
       "       [ 20.   , 255.   ,   0.857],\n",
       "       [ 20.   ,   4.   ,   0.866],\n",
       "       [ 20.   ,   1.   ,   0.872],\n",
       "       [ 20.   ,   3.   ,   0.883],\n",
       "       [ 20.   ,   3.   ,   0.898],\n",
       "       [ 20.   ,   4.   ,   0.909],\n",
       "       [ 20.   , 255.   ,   0.926],\n",
       "       [ 20.   ,   3.   ,   0.951],\n",
       "       [ 20.   ,   1.   ,   0.968],\n",
       "       [ 20.   , 255.   ,   0.981],\n",
       "       [ 20.   , 255.   ,   0.992],\n",
       "       [ 20.   , 255.   ,   0.996],\n",
       "       [ 20.   , 255.   ,   1.005],\n",
       "       [ 20.   ,   1.   ,   1.019],\n",
       "       [ 20.   ,   1.   ,   1.026],\n",
       "       [ 20.   ,   1.   ,   1.034],\n",
       "       [ 20.   ,   1.   ,   1.067],\n",
       "       [ 20.   , 255.   ,   1.079],\n",
       "       [ 20.   , 255.   ,   1.098],\n",
       "       [ 20.   ,   1.   ,   1.108],\n",
       "       [ 20.   , 255.   ,   1.117],\n",
       "       [ 20.   ,   1.   ,   1.13 ],\n",
       "       [ 20.   ,   1.   ,   1.179],\n",
       "       [ 20.   ,   1.   ,   1.191],\n",
       "       [ 20.   ,   1.   ,   1.201],\n",
       "       [ 20.   ,   1.   ,   1.205],\n",
       "       [ 20.   ,   1.   ,   1.209],\n",
       "       [ 20.   , 255.   ,   1.214],\n",
       "       [ 20.   ,   1.   ,   1.225],\n",
       "       [ 20.   ,   1.   ,   1.254],\n",
       "       [ 20.   ,   1.   ,   1.259],\n",
       "       [ 20.   ,   1.   ,   1.272],\n",
       "       [ 20.   ,   1.   ,   1.277],\n",
       "       [ 20.   ,   1.   ,   1.289],\n",
       "       [ 20.   ,   1.   ,   1.297],\n",
       "       [ 20.   , 255.   ,   1.303],\n",
       "       [ 20.   ,   1.   ,   1.328],\n",
       "       [ 20.   ,   1.   ,   1.334],\n",
       "       [ 20.   ,   1.   ,   1.35 ],\n",
       "       [ 20.   ,   1.   ,   1.364],\n",
       "       [ 20.   ,   1.   ,   1.377],\n",
       "       [ 20.   ,   1.   ,   1.402],\n",
       "       [ 20.   , 255.   ,   1.415],\n",
       "       [ 20.   ,   1.   ,   1.427],\n",
       "       [ 20.   ,   1.   ,   1.45 ],\n",
       "       [ 20.   , 255.   ,   1.47 ],\n",
       "       [ 20.   , 255.   ,   1.473],\n",
       "       [ 20.   ,   1.   ,   1.489],\n",
       "       [ 20.   , 255.   ,   1.506],\n",
       "       [ 20.   ,   1.   ,   1.512],\n",
       "       [ 20.   , 255.   ,   1.518],\n",
       "       [ 20.   ,   1.   ,   1.533],\n",
       "       [ 20.   ,   1.   ,   1.553],\n",
       "       [ 20.   , 255.   ,   1.568],\n",
       "       [ 20.   ,   1.   ,   1.591],\n",
       "       [ 20.   ,   1.   ,   1.6  ],\n",
       "       [ 20.   ,   1.   ,   1.605],\n",
       "       [ 20.   , 255.   ,   1.61 ],\n",
       "       [ 20.   ,   1.   ,   1.616],\n",
       "       [ 20.   ,   1.   ,   1.66 ],\n",
       "       [ 20.   ,   1.   ,   1.667],\n",
       "       [ 20.   ,   1.   ,   1.682],\n",
       "       [ 20.   , 255.   ,   1.689],\n",
       "       [ 20.   ,   1.   ,   1.719],\n",
       "       [ 20.   ,   1.   ,   1.729],\n",
       "       [ 20.   ,   1.   ,   1.744],\n",
       "       [ 20.   , 255.   ,   1.75 ],\n",
       "       [ 20.   ,   1.   ,   1.788],\n",
       "       [ 20.   ,   1.   ,   1.816],\n",
       "       [ 20.   ,   1.   ,   1.834],\n",
       "       [ 20.   ,   1.   ,   1.848],\n",
       "       [ 20.   ,   1.   ,   1.875],\n",
       "       [ 20.   ,   1.   ,   1.896],\n",
       "       [ 20.   ,   1.   ,   1.904],\n",
       "       [ 20.   ,   1.   ,   1.911],\n",
       "       [ 20.   ,   1.   ,   1.913],\n",
       "       [ 20.   ,   3.   ,   1.928],\n",
       "       [ 20.   ,   3.   ,   1.954],\n",
       "       [ 20.   ,   1.   ,   1.961],\n",
       "       [ 20.   ,   1.   ,   1.968],\n",
       "       [ 20.   ,   3.   ,   1.974],\n",
       "       [ 20.   ,   3.   ,   1.98 ],\n",
       "       [ 20.   ,   1.   ,   1.996],\n",
       "       [ 20.   ,   3.   ,   2.024],\n",
       "       [ 42.   ,   1.   ,   2.425],\n",
       "       [ 42.   ,   1.   ,   2.452],\n",
       "       [ 42.   ,   1.   ,   2.483],\n",
       "       [ 42.   ,   1.   ,   2.515],\n",
       "       [ 42.   ,   1.   ,   2.545],\n",
       "       [ 42.   ,   1.   ,   2.727],\n",
       "       [ 42.   ,   1.   ,   2.771],\n",
       "       [ 42.   ,   1.   ,   2.774],\n",
       "       [ 42.   ,   1.   ,   2.782],\n",
       "       [ 42.   ,   1.   ,   2.802],\n",
       "       [ 42.   ,   1.   ,   2.852],\n",
       "       [ 42.   ,   1.   ,   2.862],\n",
       "       [ 72.   ,   1.   ,   0.478],\n",
       "       [ 72.   ,   1.   ,   0.551],\n",
       "       [ 72.   ,   1.   ,   0.56 ],\n",
       "       [ 72.   ,   1.   ,   0.583],\n",
       "       [ 72.   ,   1.   ,   0.592],\n",
       "       [ 72.   ,   1.   ,   0.616],\n",
       "       [ 72.   ,   1.   ,   0.634],\n",
       "       [ 72.   ,   1.   ,   0.637],\n",
       "       [ 72.   ,   1.   ,   0.64 ],\n",
       "       [ 72.   ,   1.   ,   0.644],\n",
       "       [ 72.   ,   1.   ,   0.666],\n",
       "       [ 72.   ,   1.   ,   0.689],\n",
       "       [ 72.   ,   1.   ,   0.76 ],\n",
       "       [ 72.   ,   1.   ,   0.78 ],\n",
       "       [ 72.   ,   1.   ,   0.794],\n",
       "       [ 72.   ,   1.   ,   0.798],\n",
       "       [ 72.   ,   1.   ,   0.871],\n",
       "       [ 72.   ,   1.   ,   0.907],\n",
       "       [ 72.   ,   1.   ,   0.927],\n",
       "       [ 72.   ,   1.   ,   0.968],\n",
       "       [ 72.   ,   1.   ,   0.975],\n",
       "       [ 72.   ,   1.   ,   1.02 ],\n",
       "       [ 72.   ,   1.   ,   1.061],\n",
       "       [ 72.   ,   1.   ,   1.069],\n",
       "       [ 72.   ,   1.   ,   1.128],\n",
       "       [ 72.   ,   1.   ,   1.157],\n",
       "       [ 72.   ,   1.   ,   1.181],\n",
       "       [ 72.   ,   1.   ,   1.187],\n",
       "       [ 72.   ,   1.   ,   1.224],\n",
       "       [ 72.   ,   1.   ,   1.232],\n",
       "       [ 72.   ,   1.   ,   1.281],\n",
       "       [ 72.   ,   1.   ,   1.293],\n",
       "       [ 72.   ,   1.   ,   1.303],\n",
       "       [ 72.   ,   1.   ,   1.305],\n",
       "       [ 72.   ,   1.   ,   1.345],\n",
       "       [ 72.   ,   1.   ,   1.37 ],\n",
       "       [ 72.   ,   1.   ,   1.406],\n",
       "       [ 72.   ,   1.   ,   1.414],\n",
       "       [ 72.   ,   1.   ,   1.438],\n",
       "       [ 72.   ,   1.   ,   1.451],\n",
       "       [ 72.   ,   1.   ,   1.479],\n",
       "       [ 72.   ,   1.   ,   1.485],\n",
       "       [ 72.   ,   1.   ,   1.506],\n",
       "       [ 72.   ,   1.   ,   1.522],\n",
       "       [ 72.   ,   1.   ,   1.556],\n",
       "       [ 72.   , 255.   ,   1.56 ],\n",
       "       [ 72.   ,   1.   ,   1.566],\n",
       "       [ 72.   , 255.   ,   1.576],\n",
       "       [ 72.   , 255.   ,   1.586],\n",
       "       [ 72.   ,   1.   ,   1.603],\n",
       "       [ 72.   ,   1.   ,   1.617],\n",
       "       [ 72.   ,   1.   ,   1.626],\n",
       "       [ 72.   ,   1.   ,   1.659],\n",
       "       [ 72.   ,   1.   ,   1.694],\n",
       "       [ 72.   ,   1.   ,   1.712],\n",
       "       [ 72.   ,   1.   ,   1.73 ],\n",
       "       [ 72.   ,   1.   ,   1.743],\n",
       "       [ 72.   ,   1.   ,   1.785],\n",
       "       [ 72.   ,   1.   ,   1.8  ],\n",
       "       [ 72.   ,   1.   ,   1.814],\n",
       "       [ 72.   ,   1.   ,   1.84 ],\n",
       "       [ 72.   , 255.   ,   1.868],\n",
       "       [ 72.   ,   1.   ,   1.889],\n",
       "       [ 72.   ,   1.   ,   1.903],\n",
       "       [ 72.   , 255.   ,   1.975],\n",
       "       [ 72.   ,   1.   ,   1.982],\n",
       "       [ 72.   ,   1.   ,   2.003],\n",
       "       [ 72.   ,   1.   ,   2.052],\n",
       "       [ 72.   ,   1.   ,   2.066],\n",
       "       [ 72.   ,   1.   ,   2.107],\n",
       "       [ 72.   ,   1.   ,   2.116],\n",
       "       [ 72.   ,   1.   ,   2.151],\n",
       "       [ 72.   ,   1.   ,   2.22 ],\n",
       "       [ 72.   ,   1.   ,   2.29 ],\n",
       "       [ 72.   ,   1.   ,   2.378],\n",
       "       [ 72.   ,   1.   ,   2.472],\n",
       "       [ 72.   ,   1.   ,   2.488],\n",
       "       [ 72.   ,   1.   ,   2.506],\n",
       "       [ 72.   ,   1.   ,   2.627],\n",
       "       [ 72.   ,   1.   ,   2.643],\n",
       "       [ 72.   ,   1.   ,   2.752],\n",
       "       [ 72.   ,   1.   ,   2.762],\n",
       "       [ 72.   ,   1.   ,   2.772],\n",
       "       [ 72.   , 255.   ,   2.775],\n",
       "       [ 20.   ,   3.   ,   2.039],\n",
       "       [ 20.   ,   3.   ,   2.047],\n",
       "       [ 20.   ,   1.   ,   2.053],\n",
       "       [ 20.   ,   3.   ,   2.064],\n",
       "       [ 20.   ,   1.   ,   2.114],\n",
       "       [ 20.   , 255.   ,   2.253],\n",
       "       [ 20.   ,   3.   ,   2.257],\n",
       "       [ 20.   ,   1.   ,   2.279],\n",
       "       [ 20.   , 255.   ,   2.689],\n",
       "       [ 20.   , 255.   ,   2.845],\n",
       "       [ 20.   ,   1.   ,   2.854]], dtype=float32), array([[90.]], dtype=float32))],\n",
       "      dtype=[('nev', 'O'), ('ori', 'O')])"
      ]
     },
     "execution_count": 9,
     "metadata": {},
     "output_type": "execute_result"
    }
   ],
   "source": [
    "data_in['DATA'][0]"
   ]
  },
  {
   "cell_type": "markdown",
   "metadata": {},
   "source": [
    "Hmm, `array([(array([[ ` tells us there's a numpy array inside the numpy array. The fact that the embedded array appears as `array([[ ` with two open square brackets tells us that the embedded array itself contains multiple entries. So, what's the first entry in the embedded array? As you can see below, we use a sequence of numbers in square brackets to index increasingly-deep levels of the data structure:"
   ]
  },
  {
   "cell_type": "code",
   "execution_count": 10,
   "metadata": {
    "scrolled": true,
    "tags": [
     "output_scroll"
    ]
   },
   "outputs": [
    {
     "data": {
      "text/plain": [
       "(array([[ 20.   ,   1.   ,   0.624],\n",
       "       [ 20.   ,   1.   ,   0.63 ],\n",
       "       [ 20.   ,   3.   ,   0.652],\n",
       "       [ 20.   ,   3.   ,   0.659],\n",
       "       [ 20.   , 255.   ,   0.686],\n",
       "       [ 20.   ,   1.   ,   0.689],\n",
       "       [ 20.   ,   1.   ,   0.711],\n",
       "       [ 20.   , 255.   ,   0.731],\n",
       "       [ 20.   ,   3.   ,   0.742],\n",
       "       [ 20.   ,   3.   ,   0.757],\n",
       "       [ 20.   ,   2.   ,   0.764],\n",
       "       [ 20.   ,   4.   ,   0.779],\n",
       "       [ 20.   ,   2.   ,   0.786],\n",
       "       [ 20.   ,   3.   ,   0.812],\n",
       "       [ 20.   ,   1.   ,   0.826],\n",
       "       [ 20.   ,   3.   ,   0.848],\n",
       "       [ 20.   , 255.   ,   0.857],\n",
       "       [ 20.   ,   4.   ,   0.866],\n",
       "       [ 20.   ,   1.   ,   0.872],\n",
       "       [ 20.   ,   3.   ,   0.883],\n",
       "       [ 20.   ,   3.   ,   0.898],\n",
       "       [ 20.   ,   4.   ,   0.909],\n",
       "       [ 20.   , 255.   ,   0.926],\n",
       "       [ 20.   ,   3.   ,   0.951],\n",
       "       [ 20.   ,   1.   ,   0.968],\n",
       "       [ 20.   , 255.   ,   0.981],\n",
       "       [ 20.   , 255.   ,   0.992],\n",
       "       [ 20.   , 255.   ,   0.996],\n",
       "       [ 20.   , 255.   ,   1.005],\n",
       "       [ 20.   ,   1.   ,   1.019],\n",
       "       [ 20.   ,   1.   ,   1.026],\n",
       "       [ 20.   ,   1.   ,   1.034],\n",
       "       [ 20.   ,   1.   ,   1.067],\n",
       "       [ 20.   , 255.   ,   1.079],\n",
       "       [ 20.   , 255.   ,   1.098],\n",
       "       [ 20.   ,   1.   ,   1.108],\n",
       "       [ 20.   , 255.   ,   1.117],\n",
       "       [ 20.   ,   1.   ,   1.13 ],\n",
       "       [ 20.   ,   1.   ,   1.179],\n",
       "       [ 20.   ,   1.   ,   1.191],\n",
       "       [ 20.   ,   1.   ,   1.201],\n",
       "       [ 20.   ,   1.   ,   1.205],\n",
       "       [ 20.   ,   1.   ,   1.209],\n",
       "       [ 20.   , 255.   ,   1.214],\n",
       "       [ 20.   ,   1.   ,   1.225],\n",
       "       [ 20.   ,   1.   ,   1.254],\n",
       "       [ 20.   ,   1.   ,   1.259],\n",
       "       [ 20.   ,   1.   ,   1.272],\n",
       "       [ 20.   ,   1.   ,   1.277],\n",
       "       [ 20.   ,   1.   ,   1.289],\n",
       "       [ 20.   ,   1.   ,   1.297],\n",
       "       [ 20.   , 255.   ,   1.303],\n",
       "       [ 20.   ,   1.   ,   1.328],\n",
       "       [ 20.   ,   1.   ,   1.334],\n",
       "       [ 20.   ,   1.   ,   1.35 ],\n",
       "       [ 20.   ,   1.   ,   1.364],\n",
       "       [ 20.   ,   1.   ,   1.377],\n",
       "       [ 20.   ,   1.   ,   1.402],\n",
       "       [ 20.   , 255.   ,   1.415],\n",
       "       [ 20.   ,   1.   ,   1.427],\n",
       "       [ 20.   ,   1.   ,   1.45 ],\n",
       "       [ 20.   , 255.   ,   1.47 ],\n",
       "       [ 20.   , 255.   ,   1.473],\n",
       "       [ 20.   ,   1.   ,   1.489],\n",
       "       [ 20.   , 255.   ,   1.506],\n",
       "       [ 20.   ,   1.   ,   1.512],\n",
       "       [ 20.   , 255.   ,   1.518],\n",
       "       [ 20.   ,   1.   ,   1.533],\n",
       "       [ 20.   ,   1.   ,   1.553],\n",
       "       [ 20.   , 255.   ,   1.568],\n",
       "       [ 20.   ,   1.   ,   1.591],\n",
       "       [ 20.   ,   1.   ,   1.6  ],\n",
       "       [ 20.   ,   1.   ,   1.605],\n",
       "       [ 20.   , 255.   ,   1.61 ],\n",
       "       [ 20.   ,   1.   ,   1.616],\n",
       "       [ 20.   ,   1.   ,   1.66 ],\n",
       "       [ 20.   ,   1.   ,   1.667],\n",
       "       [ 20.   ,   1.   ,   1.682],\n",
       "       [ 20.   , 255.   ,   1.689],\n",
       "       [ 20.   ,   1.   ,   1.719],\n",
       "       [ 20.   ,   1.   ,   1.729],\n",
       "       [ 20.   ,   1.   ,   1.744],\n",
       "       [ 20.   , 255.   ,   1.75 ],\n",
       "       [ 20.   ,   1.   ,   1.788],\n",
       "       [ 20.   ,   1.   ,   1.816],\n",
       "       [ 20.   ,   1.   ,   1.834],\n",
       "       [ 20.   ,   1.   ,   1.848],\n",
       "       [ 20.   ,   1.   ,   1.875],\n",
       "       [ 20.   ,   1.   ,   1.896],\n",
       "       [ 20.   ,   1.   ,   1.904],\n",
       "       [ 20.   ,   1.   ,   1.911],\n",
       "       [ 20.   ,   1.   ,   1.913],\n",
       "       [ 20.   ,   3.   ,   1.928],\n",
       "       [ 20.   ,   3.   ,   1.954],\n",
       "       [ 20.   ,   1.   ,   1.961],\n",
       "       [ 20.   ,   1.   ,   1.968],\n",
       "       [ 20.   ,   3.   ,   1.974],\n",
       "       [ 20.   ,   3.   ,   1.98 ],\n",
       "       [ 20.   ,   1.   ,   1.996],\n",
       "       [ 20.   ,   3.   ,   2.024],\n",
       "       [ 42.   ,   1.   ,   2.425],\n",
       "       [ 42.   ,   1.   ,   2.452],\n",
       "       [ 42.   ,   1.   ,   2.483],\n",
       "       [ 42.   ,   1.   ,   2.515],\n",
       "       [ 42.   ,   1.   ,   2.545],\n",
       "       [ 42.   ,   1.   ,   2.727],\n",
       "       [ 42.   ,   1.   ,   2.771],\n",
       "       [ 42.   ,   1.   ,   2.774],\n",
       "       [ 42.   ,   1.   ,   2.782],\n",
       "       [ 42.   ,   1.   ,   2.802],\n",
       "       [ 42.   ,   1.   ,   2.852],\n",
       "       [ 42.   ,   1.   ,   2.862],\n",
       "       [ 72.   ,   1.   ,   0.478],\n",
       "       [ 72.   ,   1.   ,   0.551],\n",
       "       [ 72.   ,   1.   ,   0.56 ],\n",
       "       [ 72.   ,   1.   ,   0.583],\n",
       "       [ 72.   ,   1.   ,   0.592],\n",
       "       [ 72.   ,   1.   ,   0.616],\n",
       "       [ 72.   ,   1.   ,   0.634],\n",
       "       [ 72.   ,   1.   ,   0.637],\n",
       "       [ 72.   ,   1.   ,   0.64 ],\n",
       "       [ 72.   ,   1.   ,   0.644],\n",
       "       [ 72.   ,   1.   ,   0.666],\n",
       "       [ 72.   ,   1.   ,   0.689],\n",
       "       [ 72.   ,   1.   ,   0.76 ],\n",
       "       [ 72.   ,   1.   ,   0.78 ],\n",
       "       [ 72.   ,   1.   ,   0.794],\n",
       "       [ 72.   ,   1.   ,   0.798],\n",
       "       [ 72.   ,   1.   ,   0.871],\n",
       "       [ 72.   ,   1.   ,   0.907],\n",
       "       [ 72.   ,   1.   ,   0.927],\n",
       "       [ 72.   ,   1.   ,   0.968],\n",
       "       [ 72.   ,   1.   ,   0.975],\n",
       "       [ 72.   ,   1.   ,   1.02 ],\n",
       "       [ 72.   ,   1.   ,   1.061],\n",
       "       [ 72.   ,   1.   ,   1.069],\n",
       "       [ 72.   ,   1.   ,   1.128],\n",
       "       [ 72.   ,   1.   ,   1.157],\n",
       "       [ 72.   ,   1.   ,   1.181],\n",
       "       [ 72.   ,   1.   ,   1.187],\n",
       "       [ 72.   ,   1.   ,   1.224],\n",
       "       [ 72.   ,   1.   ,   1.232],\n",
       "       [ 72.   ,   1.   ,   1.281],\n",
       "       [ 72.   ,   1.   ,   1.293],\n",
       "       [ 72.   ,   1.   ,   1.303],\n",
       "       [ 72.   ,   1.   ,   1.305],\n",
       "       [ 72.   ,   1.   ,   1.345],\n",
       "       [ 72.   ,   1.   ,   1.37 ],\n",
       "       [ 72.   ,   1.   ,   1.406],\n",
       "       [ 72.   ,   1.   ,   1.414],\n",
       "       [ 72.   ,   1.   ,   1.438],\n",
       "       [ 72.   ,   1.   ,   1.451],\n",
       "       [ 72.   ,   1.   ,   1.479],\n",
       "       [ 72.   ,   1.   ,   1.485],\n",
       "       [ 72.   ,   1.   ,   1.506],\n",
       "       [ 72.   ,   1.   ,   1.522],\n",
       "       [ 72.   ,   1.   ,   1.556],\n",
       "       [ 72.   , 255.   ,   1.56 ],\n",
       "       [ 72.   ,   1.   ,   1.566],\n",
       "       [ 72.   , 255.   ,   1.576],\n",
       "       [ 72.   , 255.   ,   1.586],\n",
       "       [ 72.   ,   1.   ,   1.603],\n",
       "       [ 72.   ,   1.   ,   1.617],\n",
       "       [ 72.   ,   1.   ,   1.626],\n",
       "       [ 72.   ,   1.   ,   1.659],\n",
       "       [ 72.   ,   1.   ,   1.694],\n",
       "       [ 72.   ,   1.   ,   1.712],\n",
       "       [ 72.   ,   1.   ,   1.73 ],\n",
       "       [ 72.   ,   1.   ,   1.743],\n",
       "       [ 72.   ,   1.   ,   1.785],\n",
       "       [ 72.   ,   1.   ,   1.8  ],\n",
       "       [ 72.   ,   1.   ,   1.814],\n",
       "       [ 72.   ,   1.   ,   1.84 ],\n",
       "       [ 72.   , 255.   ,   1.868],\n",
       "       [ 72.   ,   1.   ,   1.889],\n",
       "       [ 72.   ,   1.   ,   1.903],\n",
       "       [ 72.   , 255.   ,   1.975],\n",
       "       [ 72.   ,   1.   ,   1.982],\n",
       "       [ 72.   ,   1.   ,   2.003],\n",
       "       [ 72.   ,   1.   ,   2.052],\n",
       "       [ 72.   ,   1.   ,   2.066],\n",
       "       [ 72.   ,   1.   ,   2.107],\n",
       "       [ 72.   ,   1.   ,   2.116],\n",
       "       [ 72.   ,   1.   ,   2.151],\n",
       "       [ 72.   ,   1.   ,   2.22 ],\n",
       "       [ 72.   ,   1.   ,   2.29 ],\n",
       "       [ 72.   ,   1.   ,   2.378],\n",
       "       [ 72.   ,   1.   ,   2.472],\n",
       "       [ 72.   ,   1.   ,   2.488],\n",
       "       [ 72.   ,   1.   ,   2.506],\n",
       "       [ 72.   ,   1.   ,   2.627],\n",
       "       [ 72.   ,   1.   ,   2.643],\n",
       "       [ 72.   ,   1.   ,   2.752],\n",
       "       [ 72.   ,   1.   ,   2.762],\n",
       "       [ 72.   ,   1.   ,   2.772],\n",
       "       [ 72.   , 255.   ,   2.775],\n",
       "       [ 20.   ,   3.   ,   2.039],\n",
       "       [ 20.   ,   3.   ,   2.047],\n",
       "       [ 20.   ,   1.   ,   2.053],\n",
       "       [ 20.   ,   3.   ,   2.064],\n",
       "       [ 20.   ,   1.   ,   2.114],\n",
       "       [ 20.   , 255.   ,   2.253],\n",
       "       [ 20.   ,   3.   ,   2.257],\n",
       "       [ 20.   ,   1.   ,   2.279],\n",
       "       [ 20.   , 255.   ,   2.689],\n",
       "       [ 20.   , 255.   ,   2.845],\n",
       "       [ 20.   ,   1.   ,   2.854]], dtype=float32), array([[90.]], dtype=float32))"
      ]
     },
     "execution_count": 10,
     "metadata": {},
     "output_type": "execute_result"
    }
   ],
   "source": [
    "data_in['DATA'][0][0]"
   ]
  },
  {
   "cell_type": "markdown",
   "metadata": {},
   "source": [
    "So, this looks like a long numpy array with 3 columns, and then right down at the bottom of the output, you'll see a second array with a single value (90). That's followed by a final entry that is a `dtype` specification but instead of a normal Python data type, it's a list containing two tuples, one for `nev` and one for `ori`. These provide labels for the contents of the two arrays.\n",
    "\n",
    "Note, however, that the output above starts with `(`, whereas above the output of `data_in['DATA'][0]` started with `array` without a leading `(`. So there's actually another level of embedding. If we ask for the type we see:"
   ]
  },
  {
   "cell_type": "code",
   "execution_count": 11,
   "metadata": {},
   "outputs": [
    {
     "data": {
      "text/plain": [
       "numpy.void"
      ]
     },
     "execution_count": 11,
     "metadata": {},
     "output_type": "execute_result"
    }
   ],
   "source": [
    "type(data_in['DATA'][0][0])"
   ]
  },
  {
   "cell_type": "code",
   "execution_count": 12,
   "metadata": {},
   "outputs": [
    {
     "data": {
      "text/plain": [
       "()"
      ]
     },
     "execution_count": 12,
     "metadata": {},
     "output_type": "execute_result"
    }
   ],
   "source": [
    "data_in['DATA'][0][0].shape"
   ]
  },
  {
   "cell_type": "markdown",
   "metadata": {},
   "source": [
    "We haven't encountered `numpy.void` types before, but they are a special, generic numpy data type that allows one to create a numpy object of arbitrary size. The details of this are beyond the scope of this lesson, but suffice to say that this is a necessary part of converting Matlab's data structures to numpy format. The thing you do need to know is that this `void` data structure adds one more level of embedding, so we need to add another index to drill down into the data:"
   ]
  },
  {
   "cell_type": "code",
   "execution_count": 13,
   "metadata": {},
   "outputs": [
    {
     "data": {
      "text/plain": [
       "numpy.ndarray"
      ]
     },
     "execution_count": 13,
     "metadata": {},
     "output_type": "execute_result"
    }
   ],
   "source": [
    "type(data_in['DATA'][0][0][0])"
   ]
  },
  {
   "cell_type": "code",
   "execution_count": 14,
   "metadata": {
    "collapsed": false,
    "jupyter": {
     "outputs_hidden": false
    },
    "scrolled": true
   },
   "outputs": [
    {
     "data": {
      "text/plain": [
       "(207, 3)"
      ]
     },
     "execution_count": 14,
     "metadata": {},
     "output_type": "execute_result"
    }
   ],
   "source": [
    "data_in['DATA'][0][0][0].shape"
   ]
  },
  {
   "cell_type": "markdown",
   "metadata": {},
   "source": [
    "So `data_in['DATA'][0][0][0]` is the `nev` portion of the data for the first trial in the experiment. It's long, but if we look at the first 10 rows we can confirm that this is the `nev` array for this trial, with 3 columns (electrode ID, sort code, and time of spike).\n",
    "Rows in each `nev` matrix represent individual spikes per trial, one for each spike. Column 1 encodes which electrode the spike was recorded on, column 2 is a sort code, and column 3 is the time since the beginning of the trial. "
   ]
  },
  {
   "cell_type": "code",
   "execution_count": 15,
   "metadata": {
    "collapsed": false,
    "jupyter": {
     "outputs_hidden": false
    }
   },
   "outputs": [
    {
     "data": {
      "text/plain": [
       "array([[ 20.   ,   1.   ,   0.624],\n",
       "       [ 20.   ,   1.   ,   0.63 ],\n",
       "       [ 20.   ,   3.   ,   0.652],\n",
       "       [ 20.   ,   3.   ,   0.659],\n",
       "       [ 20.   , 255.   ,   0.686],\n",
       "       [ 20.   ,   1.   ,   0.689],\n",
       "       [ 20.   ,   1.   ,   0.711],\n",
       "       [ 20.   , 255.   ,   0.731],\n",
       "       [ 20.   ,   3.   ,   0.742],\n",
       "       [ 20.   ,   3.   ,   0.757]], dtype=float32)"
      ]
     },
     "execution_count": 15,
     "metadata": {},
     "output_type": "execute_result"
    }
   ],
   "source": [
    "data_in['DATA'][0][0][0][:10]"
   ]
  },
  {
   "cell_type": "markdown",
   "metadata": {},
   "source": [
    "Each trial's data also contains the orientation of the stimulus, in the second field of the embedded NumPy array. Let's look at this for the first trial:"
   ]
  },
  {
   "cell_type": "code",
   "execution_count": 16,
   "metadata": {},
   "outputs": [
    {
     "data": {
      "text/plain": [
       "array([[90.]], dtype=float32)"
      ]
     },
     "execution_count": 16,
     "metadata": {},
     "output_type": "execute_result"
    }
   ],
   "source": [
    "data_in['DATA'][0][0][1]"
   ]
  },
  {
   "cell_type": "markdown",
   "metadata": {},
   "source": [
    "Note that the value (90) is sinde two sets of brackets, so to get the orientation as a simple float, we need to go down two more embeddings:"
   ]
  },
  {
   "cell_type": "code",
   "execution_count": 17,
   "metadata": {},
   "outputs": [
    {
     "data": {
      "text/plain": [
       "90.0"
      ]
     },
     "execution_count": 17,
     "metadata": {},
     "output_type": "execute_result"
    }
   ],
   "source": [
    "data_in['DATA'][0][0][1][0][0]"
   ]
  },
  {
   "cell_type": "markdown",
   "metadata": {},
   "source": [
    "OK, now let's look at the second trial:"
   ]
  },
  {
   "cell_type": "code",
   "execution_count": 18,
   "metadata": {
    "collapsed": false,
    "jupyter": {
     "outputs_hidden": false
    },
    "scrolled": true
   },
   "outputs": [
    {
     "data": {
      "text/plain": [
       "(1655, 3)"
      ]
     },
     "execution_count": 18,
     "metadata": {},
     "output_type": "execute_result"
    }
   ],
   "source": [
    "data_in['DATA'][1][0][0].shape"
   ]
  },
  {
   "cell_type": "code",
   "execution_count": 19,
   "metadata": {},
   "outputs": [
    {
     "data": {
      "text/plain": [
       "array([[ 7.800e+01,  0.000e+00, -1.080e-01],\n",
       "       [ 9.400e+01,  1.000e+00, -1.090e-01],\n",
       "       [ 3.500e+01,  2.550e+02, -1.050e-01],\n",
       "       ...,\n",
       "       [ 1.900e+01,  1.000e+00,  2.614e+00],\n",
       "       [ 2.200e+01,  1.000e+00,  2.618e+00],\n",
       "       [ 8.000e+00,  1.000e+00,  2.620e+00]], dtype=float32)"
      ]
     },
     "execution_count": 19,
     "metadata": {},
     "output_type": "execute_result"
    }
   ],
   "source": [
    "data_in['DATA'][1][0][0]"
   ]
  },
  {
   "cell_type": "markdown",
   "metadata": {},
   "source": [
    "Each trial has a different number of rows (depending on the number of spikes that were recorded on that trial), but always 3 columns. Note that numpy sometimes shows you values in standard float notation (as we saw above for the first trial), and sometimes as scientific (exponential) notation (as we see for this second trial). The latter is used if there are very small or large values that would take too many digits to represent in standard notation. These are just different ways of showing the data; note that for both trials, the `dtype=float32`.\n",
    "\n",
    "Let's check the orientation for this second trial:"
   ]
  },
  {
   "cell_type": "code",
   "execution_count": 20,
   "metadata": {},
   "outputs": [
    {
     "data": {
      "text/plain": [
       "0.0"
      ]
     },
     "execution_count": 20,
     "metadata": {},
     "output_type": "execute_result"
    }
   ],
   "source": [
    "data_in['DATA'][1][0][1][0][0]"
   ]
  },
  {
   "cell_type": "markdown",
   "metadata": {},
   "source": [
    "Now that we've dug into the depths of a Matlab file and figured out the data structure, we can proceed with reading in the data and converting it to a format that's easier and more familiar to work with in Python. There are several options, including dictionaries, lists, and NumPy arrays. But since we've worked so much with pandas, we're going to import the data into a pandas DataFrame and demonstrate how easy it is to work with multielectrode data in pandas."
   ]
  }
 ],
 "metadata": {
  "anaconda-cloud": {},
  "kernelspec": {
   "display_name": "Python 3 (ipykernel)",
   "language": "python",
   "name": "python3"
  },
  "language_info": {
   "codemirror_mode": {
    "name": "ipython",
    "version": 3
   },
   "file_extension": ".py",
   "mimetype": "text/x-python",
   "name": "python",
   "nbconvert_exporter": "python",
   "pygments_lexer": "ipython3",
   "version": "3.9.7"
  }
 },
 "nbformat": 4,
 "nbformat_minor": 4
}
